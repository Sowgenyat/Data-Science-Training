{
  "nbformat": 4,
  "nbformat_minor": 0,
  "metadata": {
    "colab": {
      "provenance": []
    },
    "kernelspec": {
      "name": "python3",
      "display_name": "Python 3"
    },
    "language_info": {
      "name": "python"
    }
  },
  "cells": [
    {
      "cell_type": "markdown",
      "source": [
        "#Week-4 RetailSales Dashboard"
      ],
      "metadata": {
        "id": "A3ca3SXVh9VB"
      }
    },
    {
      "cell_type": "code",
      "execution_count": 1,
      "metadata": {
        "colab": {
          "base_uri": "https://localhost:8080/",
          "height": 73
        },
        "id": "0yPLbiWMh4tE",
        "outputId": "20664069-0efd-4a75-8b98-76df1f92531b"
      },
      "outputs": [
        {
          "output_type": "display_data",
          "data": {
            "text/plain": [
              "<IPython.core.display.HTML object>"
            ],
            "text/html": [
              "\n",
              "     <input type=\"file\" id=\"files-fce1de86-1333-494c-b892-dd5787f608f2\" name=\"files[]\" multiple disabled\n",
              "        style=\"border:none\" />\n",
              "     <output id=\"result-fce1de86-1333-494c-b892-dd5787f608f2\">\n",
              "      Upload widget is only available when the cell has been executed in the\n",
              "      current browser session. Please rerun this cell to enable.\n",
              "      </output>\n",
              "      <script>// Copyright 2017 Google LLC\n",
              "//\n",
              "// Licensed under the Apache License, Version 2.0 (the \"License\");\n",
              "// you may not use this file except in compliance with the License.\n",
              "// You may obtain a copy of the License at\n",
              "//\n",
              "//      http://www.apache.org/licenses/LICENSE-2.0\n",
              "//\n",
              "// Unless required by applicable law or agreed to in writing, software\n",
              "// distributed under the License is distributed on an \"AS IS\" BASIS,\n",
              "// WITHOUT WARRANTIES OR CONDITIONS OF ANY KIND, either express or implied.\n",
              "// See the License for the specific language governing permissions and\n",
              "// limitations under the License.\n",
              "\n",
              "/**\n",
              " * @fileoverview Helpers for google.colab Python module.\n",
              " */\n",
              "(function(scope) {\n",
              "function span(text, styleAttributes = {}) {\n",
              "  const element = document.createElement('span');\n",
              "  element.textContent = text;\n",
              "  for (const key of Object.keys(styleAttributes)) {\n",
              "    element.style[key] = styleAttributes[key];\n",
              "  }\n",
              "  return element;\n",
              "}\n",
              "\n",
              "// Max number of bytes which will be uploaded at a time.\n",
              "const MAX_PAYLOAD_SIZE = 100 * 1024;\n",
              "\n",
              "function _uploadFiles(inputId, outputId) {\n",
              "  const steps = uploadFilesStep(inputId, outputId);\n",
              "  const outputElement = document.getElementById(outputId);\n",
              "  // Cache steps on the outputElement to make it available for the next call\n",
              "  // to uploadFilesContinue from Python.\n",
              "  outputElement.steps = steps;\n",
              "\n",
              "  return _uploadFilesContinue(outputId);\n",
              "}\n",
              "\n",
              "// This is roughly an async generator (not supported in the browser yet),\n",
              "// where there are multiple asynchronous steps and the Python side is going\n",
              "// to poll for completion of each step.\n",
              "// This uses a Promise to block the python side on completion of each step,\n",
              "// then passes the result of the previous step as the input to the next step.\n",
              "function _uploadFilesContinue(outputId) {\n",
              "  const outputElement = document.getElementById(outputId);\n",
              "  const steps = outputElement.steps;\n",
              "\n",
              "  const next = steps.next(outputElement.lastPromiseValue);\n",
              "  return Promise.resolve(next.value.promise).then((value) => {\n",
              "    // Cache the last promise value to make it available to the next\n",
              "    // step of the generator.\n",
              "    outputElement.lastPromiseValue = value;\n",
              "    return next.value.response;\n",
              "  });\n",
              "}\n",
              "\n",
              "/**\n",
              " * Generator function which is called between each async step of the upload\n",
              " * process.\n",
              " * @param {string} inputId Element ID of the input file picker element.\n",
              " * @param {string} outputId Element ID of the output display.\n",
              " * @return {!Iterable<!Object>} Iterable of next steps.\n",
              " */\n",
              "function* uploadFilesStep(inputId, outputId) {\n",
              "  const inputElement = document.getElementById(inputId);\n",
              "  inputElement.disabled = false;\n",
              "\n",
              "  const outputElement = document.getElementById(outputId);\n",
              "  outputElement.innerHTML = '';\n",
              "\n",
              "  const pickedPromise = new Promise((resolve) => {\n",
              "    inputElement.addEventListener('change', (e) => {\n",
              "      resolve(e.target.files);\n",
              "    });\n",
              "  });\n",
              "\n",
              "  const cancel = document.createElement('button');\n",
              "  inputElement.parentElement.appendChild(cancel);\n",
              "  cancel.textContent = 'Cancel upload';\n",
              "  const cancelPromise = new Promise((resolve) => {\n",
              "    cancel.onclick = () => {\n",
              "      resolve(null);\n",
              "    };\n",
              "  });\n",
              "\n",
              "  // Wait for the user to pick the files.\n",
              "  const files = yield {\n",
              "    promise: Promise.race([pickedPromise, cancelPromise]),\n",
              "    response: {\n",
              "      action: 'starting',\n",
              "    }\n",
              "  };\n",
              "\n",
              "  cancel.remove();\n",
              "\n",
              "  // Disable the input element since further picks are not allowed.\n",
              "  inputElement.disabled = true;\n",
              "\n",
              "  if (!files) {\n",
              "    return {\n",
              "      response: {\n",
              "        action: 'complete',\n",
              "      }\n",
              "    };\n",
              "  }\n",
              "\n",
              "  for (const file of files) {\n",
              "    const li = document.createElement('li');\n",
              "    li.append(span(file.name, {fontWeight: 'bold'}));\n",
              "    li.append(span(\n",
              "        `(${file.type || 'n/a'}) - ${file.size} bytes, ` +\n",
              "        `last modified: ${\n",
              "            file.lastModifiedDate ? file.lastModifiedDate.toLocaleDateString() :\n",
              "                                    'n/a'} - `));\n",
              "    const percent = span('0% done');\n",
              "    li.appendChild(percent);\n",
              "\n",
              "    outputElement.appendChild(li);\n",
              "\n",
              "    const fileDataPromise = new Promise((resolve) => {\n",
              "      const reader = new FileReader();\n",
              "      reader.onload = (e) => {\n",
              "        resolve(e.target.result);\n",
              "      };\n",
              "      reader.readAsArrayBuffer(file);\n",
              "    });\n",
              "    // Wait for the data to be ready.\n",
              "    let fileData = yield {\n",
              "      promise: fileDataPromise,\n",
              "      response: {\n",
              "        action: 'continue',\n",
              "      }\n",
              "    };\n",
              "\n",
              "    // Use a chunked sending to avoid message size limits. See b/62115660.\n",
              "    let position = 0;\n",
              "    do {\n",
              "      const length = Math.min(fileData.byteLength - position, MAX_PAYLOAD_SIZE);\n",
              "      const chunk = new Uint8Array(fileData, position, length);\n",
              "      position += length;\n",
              "\n",
              "      const base64 = btoa(String.fromCharCode.apply(null, chunk));\n",
              "      yield {\n",
              "        response: {\n",
              "          action: 'append',\n",
              "          file: file.name,\n",
              "          data: base64,\n",
              "        },\n",
              "      };\n",
              "\n",
              "      let percentDone = fileData.byteLength === 0 ?\n",
              "          100 :\n",
              "          Math.round((position / fileData.byteLength) * 100);\n",
              "      percent.textContent = `${percentDone}% done`;\n",
              "\n",
              "    } while (position < fileData.byteLength);\n",
              "  }\n",
              "\n",
              "  // All done.\n",
              "  yield {\n",
              "    response: {\n",
              "      action: 'complete',\n",
              "    }\n",
              "  };\n",
              "}\n",
              "\n",
              "scope.google = scope.google || {};\n",
              "scope.google.colab = scope.google.colab || {};\n",
              "scope.google.colab._files = {\n",
              "  _uploadFiles,\n",
              "  _uploadFilesContinue,\n",
              "};\n",
              "})(self);\n",
              "</script> "
            ]
          },
          "metadata": {}
        },
        {
          "output_type": "stream",
          "name": "stdout",
          "text": [
            "Saving cleaned_sales_data.csv to cleaned_sales_data.csv\n"
          ]
        }
      ],
      "source": [
        "from google.colab import files\n",
        "uploaded = files.upload()\n"
      ]
    },
    {
      "cell_type": "code",
      "source": [
        "import pandas as pd\n",
        "df_check = pd.read_csv(\"cleaned_sales_data.csv\")\n",
        "print(df_check.head())\n"
      ],
      "metadata": {
        "colab": {
          "base_uri": "https://localhost:8080/"
        },
        "id": "HVhVEUWYidNy",
        "outputId": "9eb0d115-3c74-4ea1-e8f5-d165e928380c"
      },
      "execution_count": 2,
      "outputs": [
        {
          "output_type": "stream",
          "name": "stdout",
          "text": [
            "   sale_id   sale_date  quantity product_name     category    price     cost  \\\n",
            "0        1  2025-07-01         3       Laptop  Electronics  54000.0  48000.0   \n",
            "1        2  2025-07-01        10        Mouse  Electronics    700.0    500.0   \n",
            "2        4  2025-07-02        15   Headphones  Electronics   1500.0   1000.0   \n",
            "3        5  2025-07-02        20        Shirt     Clothing   1200.0    800.0   \n",
            "4        6  2025-07-03        10        Shoes     Clothing   2500.0   1800.0   \n",
            "\n",
            "   store_name region employee_name             role   revenue   profit  \\\n",
            "0  All things  South   Rohit Kumar  Sales Associate  162000.0  18000.0   \n",
            "1  Delhi Mall  North       Ankitha          Cashier    7000.0   2000.0   \n",
            "2  All things  South   Rohit Kumar  Sales Associate   22500.0   7500.0   \n",
            "3  Delhi Mall  North       Ankitha          Cashier   24000.0   8000.0   \n",
            "4  All things  South   Rohit Kumar  Sales Associate   25000.0   7000.0   \n",
            "\n",
            "   profit_margin  \n",
            "0      11.111111  \n",
            "1      28.571429  \n",
            "2      33.333333  \n",
            "3      33.333333  \n",
            "4      28.000000  \n"
          ]
        }
      ]
    },
    {
      "cell_type": "code",
      "source": [
        "from pyspark.sql import SparkSession\n",
        "from pyspark.sql.functions import col, sum as _sum, round\n",
        "spark = SparkSession.builder.appName(\"RetailSalesETL\").getOrCreate()\n",
        "df = spark.read.csv(\"cleaned_sales_data.csv\", header=True, inferSchema=True)\n",
        "df.show()\n",
        "\n"
      ],
      "metadata": {
        "colab": {
          "base_uri": "https://localhost:8080/"
        },
        "id": "O7gMYmscihvF",
        "outputId": "5671152c-ad28-43fe-f785-8e53152b5ddf"
      },
      "execution_count": 3,
      "outputs": [
        {
          "output_type": "stream",
          "name": "stdout",
          "text": [
            "+-------+----------+--------+------------+-----------+-------+-------+----------+------+-------------+---------------+--------+-------+------------------+\n",
            "|sale_id| sale_date|quantity|product_name|   category|  price|   cost|store_name|region|employee_name|           role| revenue| profit|     profit_margin|\n",
            "+-------+----------+--------+------------+-----------+-------+-------+----------+------+-------------+---------------+--------+-------+------------------+\n",
            "|      1|2025-07-01|       3|      Laptop|Electronics|54000.0|48000.0|All things| South|  Rohit Kumar|Sales Associate|162000.0|18000.0| 11.11111111111111|\n",
            "|      2|2025-07-01|      10|       Mouse|Electronics|  700.0|  500.0|Delhi Mall| North|      Ankitha|        Cashier|  7000.0| 2000.0| 28.57142857142857|\n",
            "|      4|2025-07-02|      15|  Headphones|Electronics| 1500.0| 1000.0|All things| South|  Rohit Kumar|Sales Associate| 22500.0| 7500.0| 33.33333333333333|\n",
            "|      5|2025-07-02|      20|       Shirt|   Clothing| 1200.0|  800.0|Delhi Mall| North|      Ankitha|        Cashier| 24000.0| 8000.0| 33.33333333333333|\n",
            "|      6|2025-07-03|      10|       Shoes|   Clothing| 2500.0| 1800.0|All things| South|  Rohit Kumar|Sales Associate| 25000.0| 7000.0|28.000000000000004|\n",
            "|      7|2025-07-03|       3|        Sofa|  Furniture|20000.0|15000.0|Delhi Mall| North|      Ankitha|        Cashier| 60000.0|15000.0|              25.0|\n",
            "+-------+----------+--------+------------+-----------+-------+-------+----------+------+-------------+---------------+--------+-------+------------------+\n",
            "\n"
          ]
        }
      ]
    },
    {
      "cell_type": "code",
      "source": [
        "# 3. Transformation: Revenue, Profit, Profit Margin by Category\n",
        "category_metrics = (\n",
        "    df.groupBy(\"category\")\n",
        "      .agg(\n",
        "          _sum(col(\"revenue\")).alias(\"total_revenue\"),\n",
        "          _sum(col(\"profit\")).alias(\"total_profit\")\n",
        "      )\n",
        "      .withColumn(\"profit_margin\", round((col(\"total_profit\")/col(\"total_revenue\"))*100, 2))\n",
        ")\n",
        "\n",
        "print(\"Category-level Metrics:\")\n",
        "category_metrics.show()\n",
        "\n",
        "# 4. Save results as CSV (simulating Delta/CSV output in Databricks)\n",
        "category_metrics.toPandas().to_csv(\"category_metrics.csv\", index=False)\n",
        "\n",
        "# 5. Register TempView for SQL queries\n",
        "df.createOrReplaceTempView(\"sales_data\")\n",
        "\n",
        "# 6. Run SQL query: Top 3 best-selling products\n",
        "top_products = spark.sql(\"\"\"\n",
        "    SELECT product_name, SUM(quantity) AS total_sold\n",
        "    FROM sales_data\n",
        "    GROUP BY product_name\n",
        "    ORDER BY total_sold DESC\n",
        "    LIMIT 3\n",
        "\"\"\")\n",
        "\n",
        "print(\"Top 3 Best-Selling Products:\")\n",
        "top_products.show()\n",
        "\n",
        "# Save SQL output\n",
        "top_products.toPandas().to_csv(\"top_3_products.csv\", index=False)\n"
      ],
      "metadata": {
        "colab": {
          "base_uri": "https://localhost:8080/"
        },
        "id": "Pk5-D8IvimC1",
        "outputId": "6e49daf0-c561-4301-d2f8-9f57b9b0fdb6"
      },
      "execution_count": 4,
      "outputs": [
        {
          "output_type": "stream",
          "name": "stdout",
          "text": [
            "Category-level Metrics:\n",
            "+-----------+-------------+------------+-------------+\n",
            "|   category|total_revenue|total_profit|profit_margin|\n",
            "+-----------+-------------+------------+-------------+\n",
            "|Electronics|     191500.0|     27500.0|        14.36|\n",
            "|   Clothing|      49000.0|     15000.0|        30.61|\n",
            "|  Furniture|      60000.0|     15000.0|         25.0|\n",
            "+-----------+-------------+------------+-------------+\n",
            "\n",
            "Top 3 Best-Selling Products:\n",
            "+------------+----------+\n",
            "|product_name|total_sold|\n",
            "+------------+----------+\n",
            "|       Shirt|        20|\n",
            "|  Headphones|        15|\n",
            "|       Shoes|        10|\n",
            "+------------+----------+\n",
            "\n"
          ]
        }
      ]
    },
    {
      "cell_type": "code",
      "source": [
        "category_metrics.toPandas().to_csv(\"category_metrics.csv\", index=False)\n",
        "\n",
        "# Download result to your laptop\n",
        "files.download(\"category_metrics.csv\")\n"
      ],
      "metadata": {
        "colab": {
          "base_uri": "https://localhost:8080/",
          "height": 17
        },
        "id": "eMj3H3gsjSGN",
        "outputId": "fd7e755d-aa75-416d-a23f-910c9ea51706"
      },
      "execution_count": 6,
      "outputs": [
        {
          "output_type": "display_data",
          "data": {
            "text/plain": [
              "<IPython.core.display.Javascript object>"
            ],
            "application/javascript": [
              "\n",
              "    async function download(id, filename, size) {\n",
              "      if (!google.colab.kernel.accessAllowed) {\n",
              "        return;\n",
              "      }\n",
              "      const div = document.createElement('div');\n",
              "      const label = document.createElement('label');\n",
              "      label.textContent = `Downloading \"${filename}\": `;\n",
              "      div.appendChild(label);\n",
              "      const progress = document.createElement('progress');\n",
              "      progress.max = size;\n",
              "      div.appendChild(progress);\n",
              "      document.body.appendChild(div);\n",
              "\n",
              "      const buffers = [];\n",
              "      let downloaded = 0;\n",
              "\n",
              "      const channel = await google.colab.kernel.comms.open(id);\n",
              "      // Send a message to notify the kernel that we're ready.\n",
              "      channel.send({})\n",
              "\n",
              "      for await (const message of channel.messages) {\n",
              "        // Send a message to notify the kernel that we're ready.\n",
              "        channel.send({})\n",
              "        if (message.buffers) {\n",
              "          for (const buffer of message.buffers) {\n",
              "            buffers.push(buffer);\n",
              "            downloaded += buffer.byteLength;\n",
              "            progress.value = downloaded;\n",
              "          }\n",
              "        }\n",
              "      }\n",
              "      const blob = new Blob(buffers, {type: 'application/binary'});\n",
              "      const a = document.createElement('a');\n",
              "      a.href = window.URL.createObjectURL(blob);\n",
              "      a.download = filename;\n",
              "      div.appendChild(a);\n",
              "      a.click();\n",
              "      div.remove();\n",
              "    }\n",
              "  "
            ]
          },
          "metadata": {}
        },
        {
          "output_type": "display_data",
          "data": {
            "text/plain": [
              "<IPython.core.display.Javascript object>"
            ],
            "application/javascript": [
              "download(\"download_da1df551-92df-4513-bf30-5af99ffcb38e\", \"category_metrics.csv\", 147)"
            ]
          },
          "metadata": {}
        }
      ]
    }
  ]
}