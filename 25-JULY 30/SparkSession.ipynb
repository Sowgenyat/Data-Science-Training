{
  "nbformat": 4,
  "nbformat_minor": 0,
  "metadata": {
    "colab": {
      "provenance": []
    },
    "kernelspec": {
      "name": "python3",
      "display_name": "Python 3"
    },
    "language_info": {
      "name": "python"
    }
  },
  "cells": [
    {
      "cell_type": "markdown",
      "source": [
        "#Spark Exercise-1"
      ],
      "metadata": {
        "id": "_txlPH89ABBe"
      }
    },
    {
      "cell_type": "code",
      "execution_count": 1,
      "metadata": {
        "colab": {
          "base_uri": "https://localhost:8080/",
          "height": 219
        },
        "id": "lmlYO4Lr_7cZ",
        "outputId": "10e31022-42df-469e-9d30-26a88372e374"
      },
      "outputs": [
        {
          "output_type": "execute_result",
          "data": {
            "text/plain": [
              "<pyspark.sql.session.SparkSession at 0x7cf0cc758790>"
            ],
            "text/html": [
              "\n",
              "            <div>\n",
              "                <p><b>SparkSession - in-memory</b></p>\n",
              "                \n",
              "        <div>\n",
              "            <p><b>SparkContext</b></p>\n",
              "\n",
              "            <p><a href=\"http://a99b1ba26f26:4040\">Spark UI</a></p>\n",
              "\n",
              "            <dl>\n",
              "              <dt>Version</dt>\n",
              "                <dd><code>v3.5.1</code></dd>\n",
              "              <dt>Master</dt>\n",
              "                <dd><code>local[*]</code></dd>\n",
              "              <dt>AppName</dt>\n",
              "                <dd><code>ProductSalesAnalysis</code></dd>\n",
              "            </dl>\n",
              "        </div>\n",
              "        \n",
              "            </div>\n",
              "        "
            ]
          },
          "metadata": {},
          "execution_count": 1
        }
      ],
      "source": [
        "from pyspark.sql import SparkSession\n",
        "\n",
        "spark = SparkSession.builder.appName(\"ProductSalesAnalysis\").getOrCreate()\n",
        "spark"
      ]
    },
    {
      "cell_type": "markdown",
      "source": [
        "#Task:\n",
        "1. Read the file into a PySpark DataFrame with header and inferred schema.\n",
        "2. Print schema and show top 5 rows."
      ],
      "metadata": {
        "id": "9hVQjpFzBe-q"
      }
    },
    {
      "cell_type": "code",
      "source": [
        "data = \"\"\"OrderID,Product,Category,Quantity,UnitPrice,Region\n",
        "1001,Mobile,Electronics,2,15000,North\n",
        "1002,Laptop,Electronics,1,55000,South\n",
        "1003,T-Shirt,Apparel,3,500,East\n",
        "1004,Jeans,Apparel,2,1200,North\n",
        "1005,TV,Electronics,1,40000,West\n",
        "1006,Shoes,Footwear,4,2000,South\n",
        "1007,Watch,Accessories,2,3000,East\n",
        "1008,Headphones,Electronics,3,2500,North\"\"\"\n",
        "\n",
        "with open(\"sales.csv\", \"w\") as file:\n",
        "    file.write(data)\n"
      ],
      "metadata": {
        "id": "5x78NIX9BdZJ"
      },
      "execution_count": 2,
      "outputs": []
    },
    {
      "cell_type": "code",
      "source": [
        "df = spark.read.csv(\"sales.csv\", header=True, inferSchema=True)\n",
        "df.printSchema()\n",
        "df.show(5)\n"
      ],
      "metadata": {
        "colab": {
          "base_uri": "https://localhost:8080/"
        },
        "id": "OTt1t0DUB61w",
        "outputId": "0134157a-75f6-41ea-b641-a832da6e75be"
      },
      "execution_count": 3,
      "outputs": [
        {
          "output_type": "stream",
          "name": "stdout",
          "text": [
            "root\n",
            " |-- OrderID: integer (nullable = true)\n",
            " |-- Product: string (nullable = true)\n",
            " |-- Category: string (nullable = true)\n",
            " |-- Quantity: integer (nullable = true)\n",
            " |-- UnitPrice: integer (nullable = true)\n",
            " |-- Region: string (nullable = true)\n",
            "\n",
            "+-------+-------+-----------+--------+---------+------+\n",
            "|OrderID|Product|   Category|Quantity|UnitPrice|Region|\n",
            "+-------+-------+-----------+--------+---------+------+\n",
            "|   1001| Mobile|Electronics|       2|    15000| North|\n",
            "|   1002| Laptop|Electronics|       1|    55000| South|\n",
            "|   1003|T-Shirt|    Apparel|       3|      500|  East|\n",
            "|   1004|  Jeans|    Apparel|       2|     1200| North|\n",
            "|   1005|     TV|Electronics|       1|    40000|  West|\n",
            "+-------+-------+-----------+--------+---------+------+\n",
            "only showing top 5 rows\n",
            "\n"
          ]
        }
      ]
    },
    {
      "cell_type": "markdown",
      "source": [
        "#Part 3: Business Questions"
      ],
      "metadata": {
        "id": "rXxW7S05CEcg"
      }
    },
    {
      "cell_type": "markdown",
      "source": [
        "1. Add a new column TotalPrice = Quantity × UnitPrice"
      ],
      "metadata": {
        "id": "LwL2PifoCKRC"
      }
    },
    {
      "cell_type": "code",
      "source": [
        "from pyspark.sql.functions import col\n",
        "df = df.withColumn(\"TotalPrice\", col(\"Quantity\") * col(\"UnitPrice\"))\n",
        "df.show()\n"
      ],
      "metadata": {
        "colab": {
          "base_uri": "https://localhost:8080/"
        },
        "id": "OpHfy2JUCN2A",
        "outputId": "4cdd1fe2-7138-4d37-e311-30159e3b26a6"
      },
      "execution_count": 4,
      "outputs": [
        {
          "output_type": "stream",
          "name": "stdout",
          "text": [
            "+-------+----------+-----------+--------+---------+------+----------+\n",
            "|OrderID|   Product|   Category|Quantity|UnitPrice|Region|TotalPrice|\n",
            "+-------+----------+-----------+--------+---------+------+----------+\n",
            "|   1001|    Mobile|Electronics|       2|    15000| North|     30000|\n",
            "|   1002|    Laptop|Electronics|       1|    55000| South|     55000|\n",
            "|   1003|   T-Shirt|    Apparel|       3|      500|  East|      1500|\n",
            "|   1004|     Jeans|    Apparel|       2|     1200| North|      2400|\n",
            "|   1005|        TV|Electronics|       1|    40000|  West|     40000|\n",
            "|   1006|     Shoes|   Footwear|       4|     2000| South|      8000|\n",
            "|   1007|     Watch|Accessories|       2|     3000|  East|      6000|\n",
            "|   1008|Headphones|Electronics|       3|     2500| North|      7500|\n",
            "+-------+----------+-----------+--------+---------+------+----------+\n",
            "\n"
          ]
        }
      ]
    },
    {
      "cell_type": "markdown",
      "source": [
        "2. Total revenue across all regions"
      ],
      "metadata": {
        "id": "zDlVVFVoCXFw"
      }
    },
    {
      "cell_type": "code",
      "source": [
        "df.agg({\"TotalPrice\": \"sum\"}).show()\n"
      ],
      "metadata": {
        "colab": {
          "base_uri": "https://localhost:8080/"
        },
        "id": "S1j_8FgdCac-",
        "outputId": "d9a41496-e897-4a9e-a0e4-d19498946bc7"
      },
      "execution_count": 5,
      "outputs": [
        {
          "output_type": "stream",
          "name": "stdout",
          "text": [
            "+---------------+\n",
            "|sum(TotalPrice)|\n",
            "+---------------+\n",
            "|         150400|\n",
            "+---------------+\n",
            "\n"
          ]
        }
      ]
    },
    {
      "cell_type": "markdown",
      "source": [
        "3. Category-wise revenue (descending)"
      ],
      "metadata": {
        "id": "HgX6cuW-Cg5R"
      }
    },
    {
      "cell_type": "code",
      "source": [
        "df.groupBy(\"Category\") \\\n",
        "  .sum(\"TotalPrice\") \\\n",
        "  .withColumnRenamed(\"sum(TotalPrice)\", \"CategoryRevenue\") \\\n",
        "  .orderBy(col(\"CategoryRevenue\").desc()) \\\n",
        "  .show()\n"
      ],
      "metadata": {
        "colab": {
          "base_uri": "https://localhost:8080/"
        },
        "id": "eOG2jIlaCj6O",
        "outputId": "4f7bc099-3649-4a68-ca28-6dfe65d7ad8b"
      },
      "execution_count": 6,
      "outputs": [
        {
          "output_type": "stream",
          "name": "stdout",
          "text": [
            "+-----------+---------------+\n",
            "|   Category|CategoryRevenue|\n",
            "+-----------+---------------+\n",
            "|Electronics|         132500|\n",
            "|   Footwear|           8000|\n",
            "|Accessories|           6000|\n",
            "|    Apparel|           3900|\n",
            "+-----------+---------------+\n",
            "\n"
          ]
        }
      ]
    },
    {
      "cell_type": "markdown",
      "source": [
        "4. Region with the highest number of orders"
      ],
      "metadata": {
        "id": "igYjKpg0CyQ2"
      }
    },
    {
      "cell_type": "code",
      "source": [
        "from pyspark.sql.functions import count\n",
        "df.groupBy(\"Region\") \\\n",
        "  .agg(count(\"OrderID\").alias(\"OrderCount\")) \\\n",
        "  .orderBy(col(\"OrderCount\").desc()) \\\n",
        "  .show(1)\n"
      ],
      "metadata": {
        "colab": {
          "base_uri": "https://localhost:8080/"
        },
        "id": "X8eAPVjsC1kv",
        "outputId": "b6a5bf48-2720-4b76-8efb-ae51cc2bb6be"
      },
      "execution_count": 7,
      "outputs": [
        {
          "output_type": "stream",
          "name": "stdout",
          "text": [
            "+------+----------+\n",
            "|Region|OrderCount|\n",
            "+------+----------+\n",
            "| North|         3|\n",
            "+------+----------+\n",
            "only showing top 1 row\n",
            "\n"
          ]
        }
      ]
    },
    {
      "cell_type": "markdown",
      "source": [
        "5. Average Unit Price per Category"
      ],
      "metadata": {
        "id": "mlRH4_RrC8LK"
      }
    },
    {
      "cell_type": "code",
      "source": [
        "df.groupBy(\"Category\") \\\n",
        "  .avg(\"UnitPrice\") \\\n",
        "  .withColumnRenamed(\"avg(UnitPrice)\", \"AvgUnitPrice\") \\\n",
        "  .show()\n"
      ],
      "metadata": {
        "colab": {
          "base_uri": "https://localhost:8080/"
        },
        "id": "wBKgdwkCDBMC",
        "outputId": "daa04c98-0ce2-4977-831e-fd1ecf26911a"
      },
      "execution_count": 8,
      "outputs": [
        {
          "output_type": "stream",
          "name": "stdout",
          "text": [
            "+-----------+------------+\n",
            "|   Category|AvgUnitPrice|\n",
            "+-----------+------------+\n",
            "|    Apparel|       850.0|\n",
            "|Electronics|     28125.0|\n",
            "|   Footwear|      2000.0|\n",
            "|Accessories|      3000.0|\n",
            "+-----------+------------+\n",
            "\n"
          ]
        }
      ]
    },
    {
      "cell_type": "markdown",
      "source": [
        "6. Orders where TotalPrice > 30000"
      ],
      "metadata": {
        "id": "D3zuojVCDE6-"
      }
    },
    {
      "cell_type": "code",
      "source": [
        "df.filter(col(\"TotalPrice\") > 30000).show()\n"
      ],
      "metadata": {
        "colab": {
          "base_uri": "https://localhost:8080/"
        },
        "id": "dip9ZSArDHhA",
        "outputId": "c8488cb8-5201-445f-c140-b47cf6276cd7"
      },
      "execution_count": 9,
      "outputs": [
        {
          "output_type": "stream",
          "name": "stdout",
          "text": [
            "+-------+-------+-----------+--------+---------+------+----------+\n",
            "|OrderID|Product|   Category|Quantity|UnitPrice|Region|TotalPrice|\n",
            "+-------+-------+-----------+--------+---------+------+----------+\n",
            "|   1002| Laptop|Electronics|       1|    55000| South|     55000|\n",
            "|   1005|     TV|Electronics|       1|    40000|  West|     40000|\n",
            "+-------+-------+-----------+--------+---------+------+----------+\n",
            "\n"
          ]
        }
      ]
    },
    {
      "cell_type": "markdown",
      "source": [
        "#Part 4: Data Transformations"
      ],
      "metadata": {
        "id": "NHhYK6IeDLTR"
      }
    },
    {
      "cell_type": "markdown",
      "source": [
        "1. Create a new column HighValueOrder which is \"Yes\" if TotalPrice > 20,000,\n",
        "else \"No\" .\n",
        "2. Filter and display all high-value orders in the North region.\n",
        "3. Count how many high-value orders exist per region."
      ],
      "metadata": {
        "id": "9LdxZn3CDRIq"
      }
    },
    {
      "cell_type": "code",
      "source": [
        "#1\n",
        "from pyspark.sql.functions import when\n",
        "df = df.withColumn(\"HighValueOrder\", when(col(\"TotalPrice\") > 20000, \"Yes\").otherwise(\"No\"))\n",
        "df.show()\n",
        "#2\n",
        "df.filter((col(\"HighValueOrder\") == \"Yes\") & (col(\"Region\") == \"North\")).show()\n",
        "#3\n",
        "df.filter(col(\"HighValueOrder\") == \"Yes\") \\\n",
        "  .groupBy(\"Region\") \\\n",
        "  .count() \\\n",
        "  .withColumnRenamed(\"count\", \"HighValueOrderCount\") \\\n",
        "  .show()\n"
      ],
      "metadata": {
        "colab": {
          "base_uri": "https://localhost:8080/"
        },
        "id": "Fh8vnRb8DXl3",
        "outputId": "ef701709-1b0b-469b-c535-0ac288955357"
      },
      "execution_count": 10,
      "outputs": [
        {
          "output_type": "stream",
          "name": "stdout",
          "text": [
            "+-------+----------+-----------+--------+---------+------+----------+--------------+\n",
            "|OrderID|   Product|   Category|Quantity|UnitPrice|Region|TotalPrice|HighValueOrder|\n",
            "+-------+----------+-----------+--------+---------+------+----------+--------------+\n",
            "|   1001|    Mobile|Electronics|       2|    15000| North|     30000|           Yes|\n",
            "|   1002|    Laptop|Electronics|       1|    55000| South|     55000|           Yes|\n",
            "|   1003|   T-Shirt|    Apparel|       3|      500|  East|      1500|            No|\n",
            "|   1004|     Jeans|    Apparel|       2|     1200| North|      2400|            No|\n",
            "|   1005|        TV|Electronics|       1|    40000|  West|     40000|           Yes|\n",
            "|   1006|     Shoes|   Footwear|       4|     2000| South|      8000|            No|\n",
            "|   1007|     Watch|Accessories|       2|     3000|  East|      6000|            No|\n",
            "|   1008|Headphones|Electronics|       3|     2500| North|      7500|            No|\n",
            "+-------+----------+-----------+--------+---------+------+----------+--------------+\n",
            "\n",
            "+-------+-------+-----------+--------+---------+------+----------+--------------+\n",
            "|OrderID|Product|   Category|Quantity|UnitPrice|Region|TotalPrice|HighValueOrder|\n",
            "+-------+-------+-----------+--------+---------+------+----------+--------------+\n",
            "|   1001| Mobile|Electronics|       2|    15000| North|     30000|           Yes|\n",
            "+-------+-------+-----------+--------+---------+------+----------+--------------+\n",
            "\n",
            "+------+-------------------+\n",
            "|Region|HighValueOrderCount|\n",
            "+------+-------------------+\n",
            "| South|                  1|\n",
            "|  West|                  1|\n",
            "| North|                  1|\n",
            "+------+-------------------+\n",
            "\n"
          ]
        }
      ]
    },
    {
      "cell_type": "markdown",
      "source": [
        "#Part 5: Save Results\n",
        "Save the transformed DataFrame as a CSV file named high_value_orders.csv with\n",
        "headers."
      ],
      "metadata": {
        "id": "BotY2kVfDnXy"
      }
    },
    {
      "cell_type": "code",
      "source": [
        "df.filter(col(\"HighValueOrder\") == \"Yes\") \\\n",
        "  .write.csv(\"high_value_orders.csv\", header=True, mode=\"overwrite\")\n"
      ],
      "metadata": {
        "id": "ofZAbcotDsdZ"
      },
      "execution_count": 11,
      "outputs": []
    }
  ]
}