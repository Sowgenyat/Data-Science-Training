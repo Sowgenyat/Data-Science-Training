{
  "nbformat": 4,
  "nbformat_minor": 0,
  "metadata": {
    "colab": {
      "provenance": []
    },
    "kernelspec": {
      "name": "python3",
      "display_name": "Python 3"
    },
    "language_info": {
      "name": "python"
    }
  },
  "cells": [
    {
      "cell_type": "markdown",
      "source": [
        "#Spark SQL Exercise Set – Product Orders Analytics"
      ],
      "metadata": {
        "id": "jf6cG1c1bIuq"
      }
    },
    {
      "cell_type": "code",
      "source": [
        "from pyspark.sql import SparkSession\n",
        "spark = SparkSession.builder.appName(\"ProductordersAnalytics\").getOrCreate()"
      ],
      "metadata": {
        "id": "3EoZIgZgbsTe"
      },
      "execution_count": 1,
      "outputs": []
    },
    {
      "cell_type": "code",
      "execution_count": 23,
      "metadata": {
        "id": "5whJ-dXsbEFl"
      },
      "outputs": [],
      "source": [
        "from pyspark.sql import Row\n",
        "data=[\n",
        "    Row(OrderID=1, CustomerName=\"Rohit\", Product=\"Laptop\", Category=\"Electronics\", Quantity=2, UnitPrice=50000, OrderDate=\"2023-01-15\"),\n",
        "    Row(OrderID=2, CustomerName=\"Sharmin\", Product=\"T-Shirt\", Category=\"Clothing\", Quantity=3, UnitPrice=800, OrderDate=\"2023-02-10\"),\n",
        "    Row(OrderID=3, CustomerName=\"Aditi\", Product=\"Chair\", Category=\"Furniture\", Quantity=1, UnitPrice=3000, OrderDate=\"2023-03-05\"),\n",
        "    Row(OrderID=4, CustomerName=\"zara\", Product=\"Bookshelf\", Category=\"Furniture\", Quantity=2, UnitPrice=7000, OrderDate=\"2023-01-20\"),\n",
        "    Row(OrderID=5, CustomerName=\"Amuya\", Product=\"Smartphone\", Category=\"Electronics\", Quantity=1, UnitPrice=25000, OrderDate=\"2023-01-02\"),\n",
        "    Row(OrderID=6, CustomerName=\"Alia\", Product=\"Jeans\", Category=\"Clothing\", Quantity=2, UnitPrice=1500, OrderDate=\"2023-03-11\"),\n",
        "    Row(OrderID=7, CustomerName=\"Kareena\", Product=\"Notebook\", Category=\"Books\", Quantity=5, UnitPrice=200, OrderDate=\"2023-02-22\"),\n",
        "    Row(OrderID=8, CustomerName=\"Nandhitha\", Product=\"Table\", Category=\"Furniture\", Quantity=1, UnitPrice=5500, OrderDate=\"2023-01-08\"),\n",
        "    Row(OrderID=9, CustomerName=\"Inder\", Product=\"Tablet\", Category=\"Electronics\", Quantity=2, UnitPrice=30000, OrderDate=\"2023-03-03\"),\n",
        "    Row(OrderID=10, CustomerName=\"Emily\", Product=\"Dress\", Category=\"Clothing\", Quantity=4, UnitPrice=1200, OrderDate=\"2023-01-25\"),\n",
        "    Row(OrderID=11, CustomerName=\"Rohit\", Product=\"Python Book\", Category=\"Books\", Quantity=1, UnitPrice=900, OrderDate=\"2023-02-05\"),\n",
        "    Row(OrderID=12, CustomerName=\"Aditi\", Product=\"Monitor\", Category=\"Electronics\", Quantity=1, UnitPrice=18000, OrderDate=\"2023-02-18\"),\n",
        "]\n",
        "\n",
        "df = spark.createDataFrame(data)\n",
        "df.createOrReplaceTempView(\"orders_local\")\n",
        "df.createOrReplaceGlobalTempView(\"orders_global\")\n"
      ]
    },
    {
      "cell_type": "markdown",
      "source": [
        "#Part A: Local View – orders_local"
      ],
      "metadata": {
        "id": "6i1_HfIvcFP6"
      }
    },
    {
      "cell_type": "code",
      "source": [
        "#1. List all orders placed for \"Electronics\" with a Quantity of 2 or more.\n",
        "spark.sql(\"select* from orders_local where Category = 'Electronics' and Quantity >= 2\").show()\n",
        "#2. Calculate TotalAmount (Quantity × UnitPrice) for each order.\n",
        "spark.sql(\"select OrderID, CustomerName, Product, Category, Quantity, UnitPrice, Quantity*UnitPrice as TotalAmount from orders_local\").show()\n",
        "#3. Show the total number of orders per Category .\n",
        "spark.sql(\"select Category, count(*) as TotalOrders from orders_local group by Category\").show()\n"
      ],
      "metadata": {
        "colab": {
          "base_uri": "https://localhost:8080/"
        },
        "id": "hUv-4ypCcEx0",
        "outputId": "bf78a950-39f0-429e-90f4-c1cdc3fbe474"
      },
      "execution_count": 24,
      "outputs": [
        {
          "output_type": "stream",
          "name": "stdout",
          "text": [
            "+-------+------------+-------+-----------+--------+---------+----------+\n",
            "|OrderID|CustomerName|Product|   Category|Quantity|UnitPrice| OrderDate|\n",
            "+-------+------------+-------+-----------+--------+---------+----------+\n",
            "|      1|       Rohit| Laptop|Electronics|       2|    50000|2023-01-15|\n",
            "|      9|       Inder| Tablet|Electronics|       2|    30000|2023-03-03|\n",
            "+-------+------------+-------+-----------+--------+---------+----------+\n",
            "\n",
            "+-------+------------+-----------+-----------+--------+---------+-----------+\n",
            "|OrderID|CustomerName|    Product|   Category|Quantity|UnitPrice|TotalAmount|\n",
            "+-------+------------+-----------+-----------+--------+---------+-----------+\n",
            "|      1|       Rohit|     Laptop|Electronics|       2|    50000|     100000|\n",
            "|      2|     Sharmin|    T-Shirt|   Clothing|       3|      800|       2400|\n",
            "|      3|       Aditi|      Chair|  Furniture|       1|     3000|       3000|\n",
            "|      4|        zara|  Bookshelf|  Furniture|       2|     7000|      14000|\n",
            "|      5|       Amuya| Smartphone|Electronics|       1|    25000|      25000|\n",
            "|      6|        Alia|      Jeans|   Clothing|       2|     1500|       3000|\n",
            "|      7|     Kareena|   Notebook|      Books|       5|      200|       1000|\n",
            "|      8|   Nandhitha|      Table|  Furniture|       1|     5500|       5500|\n",
            "|      9|       Inder|     Tablet|Electronics|       2|    30000|      60000|\n",
            "|     10|       Emily|      Dress|   Clothing|       4|     1200|       4800|\n",
            "|     11|       Rohit|Python Book|      Books|       1|      900|        900|\n",
            "|     12|       Aditi|    Monitor|Electronics|       1|    18000|      18000|\n",
            "+-------+------------+-----------+-----------+--------+---------+-----------+\n",
            "\n",
            "+-----------+-----------+\n",
            "|   Category|TotalOrders|\n",
            "+-----------+-----------+\n",
            "|Electronics|          4|\n",
            "|   Clothing|          3|\n",
            "|  Furniture|          3|\n",
            "|      Books|          2|\n",
            "+-----------+-----------+\n",
            "\n"
          ]
        }
      ]
    },
    {
      "cell_type": "code",
      "source": [
        "#4. List orders placed in \"January 2023\" only.\n",
        "spark.sql(\"select*from orders_local where OrderDate like '2023-01%'\").show()\n",
        "#5. Show the average UnitPrice per category.\n",
        "spark.sql(\"select Category, avg(UnitPrice) as AvgUnitPrice from orders_local group by Category\").show()\n",
        "#6. Find the order with the highest total amount.\n",
        "spark.sql(\"select OrderID, CustomerName, Product, Category, Quantity, UnitPrice, Quantity*UnitPrice as TotalAmount from orders_local order by TotalAmount desc limit 1\").show()\n"
      ],
      "metadata": {
        "colab": {
          "base_uri": "https://localhost:8080/"
        },
        "id": "tHny2gvTcuvN",
        "outputId": "4c96467b-e813-476e-fe2b-0fea8c1564f0"
      },
      "execution_count": 25,
      "outputs": [
        {
          "output_type": "stream",
          "name": "stdout",
          "text": [
            "+-------+------------+----------+-----------+--------+---------+----------+\n",
            "|OrderID|CustomerName|   Product|   Category|Quantity|UnitPrice| OrderDate|\n",
            "+-------+------------+----------+-----------+--------+---------+----------+\n",
            "|      1|       Rohit|    Laptop|Electronics|       2|    50000|2023-01-15|\n",
            "|      4|        zara| Bookshelf|  Furniture|       2|     7000|2023-01-20|\n",
            "|      5|       Amuya|Smartphone|Electronics|       1|    25000|2023-01-02|\n",
            "|      8|   Nandhitha|     Table|  Furniture|       1|     5500|2023-01-08|\n",
            "|     10|       Emily|     Dress|   Clothing|       4|     1200|2023-01-25|\n",
            "+-------+------------+----------+-----------+--------+---------+----------+\n",
            "\n",
            "+-----------+------------------+\n",
            "|   Category|      AvgUnitPrice|\n",
            "+-----------+------------------+\n",
            "|Electronics|           30750.0|\n",
            "|   Clothing|1166.6666666666667|\n",
            "|  Furniture| 5166.666666666667|\n",
            "|      Books|             550.0|\n",
            "+-----------+------------------+\n",
            "\n",
            "+-------+------------+-------+-----------+--------+---------+-----------+\n",
            "|OrderID|CustomerName|Product|   Category|Quantity|UnitPrice|TotalAmount|\n",
            "+-------+------------+-------+-----------+--------+---------+-----------+\n",
            "|      1|       Rohit| Laptop|Electronics|       2|    50000|     100000|\n",
            "+-------+------------+-------+-----------+--------+---------+-----------+\n",
            "\n"
          ]
        }
      ]
    },
    {
      "cell_type": "code",
      "source": [
        "#7. Drop the local view and try querying it again.\n",
        "spark.sql(\"drop view orders_local\")\n",
        "spark.sql(\"select*from orders_local\").show()\n"
      ],
      "metadata": {
        "id": "saeKXfDpdEQo"
      },
      "execution_count": null,
      "outputs": []
    },
    {
      "cell_type": "markdown",
      "source": [
        "#Part B: Global View – orders_global"
      ],
      "metadata": {
        "id": "-RBZ8RjWdLz0"
      }
    },
    {
      "cell_type": "code",
      "source": [
        "#1. Display all \"Furniture\" orders with TotalAmount above 10,000.\n",
        "spark.sql(\"select OrderID, CustomerName, Product, Category, Quantity, UnitPrice, Quantity * UnitPrice AS TotalAmount from global_temp.orders_global where Category = 'Furniture' AND Quantity * UnitPrice > 10000\").show()\n",
        "\n"
      ],
      "metadata": {
        "colab": {
          "base_uri": "https://localhost:8080/"
        },
        "id": "LrfWLM2odQOl",
        "outputId": "fa74189d-3c46-4b95-a091-4a20b5ee99b8"
      },
      "execution_count": 26,
      "outputs": [
        {
          "output_type": "stream",
          "name": "stdout",
          "text": [
            "+-------+------------+---------+---------+--------+---------+-----------+\n",
            "|OrderID|CustomerName|  Product| Category|Quantity|UnitPrice|TotalAmount|\n",
            "+-------+------------+---------+---------+--------+---------+-----------+\n",
            "|      4|        zara|Bookshelf|Furniture|       2|     7000|      14000|\n",
            "+-------+------------+---------+---------+--------+---------+-----------+\n",
            "\n"
          ]
        }
      ]
    },
    {
      "cell_type": "code",
      "source": [
        "#2. Create a column called DiscountFlag :\n",
        "# Mark \"Yes\" if Quantity > 3\n",
        "#Otherwise \"No\"\n",
        "spark.sql(\"select OrderID, CustomerName, Product, Category, Quantity, UnitPrice, Quantity*UnitPrice as TotalAmount, if(Quantity>3,'Yes','No') as DiscountFlag from global_temp.orders_global\").show()"
      ],
      "metadata": {
        "colab": {
          "base_uri": "https://localhost:8080/"
        },
        "id": "ElCqO-rVfKKz",
        "outputId": "5de3f463-2eea-44a1-fb75-d63b18590cb8"
      },
      "execution_count": 27,
      "outputs": [
        {
          "output_type": "stream",
          "name": "stdout",
          "text": [
            "+-------+------------+-----------+-----------+--------+---------+-----------+------------+\n",
            "|OrderID|CustomerName|    Product|   Category|Quantity|UnitPrice|TotalAmount|DiscountFlag|\n",
            "+-------+------------+-----------+-----------+--------+---------+-----------+------------+\n",
            "|      1|       Rohit|     Laptop|Electronics|       2|    50000|     100000|          No|\n",
            "|      2|     Sharmin|    T-Shirt|   Clothing|       3|      800|       2400|          No|\n",
            "|      3|       Aditi|      Chair|  Furniture|       1|     3000|       3000|          No|\n",
            "|      4|        zara|  Bookshelf|  Furniture|       2|     7000|      14000|          No|\n",
            "|      5|       Amuya| Smartphone|Electronics|       1|    25000|      25000|          No|\n",
            "|      6|        Alia|      Jeans|   Clothing|       2|     1500|       3000|          No|\n",
            "|      7|     Kareena|   Notebook|      Books|       5|      200|       1000|         Yes|\n",
            "|      8|   Nandhitha|      Table|  Furniture|       1|     5500|       5500|          No|\n",
            "|      9|       Inder|     Tablet|Electronics|       2|    30000|      60000|          No|\n",
            "|     10|       Emily|      Dress|   Clothing|       4|     1200|       4800|         Yes|\n",
            "|     11|       Rohit|Python Book|      Books|       1|      900|        900|          No|\n",
            "|     12|       Aditi|    Monitor|Electronics|       1|    18000|      18000|          No|\n",
            "+-------+------------+-----------+-----------+--------+---------+-----------+------------+\n",
            "\n"
          ]
        }
      ]
    },
    {
      "cell_type": "code",
      "source": [
        "#3. List customers who ordered more than 1 product type (Hint: use GROUP BY and HAVING).\n",
        "spark.sql(\"select CustomerName, count(distinct Product) as ProductTypes from global_temp.orders_global group by CustomerName having ProductTypes>1\").show()\n"
      ],
      "metadata": {
        "colab": {
          "base_uri": "https://localhost:8080/"
        },
        "id": "hDLOU4ggfPdn",
        "outputId": "869e7d69-7276-460d-91bc-8d698148893b"
      },
      "execution_count": 28,
      "outputs": [
        {
          "output_type": "stream",
          "name": "stdout",
          "text": [
            "+------------+------------+\n",
            "|CustomerName|ProductTypes|\n",
            "+------------+------------+\n",
            "|       Aditi|           2|\n",
            "|       Rohit|           2|\n",
            "+------------+------------+\n",
            "\n"
          ]
        }
      ]
    },
    {
      "cell_type": "code",
      "source": [
        "#4. Count number of orders per month across the dataset.\n",
        "spark.sql(\"select month(OrderDate) as Month, count(*) as TotalOrders from global_temp.orders_global group by Month\").show()\n",
        "#5. Rank all products by total quantity sold across all orders using a window function.\n",
        "spark.sql(\"select Product, sum(Quantity) as TotalQuantity, rank() over (order by sum(Quantity) desc) as Ranking from global_temp.orders_global group by Product\").show()\n",
        "#6. Run a query using a new SparkSession and the global view.\n",
        "spark.sql(\"select*from global_temp.orders_global\").show()"
      ],
      "metadata": {
        "colab": {
          "base_uri": "https://localhost:8080/"
        },
        "id": "gieALMWEfSCr",
        "outputId": "0af84b54-fb11-487c-8629-e9ebddc1fac8"
      },
      "execution_count": 29,
      "outputs": [
        {
          "output_type": "stream",
          "name": "stdout",
          "text": [
            "+-----+-----------+\n",
            "|Month|TotalOrders|\n",
            "+-----+-----------+\n",
            "|    1|          5|\n",
            "|    3|          3|\n",
            "|    2|          4|\n",
            "+-----+-----------+\n",
            "\n",
            "+-----------+-------------+-------+\n",
            "|    Product|TotalQuantity|Ranking|\n",
            "+-----------+-------------+-------+\n",
            "|   Notebook|            5|      1|\n",
            "|      Dress|            4|      2|\n",
            "|    T-Shirt|            3|      3|\n",
            "|     Laptop|            2|      4|\n",
            "|  Bookshelf|            2|      4|\n",
            "|      Jeans|            2|      4|\n",
            "|     Tablet|            2|      4|\n",
            "|      Chair|            1|      8|\n",
            "| Smartphone|            1|      8|\n",
            "|Python Book|            1|      8|\n",
            "|      Table|            1|      8|\n",
            "|    Monitor|            1|      8|\n",
            "+-----------+-------------+-------+\n",
            "\n",
            "+-------+------------+-----------+-----------+--------+---------+----------+\n",
            "|OrderID|CustomerName|    Product|   Category|Quantity|UnitPrice| OrderDate|\n",
            "+-------+------------+-----------+-----------+--------+---------+----------+\n",
            "|      1|       Rohit|     Laptop|Electronics|       2|    50000|2023-01-15|\n",
            "|      2|     Sharmin|    T-Shirt|   Clothing|       3|      800|2023-02-10|\n",
            "|      3|       Aditi|      Chair|  Furniture|       1|     3000|2023-03-05|\n",
            "|      4|        zara|  Bookshelf|  Furniture|       2|     7000|2023-01-20|\n",
            "|      5|       Amuya| Smartphone|Electronics|       1|    25000|2023-01-02|\n",
            "|      6|        Alia|      Jeans|   Clothing|       2|     1500|2023-03-11|\n",
            "|      7|     Kareena|   Notebook|      Books|       5|      200|2023-02-22|\n",
            "|      8|   Nandhitha|      Table|  Furniture|       1|     5500|2023-01-08|\n",
            "|      9|       Inder|     Tablet|Electronics|       2|    30000|2023-03-03|\n",
            "|     10|       Emily|      Dress|   Clothing|       4|     1200|2023-01-25|\n",
            "|     11|       Rohit|Python Book|      Books|       1|      900|2023-02-05|\n",
            "|     12|       Aditi|    Monitor|Electronics|       1|    18000|2023-02-18|\n",
            "+-------+------------+-----------+-----------+--------+---------+----------+\n",
            "\n"
          ]
        }
      ]
    },
    {
      "cell_type": "markdown",
      "source": [
        "#Bonus Challenges"
      ],
      "metadata": {
        "id": "8mFEc51FfvSw"
      }
    },
    {
      "cell_type": "code",
      "source": [
        "#1. Save a filtered subset (only \"Books\" category) as a new global temp view.\n",
        "spark.sql(\"create Or Replace global temp view filtered_orders as select * from global_temp.orders_global where Category='Books'\")\n",
        "spark.sql(\"select *from global_temp.filtered_orders\").show()"
      ],
      "metadata": {
        "colab": {
          "base_uri": "https://localhost:8080/"
        },
        "id": "xRj7Rq6JfyzJ",
        "outputId": "49cc16c3-806c-4e50-bf54-bd8da3213497"
      },
      "execution_count": 30,
      "outputs": [
        {
          "output_type": "stream",
          "name": "stdout",
          "text": [
            "+-------+------------+-----------+--------+--------+---------+----------+\n",
            "|OrderID|CustomerName|    Product|Category|Quantity|UnitPrice| OrderDate|\n",
            "+-------+------------+-----------+--------+--------+---------+----------+\n",
            "|      7|     Kareena|   Notebook|   Books|       5|      200|2023-02-22|\n",
            "|     11|       Rohit|Python Book|   Books|       1|      900|2023-02-05|\n",
            "+-------+------------+-----------+--------+--------+---------+----------+\n",
            "\n"
          ]
        }
      ]
    },
    {
      "cell_type": "code",
      "source": [
        "#2. Find the most purchased product per category.\n",
        "spark.sql(\"select Category, Product, count(*) as PurchaseCount from global_temp.orders_global group by Category, Product order by PurchaseCount desc\").show()"
      ],
      "metadata": {
        "colab": {
          "base_uri": "https://localhost:8080/"
        },
        "id": "qIPDGvgxgX4N",
        "outputId": "4cfdef02-4275-4fc4-e485-88b86361347d"
      },
      "execution_count": 31,
      "outputs": [
        {
          "output_type": "stream",
          "name": "stdout",
          "text": [
            "+-----------+-----------+-------------+\n",
            "|   Category|    Product|PurchaseCount|\n",
            "+-----------+-----------+-------------+\n",
            "|  Furniture|  Bookshelf|            1|\n",
            "|  Furniture|      Chair|            1|\n",
            "|Electronics|     Laptop|            1|\n",
            "|Electronics| Smartphone|            1|\n",
            "|   Clothing|      Jeans|            1|\n",
            "|   Clothing|    T-Shirt|            1|\n",
            "|   Clothing|      Dress|            1|\n",
            "|Electronics|     Tablet|            1|\n",
            "|Electronics|    Monitor|            1|\n",
            "|  Furniture|      Table|            1|\n",
            "|      Books|Python Book|            1|\n",
            "|      Books|   Notebook|            1|\n",
            "+-----------+-----------+-------------+\n",
            "\n"
          ]
        }
      ]
    },
    {
      "cell_type": "code",
      "source": [
        "#3. Create a view that excludes all \"Clothing\" orders and call it \"filtered_orders\" .\n",
        "spark.sql(\"create Or Replace global temp view filtered_orders as select * from global_temp.orders_global where Category!='Clothing'\")\n",
        "spark.sql(\"select *from global_temp.filtered_orders\").show()"
      ],
      "metadata": {
        "colab": {
          "base_uri": "https://localhost:8080/"
        },
        "id": "olieHd5Ygh-k",
        "outputId": "05eb373d-459e-490b-f5fb-2335003eaebb"
      },
      "execution_count": 33,
      "outputs": [
        {
          "output_type": "stream",
          "name": "stdout",
          "text": [
            "+-------+------------+-----------+-----------+--------+---------+----------+\n",
            "|OrderID|CustomerName|    Product|   Category|Quantity|UnitPrice| OrderDate|\n",
            "+-------+------------+-----------+-----------+--------+---------+----------+\n",
            "|      1|       Rohit|     Laptop|Electronics|       2|    50000|2023-01-15|\n",
            "|      3|       Aditi|      Chair|  Furniture|       1|     3000|2023-03-05|\n",
            "|      4|        zara|  Bookshelf|  Furniture|       2|     7000|2023-01-20|\n",
            "|      5|       Amuya| Smartphone|Electronics|       1|    25000|2023-01-02|\n",
            "|      7|     Kareena|   Notebook|      Books|       5|      200|2023-02-22|\n",
            "|      8|   Nandhitha|      Table|  Furniture|       1|     5500|2023-01-08|\n",
            "|      9|       Inder|     Tablet|Electronics|       2|    30000|2023-03-03|\n",
            "|     11|       Rohit|Python Book|      Books|       1|      900|2023-02-05|\n",
            "|     12|       Aditi|    Monitor|Electronics|       1|    18000|2023-02-18|\n",
            "+-------+------------+-----------+-----------+--------+---------+----------+\n",
            "\n"
          ]
        }
      ]
    }
  ]
}