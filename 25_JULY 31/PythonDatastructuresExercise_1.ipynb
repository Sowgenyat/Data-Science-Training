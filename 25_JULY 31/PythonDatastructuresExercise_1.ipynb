{
  "nbformat": 4,
  "nbformat_minor": 0,
  "metadata": {
    "colab": {
      "provenance": []
    },
    "kernelspec": {
      "name": "python3",
      "display_name": "Python 3"
    },
    "language_info": {
      "name": "python"
    }
  },
  "cells": [
    {
      "cell_type": "markdown",
      "source": [
        "#Python Data Structures – Intermediate Exercises Notebook"
      ],
      "metadata": {
        "id": "CxgtTzP0XxyR"
      }
    },
    {
      "cell_type": "markdown",
      "source": [
        "##Section 1: Nested Lists & Access\n",
        "###Given:\n",
        "students = [\n",
        "[\"Ravi\", [85, 72, 90]],\n",
        "[\"Sneha\", [95, 88, 92]],\n",
        "[\"Kabir\", [65, 70, 60]],\n",
        "[\"Anita\", [75, 80, 78]]\n",
        "]\n",
        "Tasks:\n",
        "1. Print Ravi’s second mark.\n",
        "2. Calculate average mark for each student.\n",
        "3. Print the name of students who scored above 80 in all subjects.\n",
        "4. Create a new list of [name, average]"
      ],
      "metadata": {
        "id": "5cGqjNLGYTgi"
      }
    },
    {
      "cell_type": "code",
      "execution_count": 1,
      "metadata": {
        "colab": {
          "base_uri": "https://localhost:8080/"
        },
        "id": "QQBExeVtXtul",
        "outputId": "27ad902e-3fce-4fb1-8717-d87f6aaa768d"
      },
      "outputs": [
        {
          "output_type": "stream",
          "name": "stdout",
          "text": [
            "72\n",
            "Ravi average: 82.33\n",
            "Sneha average: 91.67\n",
            "Kabir average: 65.00\n",
            "Anita average: 77.67\n",
            "Sneha\n",
            "[['Ravi', 82.33], ['Sneha', 91.67], ['Kabir', 65.0], ['Anita', 77.67]]\n"
          ]
        }
      ],
      "source": [
        "#1. Print Ravi’s second mark.\n",
        "students = [\n",
        "[\"Ravi\", [85, 72, 90]],\n",
        "[\"Sneha\", [95, 88, 92]],\n",
        "[\"Kabir\", [65, 70, 60]],\n",
        "[\"Anita\", [75, 80, 78]]\n",
        "]\n",
        "print(students[0][1][1])\n",
        "#2. Calculate average mark for each student.\n",
        "for name, marks in students:\n",
        "    avg=sum(marks)/len(marks)\n",
        "    print(f\"{name} average: {avg:.2f}\")\n",
        "#3. Print the name of students who scored above 80 in all subjects.\n",
        "for name, marks in students:\n",
        "    if all(mark>80 for mark in marks):\n",
        "        print(name)\n",
        "#4. Create a new list of [name, average]\n",
        "newlist=[[name,round( sum(marks)/len(marks),2)] for name, marks in students]\n",
        "print(newlist)\n"
      ]
    },
    {
      "cell_type": "markdown",
      "source": [
        "#Section 2: Dictionary of Lists"
      ],
      "metadata": {
        "id": "ZBI1DJYKYuqJ"
      }
    },
    {
      "cell_type": "code",
      "source": [
        "data={\n",
        "    \"products\":[\"Mobile\", \"Laptop\", \"Tablet\", \"Camera\"],\n",
        "    \"prices\":[12000, 55000, 18000, 25000],\n",
        "    \"ratings\":[4.5, 4.7, 4.0, 4.2]\n",
        "}\n",
        "\n",
        "products=[]\n",
        "for i in range(len(data[\"products\"])):\n",
        "    product={\n",
        "        \"name\":data[\"products\"][i],\n",
        "        \"price\":data[\"prices\"][i],\n",
        "        \"rating\":data[\"ratings\"][i]\n",
        "    }\n",
        "    products.append(product)\n",
        "print(products)\n"
      ],
      "metadata": {
        "colab": {
          "base_uri": "https://localhost:8080/"
        },
        "id": "mpjx5XztYjxn",
        "outputId": "25b6760b-c372-445d-adf0-50ba9aebc1df"
      },
      "execution_count": 2,
      "outputs": [
        {
          "output_type": "stream",
          "name": "stdout",
          "text": [
            "List of product dictionaries:\n",
            "[{'name': 'Mobile', 'price': 12000, 'rating': 4.5}, {'name': 'Laptop', 'price': 55000, 'rating': 4.7}, {'name': 'Tablet', 'price': 18000, 'rating': 4.0}, {'name': 'Camera', 'price': 25000, 'rating': 4.2}]\n"
          ]
        }
      ]
    },
    {
      "cell_type": "code",
      "source": [
        "#2. Filter and print products with price >20,000 and rating >= 4.5\n",
        "filtered_products=[\n",
        "    product for product in products\n",
        "    if product[\"price\"] > 20000 and product[\"rating\"] >= 4.5]\n",
        "print(filtered_products)\n"
      ],
      "metadata": {
        "colab": {
          "base_uri": "https://localhost:8080/"
        },
        "id": "Mx3ZA5FOZUsi",
        "outputId": "7308c29d-67fb-4ead-950e-3270cd67cb1e"
      },
      "execution_count": 3,
      "outputs": [
        {
          "output_type": "stream",
          "name": "stdout",
          "text": [
            "[{'name': 'Laptop', 'price': 55000, 'rating': 4.7}]\n"
          ]
        }
      ]
    },
    {
      "cell_type": "code",
      "source": [
        "#3. Sort the product list by rating (descending)\n",
        "sorted_products=sorted(products, key=lambda x: x[\"rating\"], reverse=True)\n",
        "print(sorted_products)"
      ],
      "metadata": {
        "colab": {
          "base_uri": "https://localhost:8080/"
        },
        "id": "FHgBa1w0Zku2",
        "outputId": "2f9ce629-c4fa-491f-a1f6-c7b4287e5c73"
      },
      "execution_count": 4,
      "outputs": [
        {
          "output_type": "stream",
          "name": "stdout",
          "text": [
            "[{'name': 'Laptop', 'price': 55000, 'rating': 4.7}, {'name': 'Mobile', 'price': 12000, 'rating': 4.5}, {'name': 'Camera', 'price': 25000, 'rating': 4.2}, {'name': 'Tablet', 'price': 18000, 'rating': 4.0}]\n"
          ]
        }
      ]
    },
    {
      "cell_type": "markdown",
      "source": [
        "#Section 3: Frequency Dictionary + Set Operations"
      ],
      "metadata": {
        "id": "0JnUD27KZ9J6"
      }
    },
    {
      "cell_type": "code",
      "source": [
        "text = \"ai is the future and ai will change everything in the ai world\"\n",
        "#1. Count frequency of each word using a dictionary\n",
        "words=text.split()\n",
        "freq={}\n",
        "for word in words:\n",
        "    freq[word]=freq.get(word, 0)+1\n",
        "print(freq)"
      ],
      "metadata": {
        "colab": {
          "base_uri": "https://localhost:8080/"
        },
        "id": "35HCg01jZ-3o",
        "outputId": "ec4f876a-e992-4d31-a539-710dce38842f"
      },
      "execution_count": 5,
      "outputs": [
        {
          "output_type": "stream",
          "name": "stdout",
          "text": [
            "Word Frequencies: {'ai': 3, 'is': 1, 'the': 2, 'future': 1, 'and': 1, 'will': 1, 'change': 1, 'everything': 1, 'in': 1, 'world': 1}\n"
          ]
        }
      ]
    },
    {
      "cell_type": "code",
      "source": [
        "#2. Print only the words that appear more than once\n",
        "repeated=[word for word, count in freq.items() if count > 1]\n",
        "print(repeated)\n"
      ],
      "metadata": {
        "colab": {
          "base_uri": "https://localhost:8080/"
        },
        "id": "u8Otk5PWaRNC",
        "outputId": "e8ef3da9-b8aa-4ef3-ae41-5c46e8398edd"
      },
      "execution_count": 6,
      "outputs": [
        {
          "output_type": "stream",
          "name": "stdout",
          "text": [
            "['ai', 'the']\n"
          ]
        }
      ]
    },
    {
      "cell_type": "code",
      "source": [
        "#3. Convert words into a set and print sorted unique words\n",
        "uniquewords=set(words)\n",
        "print(sorted(uniquewords))\n"
      ],
      "metadata": {
        "colab": {
          "base_uri": "https://localhost:8080/"
        },
        "id": "X6X9TvYNagAq",
        "outputId": "48518704-845a-49ac-f6d2-3bb6aaf101cd"
      },
      "execution_count": 7,
      "outputs": [
        {
          "output_type": "stream",
          "name": "stdout",
          "text": [
            "['ai', 'and', 'change', 'everything', 'future', 'in', 'is', 'the', 'will', 'world']\n"
          ]
        }
      ]
    },
    {
      "cell_type": "code",
      "source": [
        "'''4. Find common words between:\n",
        "set1 = set(text.split())\n",
        "set2 = {\"ai\", \"ml\", \"data\", \"future\"}'''\n",
        "set1=set(text.split())\n",
        "set2={\"ai\", \"ml\", \"data\", \"future\"}\n",
        "commonwords=set1.intersection(set2)\n",
        "print(commonwords)\n"
      ],
      "metadata": {
        "colab": {
          "base_uri": "https://localhost:8080/"
        },
        "id": "COkzYdwEatIR",
        "outputId": "e1581045-9ff7-4b5b-d6b0-37da2c1e8c6f"
      },
      "execution_count": 9,
      "outputs": [
        {
          "output_type": "stream",
          "name": "stdout",
          "text": [
            "{'ai', 'future'}\n"
          ]
        }
      ]
    },
    {
      "cell_type": "markdown",
      "source": [
        "#Section 4: Dictionary Comprehension + Conditional Logic"
      ],
      "metadata": {
        "id": "NYG3cx8HbEZj"
      }
    },
    {
      "cell_type": "code",
      "source": [
        "sales={\n",
        "    'Amit': 70000,\n",
        "    'Sneha': 45000,\n",
        "    'Ravi': 30000,\n",
        "    'Anita': 90000,\n",
        "    'Kabir': 20000}\n"
      ],
      "metadata": {
        "id": "USM3ZQnpbGCC"
      },
      "execution_count": 10,
      "outputs": []
    },
    {
      "cell_type": "code",
      "source": [
        "#1. Create a new dictionary with 10% bonus added to each sale\n",
        "salesbonus={name: sale + sale * 0.10 for name, sale in sales.items()}\n",
        "print(salesbonus)\n"
      ],
      "metadata": {
        "colab": {
          "base_uri": "https://localhost:8080/"
        },
        "id": "M-i1FnPqbQMj",
        "outputId": "2b08efeb-58b4-490f-e13f-9c0c3d8a3ca5"
      },
      "execution_count": 11,
      "outputs": [
        {
          "output_type": "stream",
          "name": "stdout",
          "text": [
            "{'Amit': 77000.0, 'Sneha': 49500.0, 'Ravi': 33000.0, 'Anita': 99000.0, 'Kabir': 22000.0}\n"
          ]
        }
      ]
    },
    {
      "cell_type": "code",
      "source": [
        "#2. Filter and return only those with sales >50,000\n",
        "highsales={name: sale for name, sale in sales.items() if sale > 50000}\n",
        "print(highsales)\n"
      ],
      "metadata": {
        "colab": {
          "base_uri": "https://localhost:8080/"
        },
        "id": "-vsNGjWvbg6h",
        "outputId": "e939f4de-5bfa-4a7f-a4a7-42ae46e792e4"
      },
      "execution_count": 12,
      "outputs": [
        {
          "output_type": "stream",
          "name": "stdout",
          "text": [
            "{'Amit': 70000, 'Anita': 90000}\n"
          ]
        }
      ]
    },
    {
      "cell_type": "code",
      "source": [
        "'''3. Label each person as 'High' , 'Medium' , or 'Low' based on:\n",
        "75,000: High\n",
        "40,000: Medium\n",
        "Else: Low'''\n",
        "label={name:(\n",
        "        \"High\" if sale > 75000 else\n",
        "        \"Medium\" if sale > 40000 else\n",
        "        \"Low\")\n",
        "    for name, sale in sales.items()}\n",
        "print(label)\n"
      ],
      "metadata": {
        "colab": {
          "base_uri": "https://localhost:8080/"
        },
        "id": "xKFPFR_ZbwAl",
        "outputId": "4c3bbacc-03ed-4662-8132-9adab83985bb"
      },
      "execution_count": 14,
      "outputs": [
        {
          "output_type": "stream",
          "name": "stdout",
          "text": [
            "{'Amit': 'Medium', 'Sneha': 'Medium', 'Ravi': 'Low', 'Anita': 'High', 'Kabir': 'Low'}\n"
          ]
        }
      ]
    },
    {
      "cell_type": "markdown",
      "source": [
        "#Section 5: Tuples, Sets, and Zipping"
      ],
      "metadata": {
        "id": "akod5JXjcI5A"
      }
    },
    {
      "cell_type": "code",
      "source": [
        "names=(\"Ravi\", \"Sneha\", \"Kabir\")\n",
        "marks=(88, 92, 76)\n"
      ],
      "metadata": {
        "id": "_QzT09qXcMlb"
      },
      "execution_count": 15,
      "outputs": []
    },
    {
      "cell_type": "code",
      "source": [
        "#1. Convert both tuples to a dictionary using zip()\n",
        "studentdict=dict(zip(names, marks))\n",
        "print(studentdict)\n",
        "#2. Find min and max marks\n",
        "minmark=min(studentdict.values())\n",
        "maxmark=max(studentdict.values())\n",
        "print(minmark, maxmark)\n",
        "#3. Create a set from marks and add a new value\n",
        "markset=set(studentdict.values())\n",
        "markset.add(95)\n",
        "print(markset)\n",
        "#4. Merge two sets and show only unique elements\n",
        "set1={1, 2, 3, 4, 5}\n",
        "set2={4, 5, 6, 7, 8}\n",
        "mergedset=set1.union(set2)\n",
        "print(mergedset)\n"
      ],
      "metadata": {
        "colab": {
          "base_uri": "https://localhost:8080/"
        },
        "id": "hJ9aDIU3cRpv",
        "outputId": "a4caffe6-0e4b-4a29-98ac-d995550f8e43"
      },
      "execution_count": 19,
      "outputs": [
        {
          "output_type": "stream",
          "name": "stdout",
          "text": [
            "{'Ravi': 88, 'Sneha': 92, 'Kabir': 76}\n",
            "76 92\n",
            "{88, 92, 95, 76}\n",
            "{1, 2, 3, 4, 5, 6, 7, 8}\n"
          ]
        }
      ]
    },
    {
      "cell_type": "markdown",
      "source": [
        "#Bonus Challenge"
      ],
      "metadata": {
        "id": "jLj_PHsScjhg"
      }
    },
    {
      "cell_type": "code",
      "source": [
        "employees = {\n",
        "    \"E101\": {\"name\": \"Ravi\", \"dept\": \"Sales\", \"salary\": 50000},\n",
        "    \"E102\": {\"name\": \"Sneha\", \"dept\": \"Engineering\", \"salary\": 80000},\n",
        "    \"E103\": {\"name\": \"Kabir\", \"dept\": \"HR\", \"salary\": 45000}\n",
        "}\n"
      ],
      "metadata": {
        "id": "X9E1N8HacmLS"
      },
      "execution_count": 20,
      "outputs": []
    },
    {
      "cell_type": "code",
      "source": [
        "#1. Add a new employee \"E104\"\n",
        "employees[\"E104\"]={\"name\": \"Anita\", \"dept\": \"Engineering\", \"salary\": 75000}\n",
        "print(employees)\n",
        "\n",
        "#2. Increase salary by 10% for Engineering department only\n",
        "for empid, empinfo in employees.items():\n",
        "    if empinfo[\"dept\"]==\"Engineering\":\n",
        "        empinfo[\"salary\"]*=1.1\n",
        "print(employees)\n",
        "#3. Find the department with the highest average salary\n",
        "from collections import defaultdict\n",
        "dept_salaries=defaultdict(list)\n",
        "for emp in employees.values():\n",
        "    dept_salaries[emp[\"dept\"]].append(emp[\"salary\"])\n",
        "avg_salaries={dept: sum(sals)/len(sals) for dept, sals in dept_salaries.items()}\n",
        "top_dept=max(avg_salaries, key=avg_salaries.get)\n",
        "print( avg_salaries)\n",
        "print(top_dept)\n"
      ],
      "metadata": {
        "colab": {
          "base_uri": "https://localhost:8080/"
        },
        "id": "4NC9kVdSct_S",
        "outputId": "24cb4fc2-7d9f-4604-9201-88008c7ee844"
      },
      "execution_count": 25,
      "outputs": [
        {
          "output_type": "stream",
          "name": "stdout",
          "text": [
            "{'E101': {'name': 'Ravi', 'dept': 'Sales', 'salary': 50000}, 'E102': {'name': 'Sneha', 'dept': 'Engineering', 'salary': 106480.00000000003}, 'E103': {'name': 'Kabir', 'dept': 'HR', 'salary': 45000}, 'E104': {'name': 'Anita', 'dept': 'Engineering', 'salary': 75000}}\n",
            "{'E101': {'name': 'Ravi', 'dept': 'Sales', 'salary': 50000}, 'E102': {'name': 'Sneha', 'dept': 'Engineering', 'salary': 117128.00000000004}, 'E103': {'name': 'Kabir', 'dept': 'HR', 'salary': 45000}, 'E104': {'name': 'Anita', 'dept': 'Engineering', 'salary': 82500.0}}\n",
            "{'Sales': 50000.0, 'Engineering': 99814.00000000003, 'HR': 45000.0}\n",
            "Engineering\n"
          ]
        }
      ]
    }
  ]
}