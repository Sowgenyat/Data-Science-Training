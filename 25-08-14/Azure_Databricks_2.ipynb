{
  "nbformat": 4,
  "nbformat_minor": 0,
  "metadata": {
    "colab": {
      "provenance": []
    },
    "kernelspec": {
      "name": "python3",
      "display_name": "Python 3"
    },
    "language_info": {
      "name": "python"
    }
  },
  "cells": [
    {
      "cell_type": "code",
      "execution_count": null,
      "metadata": {
        "id": "-kN2Q9WDQ18x"
      },
      "outputs": [],
      "source": [
        "!pip -q install pyspark==3.5.0 delta-spark==3.1.0\n",
        "\n"
      ]
    },
    {
      "cell_type": "code",
      "source": [
        "from pyspark.sql import SparkSession\n",
        "from delta import configure_spark_with_delta_pip\n",
        "from pyspark.sql import functions as F, types as T\n",
        "\n",
        "builder = (\n",
        "    SparkSession.builder.appName(\"DeltaRideHailing\")\n",
        "    .config(\"spark.sql.extensions\", \"io.delta.sql.DeltaSparkSessionExtension\")\n",
        "    .config(\"spark.sql.catalog.spark_catalog\", \"org.apache.spark.sql.delta.catalog.DeltaCatalog\")\n",
        ")\n",
        "\n",
        "spark = configure_spark_with_delta_pip(builder).getOrCreate()\n"
      ],
      "metadata": {
        "id": "_FvAvpy4UkWp"
      },
      "execution_count": 10,
      "outputs": []
    },
    {
      "cell_type": "code",
      "source": [
        "# Define schema\n",
        "trip_schema = T.StructType([\n",
        "    T.StructField(\"trip_id\",      T.IntegerType()),\n",
        "    T.StructField(\"rider_id\",     T.StringType()),\n",
        "    T.StructField(\"driver_id\",    T.StringType()),\n",
        "    T.StructField(\"city\",         T.StringType()),\n",
        "    T.StructField(\"distance_km\",  T.DoubleType()),\n",
        "    T.StructField(\"fare\",         T.DoubleType()),\n",
        "    T.StructField(\"tip\",          T.DoubleType()),\n",
        "    T.StructField(\"ts\",           T.TimestampType())\n",
        "])\n",
        "\n",
        "driver_schema = T.StructType([\n",
        "    T.StructField(\"driver_id\",  T.StringType()),\n",
        "    T.StructField(\"driver_name\",T.StringType()),\n",
        "    T.StructField(\"rating\",     T.DoubleType()),\n",
        "    T.StructField(\"vehicle\",    T.StringType())\n",
        "])\n",
        "\n",
        "from datetime import datetime\n",
        "\n",
        "# Create rows\n",
        "trips_rows = [\n",
        "    (1001,\"R001\",\"D010\",\"Bengaluru\", 12.4, 320.0, 20.0,  datetime.strptime(\"2025-08-08 08:05:00\", \"%Y-%m-%d %H:%M:%S\")),\n",
        "    (1002,\"R002\",\"D011\",\"Hyderabad\",  6.2, 150.0, 10.0,  datetime.strptime(\"2025-08-08 08:15:00\", \"%Y-%m-%d %H:%M:%S\")),\n",
        "    (1003,\"R003\",\"D012\",\"Pune\",       3.5,  90.0,  0.0,  datetime.strptime(\"2025-08-08 08:20:00\", \"%Y-%m-%d %H:%M:%S\")),\n",
        "    (1004,\"R001\",\"D010\",\"Bengaluru\", 18.9, 480.0, 25.0,  datetime.strptime(\"2025-08-08 08:45:00\", \"%Y-%m-%d %H:%M:%S\")),\n",
        "    (1005,\"R004\",\"D013\",\"Chennai\",   10.0, 260.0, 15.0,  datetime.strptime(\"2025-08-08 09:05:00\", \"%Y-%m-%d %H:%M:%S\")),\n",
        "    (1006,\"R005\",\"D012\",\"Pune\",       2.2,  70.0,  0.0,  datetime.strptime(\"2025-08-08 09:10:00\", \"%Y-%m-%d %H:%M:%S\")),\n",
        "]\n",
        "\n",
        "drivers_rows = [\n",
        "    (\"D010\",\"Anil\",   4.8,\"WagonR\"),\n",
        "    (\"D011\",\"Sana\",   4.6,\"i20\"),\n",
        "    (\"D012\",\"Rakesh\", 4.4,\"Swift\"),\n",
        "    (\"D013\",\"Meera\",  4.9,\"Ciaz\")\n",
        "]\n",
        "\n",
        "trips_df   = spark.createDataFrame(trips_rows, schema=trip_schema)\n",
        "drivers_df = spark.createDataFrame(drivers_rows, schema=driver_schema)\n",
        "\n",
        "# Save to Delta\n",
        "BASE = \"/tmp/delta/ride_hailing\"\n",
        "TRIPS_PATH   = f\"{BASE}/trips\"\n",
        "DRIVERS_PATH = f\"{BASE}/drivers\"\n",
        "\n",
        "trips_df.write.format(\"delta\").mode(\"overwrite\").save(TRIPS_PATH)\n",
        "drivers_df.write.format(\"delta\").mode(\"overwrite\").save(DRIVERS_PATH)\n",
        "\n",
        "print(\"Seeded:\")\n",
        "print(\"  Trips  ->\", TRIPS_PATH)\n",
        "print(\"  Drivers->\", DRIVERS_PATH)"
      ],
      "metadata": {
        "colab": {
          "base_uri": "https://localhost:8080/"
        },
        "id": "8XFF4UF1RVYU",
        "outputId": "a98f6a57-40c7-4b9e-8922-195b307f1a4d"
      },
      "execution_count": 5,
      "outputs": [
        {
          "output_type": "stream",
          "name": "stdout",
          "text": [
            "Seeded:\n",
            "  Trips  -> /tmp/delta/ride_hailing/trips\n",
            "  Drivers-> /tmp/delta/ride_hailing/drivers\n"
          ]
        }
      ]
    },
    {
      "cell_type": "markdown",
      "source": [
        "#Managed vs Unmanaged table"
      ],
      "metadata": {
        "id": "qmZMk20sRjb4"
      }
    },
    {
      "cell_type": "code",
      "source": [
        "#Create a managed Delta table trips_managed by AS SELECT from the Delta path.\n",
        "spark.sql(\"DROP TABLE IF EXISTS trips_managed\")\n",
        "spark.sql(f\"\"\"\n",
        "  CREATE TABLE trips_managed\n",
        "  USING DELTA\n",
        "  AS SELECT * FROM delta.`{TRIPS_PATH}`\n",
        "\"\"\")\n",
        "#Create an external (unmanaged) table drivers_ext that points to DRIVERS_PATH .\n",
        "spark.sql(\"DROP TABLE IF EXISTS drivers_ext\")\n",
        "spark.sql(f\"\"\"\n",
        "  CREATE TABLE drivers_ext\n",
        "  USING DELTA\n",
        "  LOCATION '{DRIVERS_PATH}'\n",
        "\"\"\")\n",
        "#Verify locations with DESCRIBE DETAIL and explain the difference in your own words.\n",
        "print(\"Managed:\")\n",
        "spark.sql(\"DESCRIBE DETAIL trips_managed\").select(\"location\").show(truncate=False)\n",
        "\n",
        "print(\"Unmanaged:\")\n",
        "spark.sql(\"DESCRIBE DETAIL drivers_ext\").select(\"location\").show(truncate=False)"
      ],
      "metadata": {
        "colab": {
          "base_uri": "https://localhost:8080/"
        },
        "id": "RKUPK9DuRcGA",
        "outputId": "62dca5cb-1178-47b6-a5c6-b97f79991717"
      },
      "execution_count": 7,
      "outputs": [
        {
          "output_type": "stream",
          "name": "stdout",
          "text": [
            "Managed:\n",
            "+-------------------------------------------+\n",
            "|location                                   |\n",
            "+-------------------------------------------+\n",
            "|file:/content/spark-warehouse/trips_managed|\n",
            "+-------------------------------------------+\n",
            "\n",
            "Unmanaged:\n",
            "+------------------------------------+\n",
            "|location                            |\n",
            "+------------------------------------+\n",
            "|file:/tmp/delta/ride_hailing/drivers|\n",
            "+------------------------------------+\n",
            "\n"
          ]
        }
      ]
    },
    {
      "cell_type": "markdown",
      "source": [
        "#Read & Explore"
      ],
      "metadata": {
        "id": "1t_baCjjUua8"
      }
    },
    {
      "cell_type": "code",
      "source": [
        "#Read both tables, print schemas, and show 10 rows.\n",
        "trips_df = spark.sql(\"SELECT * FROM trips_managed\")\n",
        "drivers_df = spark.sql(\"SELECT * FROM drivers_ext\")\n",
        "\n",
        "trips_df.printSchema()\n",
        "drivers_df.printSchema()\n",
        "\n",
        "trips_df.show(10)\n",
        "drivers_df.show(10)\n",
        "#Compute a derived column total_amount = fare + tip and show top 5 trips by total_amount .\n",
        "trips_df.withColumn(\"total_amount\", F.col(\"fare\") + F.col(\"tip\")).orderBy(F.col(\"total_amount\").desc()).show(5)"
      ],
      "metadata": {
        "colab": {
          "base_uri": "https://localhost:8080/"
        },
        "id": "GiqTijd0UnTj",
        "outputId": "1c13d5b0-9b37-4fb9-800b-de01c0084840"
      },
      "execution_count": 10,
      "outputs": [
        {
          "output_type": "stream",
          "name": "stdout",
          "text": [
            "root\n",
            " |-- trip_id: integer (nullable = true)\n",
            " |-- rider_id: string (nullable = true)\n",
            " |-- driver_id: string (nullable = true)\n",
            " |-- city: string (nullable = true)\n",
            " |-- distance_km: double (nullable = true)\n",
            " |-- fare: double (nullable = true)\n",
            " |-- tip: double (nullable = true)\n",
            " |-- ts: timestamp (nullable = true)\n",
            "\n",
            "root\n",
            " |-- driver_id: string (nullable = true)\n",
            " |-- driver_name: string (nullable = true)\n",
            " |-- rating: double (nullable = true)\n",
            " |-- vehicle: string (nullable = true)\n",
            "\n",
            "+-------+--------+---------+---------+-----------+-----+----+-------------------+\n",
            "|trip_id|rider_id|driver_id|     city|distance_km| fare| tip|                 ts|\n",
            "+-------+--------+---------+---------+-----------+-----+----+-------------------+\n",
            "|   1004|    R001|     D010|Bengaluru|       18.9|480.0|25.0|2025-08-08 08:45:00|\n",
            "|   1005|    R004|     D013|  Chennai|       10.0|260.0|15.0|2025-08-08 09:05:00|\n",
            "|   1006|    R005|     D012|     Pune|        2.2| 70.0| 0.0|2025-08-08 09:10:00|\n",
            "|   1001|    R001|     D010|Bengaluru|       12.4|320.0|20.0|2025-08-08 08:05:00|\n",
            "|   1002|    R002|     D011|Hyderabad|        6.2|150.0|10.0|2025-08-08 08:15:00|\n",
            "|   1003|    R003|     D012|     Pune|        3.5| 90.0| 0.0|2025-08-08 08:20:00|\n",
            "+-------+--------+---------+---------+-----------+-----+----+-------------------+\n",
            "\n",
            "+---------+-----------+------+-------+\n",
            "|driver_id|driver_name|rating|vehicle|\n",
            "+---------+-----------+------+-------+\n",
            "|     D012|     Rakesh|   4.4|  Swift|\n",
            "|     D013|      Meera|   4.9|   Ciaz|\n",
            "|     D010|       Anil|   4.8| WagonR|\n",
            "|     D011|       Sana|   4.6|    i20|\n",
            "+---------+-----------+------+-------+\n",
            "\n",
            "+-------+--------+---------+---------+-----------+-----+----+-------------------+------------+\n",
            "|trip_id|rider_id|driver_id|     city|distance_km| fare| tip|                 ts|total_amount|\n",
            "+-------+--------+---------+---------+-----------+-----+----+-------------------+------------+\n",
            "|   1004|    R001|     D010|Bengaluru|       18.9|480.0|25.0|2025-08-08 08:45:00|       505.0|\n",
            "|   1001|    R001|     D010|Bengaluru|       12.4|320.0|20.0|2025-08-08 08:05:00|       340.0|\n",
            "|   1005|    R004|     D013|  Chennai|       10.0|260.0|15.0|2025-08-08 09:05:00|       275.0|\n",
            "|   1002|    R002|     D011|Hyderabad|        6.2|150.0|10.0|2025-08-08 08:15:00|       160.0|\n",
            "|   1003|    R003|     D012|     Pune|        3.5| 90.0| 0.0|2025-08-08 08:20:00|        90.0|\n",
            "+-------+--------+---------+---------+-----------+-----+----+-------------------+------------+\n",
            "only showing top 5 rows\n",
            "\n"
          ]
        }
      ]
    },
    {
      "cell_type": "markdown",
      "source": [
        "#Update (Business Rule)\n",
        "."
      ],
      "metadata": {
        "id": "oMBiEfyWVGXF"
      }
    },
    {
      "cell_type": "code",
      "source": [
        "#Increase tip by 5 for trips in Bengaluru where distance_km > 15 .\n",
        "#Show before/after for affected rows only\n",
        "\n",
        "spark.sql(\"SELECT * FROM trips_managed WHERE city='Bengaluru' AND distance_km>15\").show()\n",
        "\n",
        "spark.sql(\"\"\"\n",
        "  UPDATE trips_managed\n",
        "  SET tip = tip + 5\n",
        "  WHERE city = 'Bengaluru' AND distance_km > 15\n",
        "\"\"\")\n",
        "\n",
        "\n",
        "spark.sql(\"SELECT * FROM trips_managed WHERE city='Bengaluru' AND distance_km>15\").show()\n"
      ],
      "metadata": {
        "colab": {
          "base_uri": "https://localhost:8080/"
        },
        "id": "G2guMUxQVOf9",
        "outputId": "f1705107-dd56-45ab-c555-76fb1c82062e"
      },
      "execution_count": 11,
      "outputs": [
        {
          "output_type": "stream",
          "name": "stdout",
          "text": [
            "+-------+--------+---------+---------+-----------+-----+----+-------------------+\n",
            "|trip_id|rider_id|driver_id|     city|distance_km| fare| tip|                 ts|\n",
            "+-------+--------+---------+---------+-----------+-----+----+-------------------+\n",
            "|   1004|    R001|     D010|Bengaluru|       18.9|480.0|25.0|2025-08-08 08:45:00|\n",
            "+-------+--------+---------+---------+-----------+-----+----+-------------------+\n",
            "\n",
            "+-------+--------+---------+---------+-----------+-----+----+-------------------+\n",
            "|trip_id|rider_id|driver_id|     city|distance_km| fare| tip|                 ts|\n",
            "+-------+--------+---------+---------+-----------+-----+----+-------------------+\n",
            "|   1004|    R001|     D010|Bengaluru|       18.9|480.0|30.0|2025-08-08 08:45:00|\n",
            "+-------+--------+---------+---------+-----------+-----+----+-------------------+\n",
            "\n"
          ]
        }
      ]
    },
    {
      "cell_type": "markdown",
      "source": [
        "#Delete (Data Quality)"
      ],
      "metadata": {
        "id": "hh9oR-clVeI6"
      }
    },
    {
      "cell_type": "code",
      "source": [
        "#Delete trips where fare <= 0 or distance_km <= 0 (simulate bad ingest).\n",
        "spark.sql(\"\"\"\n",
        "  DELETE FROM trips_managed\n",
        "  WHERE fare <= 0 OR distance_km <= 0\n",
        "\"\"\")\n",
        "\n",
        "print(\"Remaining rows:\", spark.sql(\"SELECT COUNT(*) FROM trips_managed\").collect()[0][0])\n"
      ],
      "metadata": {
        "colab": {
          "base_uri": "https://localhost:8080/"
        },
        "id": "vjp3dQcJVyW1",
        "outputId": "dd16bb22-d558-4924-8f04-3ba60840767f"
      },
      "execution_count": 12,
      "outputs": [
        {
          "output_type": "stream",
          "name": "stdout",
          "text": [
            "Remaining rows: 6\n"
          ]
        }
      ]
    },
    {
      "cell_type": "markdown",
      "source": [
        "#Merge (Upsert New Batch)\n",
        "Create a new inline batch with:\n",
        "one existing trip_id (e.g., 1004) but a corrected fare or tip, and\n",
        "one new trip (e.g., 1007). Perform a MERGE (match on trip_id ) to update the\n",
        "existing and insert the new.\n",
        "Show rows for trip_id IN (1004,1007) to confirm."
      ],
      "metadata": {
        "id": "GzGi4IUIV5ps"
      }
    },
    {
      "cell_type": "code",
      "source": [
        "!pip install -q pyspark==3.5.0 delta-spark==3.1.0\n",
        "from pyspark.sql import SparkSession\n",
        "from delta import configure_spark_with_delta_pip\n",
        "builder = (\n",
        "    SparkSession.builder.appName(\"DeltaMergeExample\")\n",
        "    .config(\"spark.sql.extensions\", \"io.delta.sql.DeltaSparkSessionExtension\")\n",
        "    .config(\"spark.sql.catalog.spark_catalog\", \"org.apache.spark.sql.delta.catalog.DeltaCatalog\")\n",
        ")\n",
        "spark = configure_spark_with_delta_pip(builder).getOrCreate()\n",
        "updates = [\n",
        "    (1004, \"R001\", \"D010\", \"Bengaluru\", 18.9, 500.0, 30.0, datetime.datetime(2025, 8, 8, 8, 45, 0)),\n",
        "    (1007, \"R006\", \"D011\", \"Hyderabad\",  7.5, 180.0, 12.0, datetime.datetime(2025, 8, 8, 10, 15, 0))\n",
        "]\n",
        "updates_df = spark.createDataFrame(updates, schema=trip_schema)\n",
        "delta_trips = DeltaTable.forPath(spark, TRIPS_PATH)\n",
        "delta_trips.alias(\"t\") \\\n",
        "    .merge(updates_df.alias(\"s\"), \"t.trip_id = s.trip_id\") \\\n",
        "    .whenMatchedUpdateAll() \\\n",
        "    .whenNotMatchedInsertAll() \\\n",
        "    .execute()\n",
        "spark.read.format(\"delta\").load(TRIPS_PATH) \\\n",
        "    .filter(\"trip_id IN (1004, 1007)\") \\\n",
        "    .show()\n"
      ],
      "metadata": {
        "colab": {
          "base_uri": "https://localhost:8080/"
        },
        "id": "ONRbS-PgV8kc",
        "outputId": "781bb42c-6232-4dc3-dd21-c769d46c9139"
      },
      "execution_count": 9,
      "outputs": [
        {
          "output_type": "stream",
          "name": "stdout",
          "text": [
            "+-------+--------+---------+---------+-----------+-----+----+-------------------+\n",
            "|trip_id|rider_id|driver_id|     city|distance_km| fare| tip|                 ts|\n",
            "+-------+--------+---------+---------+-----------+-----+----+-------------------+\n",
            "|   1004|    R001|     D010|Bengaluru|       18.9|500.0|30.0|2025-08-08 08:45:00|\n",
            "|   1007|    R006|     D011|Hyderabad|        7.5|180.0|12.0|2025-08-08 10:15:00|\n",
            "+-------+--------+---------+---------+-----------+-----+----+-------------------+\n",
            "\n"
          ]
        }
      ]
    },
    {
      "cell_type": "code",
      "source": [
        "!pip install delta-spark==3.1.0\n"
      ],
      "metadata": {
        "colab": {
          "base_uri": "https://localhost:8080/"
        },
        "id": "IYehBprVFkVO",
        "outputId": "c8a6a06e-d2ae-468a-e720-9451d6db8acf"
      },
      "execution_count": 2,
      "outputs": [
        {
          "output_type": "stream",
          "name": "stdout",
          "text": [
            "Collecting delta-spark==3.1.0\n",
            "  Downloading delta_spark-3.1.0-py3-none-any.whl.metadata (1.9 kB)\n",
            "Requirement already satisfied: pyspark<3.6.0,>=3.5.0 in /usr/local/lib/python3.11/dist-packages (from delta-spark==3.1.0) (3.5.1)\n",
            "Requirement already satisfied: importlib-metadata>=1.0.0 in /usr/local/lib/python3.11/dist-packages (from delta-spark==3.1.0) (8.7.0)\n",
            "Requirement already satisfied: zipp>=3.20 in /usr/local/lib/python3.11/dist-packages (from importlib-metadata>=1.0.0->delta-spark==3.1.0) (3.23.0)\n",
            "Requirement already satisfied: py4j==0.10.9.7 in /usr/local/lib/python3.11/dist-packages (from pyspark<3.6.0,>=3.5.0->delta-spark==3.1.0) (0.10.9.7)\n",
            "Downloading delta_spark-3.1.0-py3-none-any.whl (21 kB)\n",
            "Installing collected packages: delta-spark\n",
            "Successfully installed delta-spark-3.1.0\n"
          ]
        }
      ]
    },
    {
      "cell_type": "markdown",
      "source": [
        "\n",
        "\n",
        "#Gold View (Join & KPIs)\n",
        "* Join trips with drivers on driver_id .\n",
        "* Create a gold view with columns: trip_id, city, driver_name, rating,\n",
        "distance_km, total_amount, ts .\n",
        "1. From this gold view:\n",
        "* Compute city-wise total revenue and average driver rating.\n",
        "* Compute driver-wise total trips and top 3 drivers by revenue.\n",
        "\n"
      ],
      "metadata": {
        "id": "ZPOeP23QWtEh"
      }
    },
    {
      "cell_type": "markdown",
      "source": [],
      "metadata": {
        "id": "VOiPbuy2Uwzt"
      }
    },
    {
      "cell_type": "code",
      "source": [
        "gold_view = spark.sql(\"\"\"\n",
        "  SELECT t.trip_id, t.city, d.driver_name, d.rating, t.distance_km,\n",
        "         (t.fare + t.tip) AS total_amount, t.ts\n",
        "  FROM trips_managed t\n",
        "  JOIN drivers_ext d ON t.driver_id = d.driver_id\n",
        "\"\"\")\n",
        "gold_view.createOrReplaceTempView(\"gold_view\")\n",
        "\n",
        "# City-wise revenue & avg rating\n",
        "spark.sql(\"\"\"\n",
        "  SELECT city, SUM(total_amount) AS revenue, AVG(rating) AS avg_rating\n",
        "  FROM gold_view\n",
        "  GROUP BY city\n",
        "\"\"\").show()\n",
        "\n",
        "# Driver-wise trips & top 3 by revenue\n",
        "spark.sql(\"\"\"\n",
        "  SELECT driver_name, COUNT(*) AS total_trips, SUM(total_amount) AS revenue\n",
        "  FROM gold_view\n",
        "  GROUP BY driver_name\n",
        "  ORDER BY revenue DESC\n",
        "  LIMIT 3\n",
        "\"\"\").show()\n"
      ],
      "metadata": {
        "colab": {
          "base_uri": "https://localhost:8080/"
        },
        "id": "Aut4pwJkWnOM",
        "outputId": "c7f4b058-aded-4102-93c1-eb55339bbc7d"
      },
      "execution_count": 15,
      "outputs": [
        {
          "output_type": "stream",
          "name": "stdout",
          "text": [
            "+---------+-------+----------+\n",
            "|     city|revenue|avg_rating|\n",
            "+---------+-------+----------+\n",
            "|  Chennai|  275.0|       4.9|\n",
            "|     Pune|  160.0|       4.4|\n",
            "|Bengaluru|  850.0|       4.8|\n",
            "|Hyderabad|  160.0|       4.6|\n",
            "+---------+-------+----------+\n",
            "\n",
            "+-----------+-----------+-------+\n",
            "|driver_name|total_trips|revenue|\n",
            "+-----------+-----------+-------+\n",
            "|       Anil|          2|  850.0|\n",
            "|      Meera|          1|  275.0|\n",
            "|     Rakesh|          2|  160.0|\n",
            "+-----------+-----------+-------+\n",
            "\n"
          ]
        }
      ]
    },
    {
      "cell_type": "markdown",
      "source": [
        "#Time Travel & History"
      ],
      "metadata": {
        "id": "VTGz86_FXHvG"
      }
    },
    {
      "cell_type": "code",
      "source": [
        "#Show DESCRIBE HISTORY for the trips table (the one you updated/merged).\n",
        "#Read the table as of version 0, and compare counts and a few rows with the latest version.\n",
        "spark.sql(\"DESCRIBE HISTORY trips_managed\").show(truncate=False)\n",
        "\n",
        "print(\"Version 0:\")\n",
        "spark.read.format(\"delta\").option(\"versionAsOf\", 0).table(\"trips_managed\").show()\n",
        "\n",
        "print(\"Latest:\")\n",
        "spark.read.format(\"delta\").table(\"trips_managed\").show()\n"
      ],
      "metadata": {
        "colab": {
          "base_uri": "https://localhost:8080/"
        },
        "id": "ETzzAG62XPyL",
        "outputId": "cc41dda2-64fb-4d86-a23c-e8360c385b7c"
      },
      "execution_count": 16,
      "outputs": [
        {
          "output_type": "stream",
          "name": "stdout",
          "text": [
            "+-------+-----------------------+------+--------+----------------------+-----------------------------------------------------------------------------+----+--------+---------+-----------+--------------+-------------+------------------------------------------------------------------------------------------------------------------------------------------------------------------------------------------------------------------------------------------------------------------------------------------------------------------------------+------------+-----------------------------------+\n",
            "|version|timestamp              |userId|userName|operation             |operationParameters                                                          |job |notebook|clusterId|readVersion|isolationLevel|isBlindAppend|operationMetrics                                                                                                                                                                                                                                                                                                              |userMetadata|engineInfo                         |\n",
            "+-------+-----------------------+------+--------+----------------------+-----------------------------------------------------------------------------+----+--------+---------+-----------+--------------+-------------+------------------------------------------------------------------------------------------------------------------------------------------------------------------------------------------------------------------------------------------------------------------------------------------------------------------------------+------------+-----------------------------------+\n",
            "|1      |2025-08-14 06:40:11.046|NULL  |NULL    |UPDATE                |{predicate -> [\"((city#5312 = Bengaluru) AND (distance_km#5313 > 15.0))\"]}   |NULL|NULL    |NULL     |0          |Serializable  |false        |{numRemovedFiles -> 1, numRemovedBytes -> 2268, numCopiedRows -> 2, numDeletionVectorsAdded -> 0, numDeletionVectorsRemoved -> 0, numAddedChangeFiles -> 0, executionTimeMs -> 3934, numDeletionVectorsUpdated -> 0, scanTimeMs -> 3381, numAddedFiles -> 1, numUpdatedRows -> 1, numAddedBytes -> 2268, rewriteTimeMs -> 545}|NULL        |Apache-Spark/3.5.0 Delta-Lake/3.1.0|\n",
            "|0      |2025-08-14 06:27:35.578|NULL  |NULL    |CREATE TABLE AS SELECT|{isManaged -> true, description -> NULL, partitionBy -> [], properties -> {}}|NULL|NULL    |NULL     |NULL       |Serializable  |true         |{numFiles -> 2, numOutputRows -> 6, numOutputBytes -> 4536}                                                                                                                                                                                                                                                                   |NULL        |Apache-Spark/3.5.0 Delta-Lake/3.1.0|\n",
            "+-------+-----------------------+------+--------+----------------------+-----------------------------------------------------------------------------+----+--------+---------+-----------+--------------+-------------+------------------------------------------------------------------------------------------------------------------------------------------------------------------------------------------------------------------------------------------------------------------------------------------------------------------------------+------------+-----------------------------------+\n",
            "\n",
            "Version 0:\n",
            "+-------+--------+---------+---------+-----------+-----+----+-------------------+\n",
            "|trip_id|rider_id|driver_id|     city|distance_km| fare| tip|                 ts|\n",
            "+-------+--------+---------+---------+-----------+-----+----+-------------------+\n",
            "|   1004|    R001|     D010|Bengaluru|       18.9|480.0|25.0|2025-08-08 08:45:00|\n",
            "|   1005|    R004|     D013|  Chennai|       10.0|260.0|15.0|2025-08-08 09:05:00|\n",
            "|   1006|    R005|     D012|     Pune|        2.2| 70.0| 0.0|2025-08-08 09:10:00|\n",
            "|   1001|    R001|     D010|Bengaluru|       12.4|320.0|20.0|2025-08-08 08:05:00|\n",
            "|   1002|    R002|     D011|Hyderabad|        6.2|150.0|10.0|2025-08-08 08:15:00|\n",
            "|   1003|    R003|     D012|     Pune|        3.5| 90.0| 0.0|2025-08-08 08:20:00|\n",
            "+-------+--------+---------+---------+-----------+-----+----+-------------------+\n",
            "\n",
            "Latest:\n",
            "+-------+--------+---------+---------+-----------+-----+----+-------------------+\n",
            "|trip_id|rider_id|driver_id|     city|distance_km| fare| tip|                 ts|\n",
            "+-------+--------+---------+---------+-----------+-----+----+-------------------+\n",
            "|   1004|    R001|     D010|Bengaluru|       18.9|480.0|30.0|2025-08-08 08:45:00|\n",
            "|   1005|    R004|     D013|  Chennai|       10.0|260.0|15.0|2025-08-08 09:05:00|\n",
            "|   1006|    R005|     D012|     Pune|        2.2| 70.0| 0.0|2025-08-08 09:10:00|\n",
            "|   1001|    R001|     D010|Bengaluru|       12.4|320.0|20.0|2025-08-08 08:05:00|\n",
            "|   1002|    R002|     D011|Hyderabad|        6.2|150.0|10.0|2025-08-08 08:15:00|\n",
            "|   1003|    R003|     D012|     Pune|        3.5| 90.0| 0.0|2025-08-08 08:20:00|\n",
            "+-------+--------+---------+---------+-----------+-----+----+-------------------+\n",
            "\n"
          ]
        }
      ]
    },
    {
      "cell_type": "markdown",
      "source": [
        "#Partitioned Rewrite (Performance)"
      ],
      "metadata": {
        "id": "e5lMMSDRXfLv"
      }
    },
    {
      "cell_type": "code",
      "source": [
        "#Rewrite the trips table partitioned by city into a new Delta path.\n",
        "\n",
        "TRIPS_PARTITIONED_PATH = f\"{BASE}/trips_partitioned\"\n",
        "spark.read.table(\"trips_managed\")\\\n",
        "    .write.format(\"delta\")\\\n",
        "    .mode(\"overwrite\")\\\n",
        "    .partitionBy(\"city\")\\\n",
        "    .save(TRIPS_PARTITIONED_PATH)\n",
        "\n",
        "print(TRIPS_PARTITIONED_PATH)\n",
        "\n"
      ],
      "metadata": {
        "colab": {
          "base_uri": "https://localhost:8080/"
        },
        "id": "D1JJvWF5Xjjb",
        "outputId": "207f5592-ba46-4802-9f3f-e325c8862506"
      },
      "execution_count": 17,
      "outputs": [
        {
          "output_type": "stream",
          "name": "stdout",
          "text": [
            "/tmp/delta/ride_hailing/trips_partitioned\n"
          ]
        }
      ]
    },
    {
      "cell_type": "code",
      "source": [
        "#Compare file layout (optional: list files) and run a simple filter city='Bengaluru' to observe read behavior/time.\n",
        "import os\n",
        "import datetime\n",
        "import time\n",
        "\n",
        "for root, dirs, files in os.walk(TRIPS_PARTITIONED_PATH):\n",
        "    level = root.replace(TRIPS_PARTITIONED_PATH, \"\").count(os.sep)\n",
        "    indent = \" \" * 2 * level\n",
        "    print(f\"{indent}{os.path.basename(root)}/\")\n",
        "    for f in files:\n",
        "        print(\" \" * 2 * (level + 1) + f)\n",
        "\n",
        "# Timing comparison\n",
        "start = time.time()\n",
        "spark.read.format(\"delta\").load(TRIPS_PATH) \\\n",
        "    .filter(F.col(\"city\") == \"Bengaluru\") \\\n",
        "    .collect()\n",
        "print(f\"\\nOriginal scan time: {time.time() - start:.4f} seconds\")\n",
        "\n",
        "start = time.time()\n",
        "spark.read.format(\"delta\").load(TRIPS_PARTITIONED_PATH) \\\n",
        "    .filter(F.col(\"city\") == \"Bengaluru\") \\\n",
        "    .collect()\n",
        "print(f\"Partitioned scan time: {time.time() - start:.4f} seconds\")\n"
      ],
      "metadata": {
        "colab": {
          "base_uri": "https://localhost:8080/"
        },
        "id": "kxGchsM1YqPW",
        "outputId": "a1208edf-a098-4852-cc6b-93fb234ee22c"
      },
      "execution_count": 22,
      "outputs": [
        {
          "output_type": "stream",
          "name": "stdout",
          "text": [
            "trips_partitioned/\n",
            "  _delta_log/\n",
            "    .00000000000000000000.json.crc\n",
            "    00000000000000000000.json\n",
            "  city=Chennai/\n",
            "    .part-00000-1f788fff-2b11-46e7-a632-e3cac4fd9331.c000.snappy.parquet.crc\n",
            "    part-00000-1f788fff-2b11-46e7-a632-e3cac4fd9331.c000.snappy.parquet\n",
            "  city=Hyderabad/\n",
            "    part-00001-fa13d569-ae10-415d-928a-9558e9411a1b.c000.snappy.parquet\n",
            "    .part-00001-fa13d569-ae10-415d-928a-9558e9411a1b.c000.snappy.parquet.crc\n",
            "  city=Bengaluru/\n",
            "    .part-00000-cd7af288-1169-4fc8-b5b5-692765bff156.c000.snappy.parquet.crc\n",
            "    .part-00001-29b076fc-8bac-4e56-bec0-6caa4ce6ed63.c000.snappy.parquet.crc\n",
            "    part-00000-cd7af288-1169-4fc8-b5b5-692765bff156.c000.snappy.parquet\n",
            "    part-00001-29b076fc-8bac-4e56-bec0-6caa4ce6ed63.c000.snappy.parquet\n",
            "  city=Pune/\n",
            "    .part-00001-a81a10a7-4aad-48d2-a7a3-0bd685e5567b.c000.snappy.parquet.crc\n",
            "    part-00000-c980d41c-6661-4203-ab3e-218fa3cd485a.c000.snappy.parquet\n",
            "    .part-00000-c980d41c-6661-4203-ab3e-218fa3cd485a.c000.snappy.parquet.crc\n",
            "    part-00001-a81a10a7-4aad-48d2-a7a3-0bd685e5567b.c000.snappy.parquet\n",
            "\n",
            "Original scan time: 1.8855 seconds\n",
            "Partitioned scan time: 1.7017 seconds\n"
          ]
        }
      ]
    },
    {
      "cell_type": "markdown",
      "source": [
        "#Incremental Load Simulation\n"
      ],
      "metadata": {
        "id": "-3PuhCiDZU4d"
      }
    },
    {
      "cell_type": "code",
      "source": [
        "import datetime\n",
        "\n",
        "# 1) Create small incremental batch using Python datetime\n",
        "incremental_rows = [\n",
        "    (1008, \"R007\", \"D011\", \"Mumbai\", 8.0, 200.0, 15.0, datetime.datetime(2025, 8, 8, 11, 15, 0)),\n",
        "    (1009, \"R008\", \"D012\", \"Mumbai\", 5.5, 150.0, 10.0, datetime.datetime(2025, 8, 8, 11, 25, 0))\n",
        "]\n",
        "\n",
        "incremental_df = spark.createDataFrame(incremental_rows, schema=trip_schema)\n",
        "\n",
        "# 2) Append to trips_managed\n",
        "incremental_df.write.format(\"delta\").mode(\"append\").saveAsTable(\"trips_managed\")\n",
        "\n",
        "print(\"Incremental batch appended.\")\n",
        "\n",
        "# 3) Check city-wise revenue after incremental load\n",
        "spark.sql(\"\"\"\n",
        "    SELECT city, SUM(fare + tip) AS total_revenue\n",
        "    FROM trips_managed\n",
        "    GROUP BY city\n",
        "    ORDER BY total_revenue DESC\n",
        "\"\"\").show()\n"
      ],
      "metadata": {
        "colab": {
          "base_uri": "https://localhost:8080/"
        },
        "id": "Ab1Cd30OZZv9",
        "outputId": "cd7cf2be-c73d-462a-8ad8-1ac1b44c5eee"
      },
      "execution_count": 25,
      "outputs": [
        {
          "output_type": "stream",
          "name": "stdout",
          "text": [
            "Incremental batch appended.\n",
            "+---------+-------------+\n",
            "|     city|total_revenue|\n",
            "+---------+-------------+\n",
            "|Bengaluru|        850.0|\n",
            "|   Mumbai|        750.0|\n",
            "|  Chennai|        275.0|\n",
            "|     Pune|        160.0|\n",
            "|Hyderabad|        160.0|\n",
            "+---------+-------------+\n",
            "\n"
          ]
        }
      ]
    },
    {
      "cell_type": "markdown",
      "source": [
        "#Simple Streaming (File Stream → Console)\n",
        "Start a structured stream that reads Delta from TRIPS_PATH in readStream mode\n",
        "and writes to console (append).\n",
        "While the stream runs, append another tiny batch (e.g., one more Mumbai trip)\n",
        "and observe the new row displayed.\n",
        "Tip: Use .trigger(processingTime='5 seconds') to throttle updates."
      ],
      "metadata": {
        "id": "DnxtL8hPaznA"
      }
    },
    {
      "cell_type": "code",
      "source": [
        "from pyspark.sql import functions as F\n",
        "import datetime\n",
        "\n",
        "# 1) Start stream from TRIPS_PATH\n",
        "stream_df = spark.readStream.format(\"delta\").load(TRIPS_PATH)\n",
        "\n",
        "query = (\n",
        "    stream_df.writeStream\n",
        "    .format(\"memory\")\n",
        "    .queryName(\"trips_stream\")\n",
        "    .outputMode(\"append\")\n",
        "    .trigger(processingTime=\"5 seconds\")\n",
        "    .start()\n",
        ")\n",
        "\n"
      ],
      "metadata": {
        "id": "hdOCW10_bc7I"
      },
      "execution_count": 26,
      "outputs": []
    },
    {
      "cell_type": "code",
      "source": [
        "extra_trip = [\n",
        "    (1012, \"R012\", \"D010\", \"Mumbai\", 7.0, 190.0, 15.0, datetime.datetime(2025, 8, 8, 12, 5, 0))\n",
        "]\n",
        "spark.createDataFrame(extra_trip, schema=trip_schema) \\\n",
        "     .write.format(\"delta\").mode(\"append\").save(TRIPS_PATH)\n",
        "\n"
      ],
      "metadata": {
        "id": "usxpZdbKbqQN"
      },
      "execution_count": 27,
      "outputs": []
    },
    {
      "cell_type": "markdown",
      "source": [
        "#11) Visualization\n",
        "1. Convert the gold view results (city revenue) to Pandas and plot a bar chart of city vs total revenue.\n",
        "2. Plot a line chart of hourly revenue: group by hour(ts) and sum total_amount ."
      ],
      "metadata": {
        "id": "F8Q4PpKNb2MK"
      }
    },
    {
      "cell_type": "code",
      "source": [
        "import matplotlib.pyplot as plt\n",
        "city_rev_df = spark.sql(\"\"\"\n",
        "    SELECT city, SUM(total_amount) AS total_revenue\n",
        "    FROM gold_view\n",
        "    GROUP BY city\n",
        "    ORDER BY total_revenue DESC\n",
        "\"\"\").toPandas()\n",
        "plt.figure(figsize=(6,4))\n",
        "plt.bar(city_rev_df['city'], city_rev_df['total_revenue'], color='skyblue')\n",
        "plt.xlabel(\"City\")\n",
        "plt.ylabel(\"Total Revenue\")\n",
        "plt.title(\"City-wise Total Revenue\")\n",
        "plt.show()\n"
      ],
      "metadata": {
        "colab": {
          "base_uri": "https://localhost:8080/",
          "height": 410
        },
        "id": "WnkYvOFncBb-",
        "outputId": "2fbbb79e-cd91-4771-eda6-00b438a7cefb"
      },
      "execution_count": 33,
      "outputs": [
        {
          "output_type": "display_data",
          "data": {
            "text/plain": [
              "<Figure size 600x400 with 1 Axes>"
            ],
            "image/png": "[encoded data removed]"
          },
          "metadata": {}
        }
      ]
    },
    {
      "cell_type": "code",
      "source": [
        "#line chart\n",
        "hourly_rev_df = spark.sql(\"\"\"\n",
        "    SELECT HOUR(ts) AS hour, SUM(total_amount) AS total_revenue\n",
        "    FROM gold_view\n",
        "    GROUP BY HOUR(ts)\n",
        "    ORDER BY hour\n",
        "\"\"\").toPandas()\n",
        "import matplotlib.pyplot as plt\n",
        "\n",
        "plt.figure(figsize=(6,4))\n",
        "plt.plot(hourly_rev_df['hour'], hourly_rev_df['total_revenue'], marker='o')\n",
        "plt.xlabel(\"Hour of Day\")\n",
        "plt.ylabel(\"Total Revenue\")\n",
        "plt.title(\"Hourly Revenue Trend\")\n",
        "plt.grid(True)\n",
        "plt.show()\n"
      ],
      "metadata": {
        "colab": {
          "base_uri": "https://localhost:8080/",
          "height": 410
        },
        "id": "XfHqgDx-cQKF",
        "outputId": "7e6ba428-5630-4884-b26c-e14dff850901"
      },
      "execution_count": 32,
      "outputs": [
        {
          "output_type": "display_data",
          "data": {
            "text/plain": [
              "<Figure size 600x400 with 1 Axes>"
            ],
            "image/png": "[encoded data removed]"
          },
          "metadata": {}
        }
      ]
    },
    {
      "cell_type": "markdown",
      "source": [
        "#12) Managed vs Unmanaged Cleanup\n",
        "\n"
      ],
      "metadata": {
        "id": "y-u03p73c0oB"
      }
    },
    {
      "cell_type": "code",
      "source": [
        "#DROP TABLE the managed and unmanaged tables;\n",
        "'''verify:\n",
        "Data for managed is removed with the table (when stored in the\n",
        "warehouse).\n",
        "Data for unmanaged stays at DRIVERS_PATH after drop.'''\n",
        "# Drop managed and unmanaged tables\n",
        "spark.sql(\"DROP TABLE IF EXISTS trips_managed\")\n",
        "spark.sql(\"DROP TABLE IF EXISTS drivers_ext\")\n",
        "\n",
        "import os\n",
        "\n",
        "print(\" Managed table\")\n",
        "managed_location = f\"/tmp/spark-warehouse/trips_managed\"\n",
        "if os.path.exists(managed_location):\n",
        "    print(\"Still exists:\", managed_location)\n",
        "else:\n",
        "    print(\" Removed:\", managed_location)\n",
        "\n",
        "print(\" Unmanaged table\")\n",
        "if os.path.exists(DRIVERS_PATH):\n",
        "    print(\"Still exists:\", DRIVERS_PATH)\n",
        "    print(\"Files:\", os.listdir(DRIVERS_PATH))\n",
        "else:\n",
        "    print(\"Removed:\", DRIVERS_PATH)\n",
        "\n"
      ],
      "metadata": {
        "id": "pNh-zRS1c7oW"
      },
      "execution_count": null,
      "outputs": []
    },
    {
      "cell_type": "markdown",
      "source": [
        "#Constraint/Quality Check (Optional)\n"
      ],
      "metadata": {
        "id": "OpcYvhRgddWz"
      }
    },
    {
      "cell_type": "code",
      "source": [
        "#Add a check to reject rows where tip < 0 (enforce during write or simulate with a filter before save).\n",
        "#Demonstrate an attempt to write bad data and show how you prevented it.\n",
        "import datetime\n",
        "bad_data = [    (2001, \"R020\", \"D010\", \"Bengaluru\", 10.0, 250.0, -5.0, datetime.datetime(2025, 8, 8, 15, 0, 0))]\n",
        "bad_df = spark.createDataFrame(bad_data, schema=trip_schema)\n",
        "bad_df.show()\n"
      ],
      "metadata": {
        "colab": {
          "base_uri": "https://localhost:8080/"
        },
        "id": "ZGC7iZgJdkKq",
        "outputId": "0061a8af-d473-4f92-aa32-b87936f5911a"
      },
      "execution_count": 34,
      "outputs": [
        {
          "output_type": "stream",
          "name": "stdout",
          "text": [
            "+-------+--------+---------+---------+-----------+-----+----+-------------------+\n",
            "|trip_id|rider_id|driver_id|     city|distance_km| fare| tip|                 ts|\n",
            "+-------+--------+---------+---------+-----------+-----+----+-------------------+\n",
            "|   2001|    R020|     D010|Bengaluru|       10.0|250.0|-5.0|2025-08-08 15:00:00|\n",
            "+-------+--------+---------+---------+-----------+-----+----+-------------------+\n",
            "\n"
          ]
        }
      ]
    },
    {
      "cell_type": "code",
      "source": [
        "\n",
        "valid_df = bad_df.filter(F.col(\"tip\") >= 0)\n",
        "if valid_df.count() == bad_df.count():\n",
        "\n",
        "    valid_df.write.format(\"delta\").mode(\"append\").saveAsTable(\"trips_managed\")\n",
        "    print(\"Data written successfully.\")\n",
        "else:\n",
        "    print(\"Bad data detected!\")\n"
      ],
      "metadata": {
        "colab": {
          "base_uri": "https://localhost:8080/"
        },
        "id": "E2gLMg3Gd96k",
        "outputId": "a21a073d-7bee-4442-c1c2-152e2747defd"
      },
      "execution_count": 35,
      "outputs": [
        {
          "output_type": "stream",
          "name": "stdout",
          "text": [
            "Bad data detected!\n"
          ]
        }
      ]
    },
    {
      "cell_type": "markdown",
      "source": [
        "#14) Convert Parquet → Delta (Optional)"
      ],
      "metadata": {
        "id": "vvY8ZHFseMZd"
      }
    },
    {
      "cell_type": "code",
      "source": [
        "#Save a small subset of trips as Parquet in a new folder and CONVERT TO DELTA.\n",
        "PARQUET_PATH = f\"{BASE}/trips_parquet\"\n",
        "spark.read.table(\"trips_managed\").write.format(\"parquet\").mode(\"overwrite\").save(PARQUET_PATH)\n",
        "\n",
        "print( PARQUET_PATH)\n",
        "\n",
        "\n"
      ],
      "metadata": {
        "colab": {
          "base_uri": "https://localhost:8080/"
        },
        "id": "Kg4hcgwheQPa",
        "outputId": "53dfbbdb-e367-47a2-ddf2-2713d6c2a9e9"
      },
      "execution_count": 37,
      "outputs": [
        {
          "output_type": "stream",
          "name": "stdout",
          "text": [
            "/tmp/delta/ride_hailing/trips_parquet\n"
          ]
        }
      ]
    },
    {
      "cell_type": "code",
      "source": [
        "\n",
        "spark.sql(f\"CONVERT TO DELTA parquet.`{PARQUET_PATH}`\")\n",
        "\n",
        "\n"
      ],
      "metadata": {
        "colab": {
          "base_uri": "https://localhost:8080/"
        },
        "id": "XpUyKl_9evvZ",
        "outputId": "91998583-a0bd-484a-9482-c88bc43ca78f"
      },
      "execution_count": 38,
      "outputs": [
        {
          "output_type": "execute_result",
          "data": {
            "text/plain": [
              "DataFrame[]"
            ]
          },
          "metadata": {},
          "execution_count": 38
        }
      ]
    },
    {
      "cell_type": "code",
      "source": [
        "#Show it can now accept MERGE and time travel.\n",
        "from delta.tables import DeltaTable\n",
        "import datetime\n",
        "delta_parquet = DeltaTable.forPath(spark, PARQUET_PATH)\n",
        "merge_updates = [\n",
        "    (1001, \"R001\", \"D010\", \"Bengaluru\", 12.4, 350.0, 25.0, datetime.datetime(2025, 8, 8, 8, 5, 0)), # updated fare/tip\n",
        "    (3001, \"R030\", \"D013\", \"Chennai\",   9.0,  220.0, 12.0, datetime.datetime(2025, 8, 8, 16, 0, 0))  # new trip\n",
        "]\n",
        "merge_df = spark.createDataFrame(merge_updates, schema=trip_schema)\n",
        "delta_parquet.alias(\"t\") \\\n",
        "    .merge(merge_df.alias(\"s\"), \"t.trip_id = s.trip_id\") \\\n",
        "    .whenMatchedUpdateAll() \\\n",
        "    .whenNotMatchedInsertAll() \\\n",
        "    .execute()\n",
        "spark.read.format(\"delta\").load(PARQUET_PATH).show()"
      ],
      "metadata": {
        "colab": {
          "base_uri": "https://localhost:8080/"
        },
        "id": "T1-HWwhHeqL-",
        "outputId": "3b50a282-e93e-4d4f-fd92-c157ae4c0dae"
      },
      "execution_count": 39,
      "outputs": [
        {
          "output_type": "stream",
          "name": "stdout",
          "text": [
            "+-------+--------+---------+---------+-----------+-----+----+-------------------+\n",
            "|trip_id|rider_id|driver_id|     city|distance_km| fare| tip|                 ts|\n",
            "+-------+--------+---------+---------+-----------+-----+----+-------------------+\n",
            "|   1001|    R001|     D010|Bengaluru|       12.4|350.0|25.0|2025-08-08 08:05:00|\n",
            "|   1002|    R002|     D011|Hyderabad|        6.2|150.0|10.0|2025-08-08 08:15:00|\n",
            "|   1003|    R003|     D012|     Pune|        3.5| 90.0| 0.0|2025-08-08 08:20:00|\n",
            "|   1004|    R001|     D010|Bengaluru|       18.9|480.0|30.0|2025-08-08 08:45:00|\n",
            "|   1005|    R004|     D013|  Chennai|       10.0|260.0|15.0|2025-08-08 09:05:00|\n",
            "|   1006|    R005|     D012|     Pune|        2.2| 70.0| 0.0|2025-08-08 09:10:00|\n",
            "|   1008|    R007|     D011|   Mumbai|        8.0|200.0|15.0|2025-08-08 11:15:00|\n",
            "|   3001|    R030|     D013|  Chennai|        9.0|220.0|12.0|2025-08-08 16:00:00|\n",
            "|   1008|    R007|     D011|   Mumbai|        8.0|200.0|15.0|2025-08-08 11:15:00|\n",
            "|   1009|    R008|     D012|   Mumbai|        5.5|150.0|10.0|2025-08-08 11:25:00|\n",
            "|   1009|    R008|     D012|   Mumbai|        5.5|150.0|10.0|2025-08-08 11:25:00|\n",
            "+-------+--------+---------+---------+-----------+-----+----+-------------------+\n",
            "\n"
          ]
        }
      ]
    },
    {
      "cell_type": "code",
      "source": [
        "\n",
        "spark.sql(f\"DESCRIBE HISTORY delta.`{PARQUET_PATH}`\").show(truncate=False)\n",
        "spark.read.format(\"delta\").option(\"versionAsOf\", 0).load(PARQUET_PATH).show()\n",
        "spark.read.format(\"delta\").load(PARQUET_PATH).show()\n"
      ],
      "metadata": {
        "colab": {
          "base_uri": "https://localhost:8080/"
        },
        "id": "9pFPlT57fFJa",
        "outputId": "644c4447-25f1-46bd-a70b-784811543b1c"
      },
      "execution_count": 40,
      "outputs": [
        {
          "output_type": "stream",
          "name": "stdout",
          "text": [
            "+-------+-----------------------+------+--------+---------+-----------------------------------------------------------------------------------------------------------------------------------------------------------------------------------------+----+--------+---------+-----------+--------------+-------------+--------------------------------------------------------------------------------------------------------------------------------------------------------------------------------------------------------------------------------------------------------------------------------------------------------------------------------------------------------------------------------------------------------------------------------------------------------------------------------------------------------------------------------------------------------------------------------------------------------------------------------------------------------+------------+-----------------------------------+\n",
            "|version|timestamp              |userId|userName|operation|operationParameters                                                                                                                                                                      |job |notebook|clusterId|readVersion|isolationLevel|isBlindAppend|operationMetrics                                                                                                                                                                                                                                                                                                                                                                                                                                                                                                                                                                                                                                        |userMetadata|engineInfo                         |\n",
            "+-------+-----------------------+------+--------+---------+-----------------------------------------------------------------------------------------------------------------------------------------------------------------------------------------+----+--------+---------+-----------+--------------+-------------+--------------------------------------------------------------------------------------------------------------------------------------------------------------------------------------------------------------------------------------------------------------------------------------------------------------------------------------------------------------------------------------------------------------------------------------------------------------------------------------------------------------------------------------------------------------------------------------------------------------------------------------------------------+------------+-----------------------------------+\n",
            "|1      |2025-08-14 07:22:13.2  |NULL  |NULL    |MERGE    |{predicate -> [\"(trip_id#16229 = trip_id#16245)\"], matchedPredicates -> [{\"actionType\":\"update\"}], notMatchedPredicates -> [{\"actionType\":\"insert\"}], notMatchedBySourcePredicates -> []}|NULL|NULL    |NULL     |0          |Serializable  |false        |{numTargetRowsCopied -> 6, numTargetRowsDeleted -> 0, numTargetFilesAdded -> 1, numTargetBytesAdded -> 2598, numTargetBytesRemoved -> 2561, numTargetDeletionVectorsAdded -> 0, numTargetRowsMatchedUpdated -> 1, executionTimeMs -> 10950, numTargetRowsInserted -> 1, numTargetRowsMatchedDeleted -> 0, numTargetDeletionVectorsUpdated -> 0, scanTimeMs -> 9387, numTargetRowsUpdated -> 1, numOutputRows -> 8, numTargetDeletionVectorsRemoved -> 0, numTargetRowsNotMatchedBySourceUpdated -> 0, numTargetChangeFilesAdded -> 0, numSourceRows -> 2, numTargetFilesRemoved -> 1, numTargetRowsNotMatchedBySourceDeleted -> 0, rewriteTimeMs -> 987}|NULL        |Apache-Spark/3.5.0 Delta-Lake/3.1.0|\n",
            "|0      |2025-08-14 07:21:05.364|NULL  |NULL    |CONVERT  |{numFiles -> 2, partitionedBy -> [], collectStats -> true, sourceFormat -> parquet}                                                                                                      |NULL|NULL    |NULL     |-1         |Serializable  |false        |{numConvertedFiles -> 2}                                                                                                                                                                                                                                                                                                                                                                                                                                                                                                                                                                                                                                |NULL        |Apache-Spark/3.5.0 Delta-Lake/3.1.0|\n",
            "+-------+-----------------------+------+--------+---------+-----------------------------------------------------------------------------------------------------------------------------------------------------------------------------------------+----+--------+---------+-----------+--------------+-------------+--------------------------------------------------------------------------------------------------------------------------------------------------------------------------------------------------------------------------------------------------------------------------------------------------------------------------------------------------------------------------------------------------------------------------------------------------------------------------------------------------------------------------------------------------------------------------------------------------------------------------------------------------------+------------+-----------------------------------+\n",
            "\n",
            "+-------+--------+---------+---------+-----------+-----+----+-------------------+\n",
            "|trip_id|rider_id|driver_id|     city|distance_km| fare| tip|                 ts|\n",
            "+-------+--------+---------+---------+-----------+-----+----+-------------------+\n",
            "|   1004|    R001|     D010|Bengaluru|       18.9|480.0|30.0|2025-08-08 08:45:00|\n",
            "|   1005|    R004|     D013|  Chennai|       10.0|260.0|15.0|2025-08-08 09:05:00|\n",
            "|   1006|    R005|     D012|     Pune|        2.2| 70.0| 0.0|2025-08-08 09:10:00|\n",
            "|   1001|    R001|     D010|Bengaluru|       12.4|320.0|20.0|2025-08-08 08:05:00|\n",
            "|   1002|    R002|     D011|Hyderabad|        6.2|150.0|10.0|2025-08-08 08:15:00|\n",
            "|   1003|    R003|     D012|     Pune|        3.5| 90.0| 0.0|2025-08-08 08:20:00|\n",
            "|   1008|    R007|     D011|   Mumbai|        8.0|200.0|15.0|2025-08-08 11:15:00|\n",
            "|   1008|    R007|     D011|   Mumbai|        8.0|200.0|15.0|2025-08-08 11:15:00|\n",
            "|   1009|    R008|     D012|   Mumbai|        5.5|150.0|10.0|2025-08-08 11:25:00|\n",
            "|   1009|    R008|     D012|   Mumbai|        5.5|150.0|10.0|2025-08-08 11:25:00|\n",
            "+-------+--------+---------+---------+-----------+-----+----+-------------------+\n",
            "\n",
            "+-------+--------+---------+---------+-----------+-----+----+-------------------+\n",
            "|trip_id|rider_id|driver_id|     city|distance_km| fare| tip|                 ts|\n",
            "+-------+--------+---------+---------+-----------+-----+----+-------------------+\n",
            "|   1001|    R001|     D010|Bengaluru|       12.4|350.0|25.0|2025-08-08 08:05:00|\n",
            "|   1002|    R002|     D011|Hyderabad|        6.2|150.0|10.0|2025-08-08 08:15:00|\n",
            "|   1003|    R003|     D012|     Pune|        3.5| 90.0| 0.0|2025-08-08 08:20:00|\n",
            "|   1004|    R001|     D010|Bengaluru|       18.9|480.0|30.0|2025-08-08 08:45:00|\n",
            "|   1005|    R004|     D013|  Chennai|       10.0|260.0|15.0|2025-08-08 09:05:00|\n",
            "|   1006|    R005|     D012|     Pune|        2.2| 70.0| 0.0|2025-08-08 09:10:00|\n",
            "|   1008|    R007|     D011|   Mumbai|        8.0|200.0|15.0|2025-08-08 11:15:00|\n",
            "|   3001|    R030|     D013|  Chennai|        9.0|220.0|12.0|2025-08-08 16:00:00|\n",
            "|   1008|    R007|     D011|   Mumbai|        8.0|200.0|15.0|2025-08-08 11:15:00|\n",
            "|   1009|    R008|     D012|   Mumbai|        5.5|150.0|10.0|2025-08-08 11:25:00|\n",
            "|   1009|    R008|     D012|   Mumbai|        5.5|150.0|10.0|2025-08-08 11:25:00|\n",
            "+-------+--------+---------+---------+-----------+-----+----+-------------------+\n",
            "\n"
          ]
        }
      ]
    },
    {
      "cell_type": "markdown",
      "source": [
        "# Bonus KPI Dashboard (Notebook Display)"
      ],
      "metadata": {
        "id": "tOW-Yt6CfNo7"
      }
    },
    {
      "cell_type": "code",
      "source": [
        "'''Build a quick section showing:\n",
        "Total revenue\n",
        "Trips per city (bar)\n",
        "Top drivers by revenue (bar)\n",
        "Revenue by hour (line)\n",
        "(In Databricks, use display() chart UI; in Colab, use matplotlib.)'''\n",
        "import matplotlib.pyplot as plt\n",
        "\n",
        "# Total Revenue\n",
        "total_revenue = spark.sql(\"SELECT SUM(total_amount) AS total_revenue FROM gold_view\").collect()[0][0]\n",
        "print(f\"Total Revenue: {total_revenue}\")\n",
        "\n",
        "# Trips per City\n",
        "trips_per_city = spark.sql(\"\"\"\n",
        "    SELECT city, COUNT(*) AS total_trips\n",
        "    FROM gold_view\n",
        "    GROUP BY city\n",
        "    ORDER BY total_trips DESC\n",
        "\"\"\").toPandas()\n",
        "\n",
        "# Top Drivers by Revenue\n",
        "top_drivers = spark.sql(\"\"\"\n",
        "    SELECT driver_name, SUM(total_amount) AS revenue\n",
        "    FROM gold_view\n",
        "    GROUP BY driver_name\n",
        "    ORDER BY revenue DESC\n",
        "    LIMIT 5\n",
        "\"\"\").toPandas()\n",
        "\n",
        "# Revenue by Hour\n",
        "rev_by_hour = spark.sql(\"\"\"\n",
        "    SELECT HOUR(ts) AS hour, SUM(total_amount) AS revenue\n",
        "    FROM gold_view\n",
        "    GROUP BY HOUR(ts)\n",
        "    ORDER BY hour\n",
        "\"\"\").toPandas()\n",
        "\n",
        "# Plotting\n",
        "fig, axs = plt.subplots(1, 3, figsize=(15,4))\n",
        "\n",
        "# Bar: Trips per city\n",
        "axs[0].bar(trips_per_city['city'], trips_per_city['total_trips'], color='skyblue')\n",
        "axs[0].set_title(\"Trips per City\")\n",
        "axs[0].set_xlabel(\"City\")\n",
        "axs[0].set_ylabel(\"Trips\")\n",
        "\n",
        "# Bar: Top drivers by revenue\n",
        "axs[1].bar(top_drivers['driver_name'], top_drivers['revenue'], color='orange')\n",
        "axs[1].set_title(\"Top Drivers by Revenue\")\n",
        "axs[1].set_xlabel(\"Driver\")\n",
        "axs[1].set_ylabel(\"Revenue\")\n",
        "\n",
        "# Line: Revenue by hour\n",
        "axs[2].plot(rev_by_hour['hour'], rev_by_hour['revenue'], marker='o', color='green')\n",
        "axs[2].set_title(\"Revenue by Hour\")\n",
        "axs[2].set_xlabel(\"Hour\")\n",
        "axs[2].set_ylabel(\"Revenue\")\n",
        "axs[2].grid(True)\n",
        "plt.tight_layout()\n",
        "plt.show()\n"
      ],
      "metadata": {
        "colab": {
          "base_uri": "https://localhost:8080/",
          "height": 359
        },
        "id": "dgK_AuOBfSfG",
        "outputId": "4b2ad365-66c3-46db-f9de-33b1587d0f61"
      },
      "execution_count": 43,
      "outputs": [
        {
          "output_type": "stream",
          "name": "stdout",
          "text": [
            "Total Revenue: 2195.0\n"
          ]
        },
        {
          "output_type": "display_data",
          "data": {
            "text/plain": [
              "<Figure size 1500x400 with 3 Axes>"
            ],
            "image/png": "[encoded data removed]"
          },
          "metadata": {}
        }
      ]
    }
  ]
}