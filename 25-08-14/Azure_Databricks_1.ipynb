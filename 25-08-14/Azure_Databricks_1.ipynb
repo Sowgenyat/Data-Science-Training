{
  "nbformat": 4,
  "nbformat_minor": 0,
  "metadata": {
    "colab": {
      "provenance": []
    },
    "kernelspec": {
      "name": "python3",
      "display_name": "Python 3"
    },
    "language_info": {
      "name": "python"
    }
  },
  "cells": [
    {
      "cell_type": "code",
      "execution_count": null,
      "metadata": {
        "id": "MuYheTr6OZ32"
      },
      "outputs": [],
      "source": [
        "!pip -q install pyspark==3.5.0 delta-spark==3.1.0"
      ]
    },
    {
      "cell_type": "code",
      "source": [
        "from pyspark.sql import SparkSession\n",
        "from delta import configure_spark_with_delta_pip\n",
        "\n",
        "builder = (\n",
        "    SparkSession.builder.appName(\"DeltaDemo\")\n",
        "    .config(\"spark.sql.extensions\", \"io.delta.sql.DeltaSparkSessionExtension\")\n",
        "    .config(\"spark.sql.catalog.spark_catalog\", \"org.apache.spark.sql.delta.catalog.DeltaCatalog\")\n",
        "    .config(\"spark.sql.warehouse.dir\", \"/tmp/spark-warehouse\") )\n",
        "\n",
        "spark = configure_spark_with_delta_pip(builder).getOrCreate()"
      ],
      "metadata": {
        "id": "6AbYqVn0OgvR"
      },
      "execution_count": 2,
      "outputs": []
    },
    {
      "cell_type": "code",
      "source": [
        "spark = configure_spark_with_delta_pip(builder).getOrCreate()\n",
        "data = [\n",
        "(1, \"John\", \"Electronics\", 2, 300),\n",
        "(2, \"Sara\", \"Clothing\", 1, 50),\n",
        "(3, \"Mike\", \"Electronics\", 4, 600),\n",
        "(4, \"Nina\", \"Clothing\", 3, 150),\n",
        "]\n",
        "columns = [\"order_id\", \"customer_name\", \"category\", \"quantity\", \"amount\"]\n",
        "df = spark.createDataFrame(data, columns)\n",
        "df.write.format(\"delta\").mode(\"overwrite\").save(\"/tmp/orders_delta\")"
      ],
      "metadata": {
        "id": "Cxp9Rm_lOnDm"
      },
      "execution_count": 3,
      "outputs": []
    },
    {
      "cell_type": "markdown",
      "source": [
        "#Managed Table"
      ],
      "metadata": {
        "id": "wQcC7voDOq23"
      }
    },
    {
      "cell_type": "code",
      "source": [
        "spark.sql(\"DROP TABLE IF EXISTS orders_managed\")\n",
        "spark.sql(\"\"\"\n",
        "  CREATE TABLE orders_managed\n",
        "  USING DELTA\n",
        "  AS SELECT * FROM delta.`/tmp/orders_delta`\n",
        "\"\"\")\n"
      ],
      "metadata": {
        "colab": {
          "base_uri": "https://localhost:8080/"
        },
        "id": "_fAPJQAJOt36",
        "outputId": "7dc4652a-4e34-4712-b803-f108511f48c4"
      },
      "execution_count": 4,
      "outputs": [
        {
          "output_type": "execute_result",
          "data": {
            "text/plain": [
              "DataFrame[]"
            ]
          },
          "metadata": {},
          "execution_count": 4
        }
      ]
    },
    {
      "cell_type": "code",
      "source": [
        "spark.sql(\"SELECT * FROM orders_managed\").show()\n",
        "location = spark.sql(\"DESCRIBE DETAIL orders_managed\").collect()[0]['location']\n",
        "print(\"Managed Table Location:\", location)"
      ],
      "metadata": {
        "colab": {
          "base_uri": "https://localhost:8080/"
        },
        "id": "MxnCyD5PO0rj",
        "outputId": "6fd7e211-6241-40ba-e2f0-0f52aef5de30"
      },
      "execution_count": 5,
      "outputs": [
        {
          "output_type": "stream",
          "name": "stdout",
          "text": [
            "+--------+-------------+-----------+--------+------+\n",
            "|order_id|customer_name|   category|quantity|amount|\n",
            "+--------+-------------+-----------+--------+------+\n",
            "|       1|         John|Electronics|       2|   300|\n",
            "|       2|         Sara|   Clothing|       1|    50|\n",
            "|       3|         Mike|Electronics|       4|   600|\n",
            "|       4|         Nina|   Clothing|       3|   150|\n",
            "+--------+-------------+-----------+--------+------+\n",
            "\n",
            "Managed Table Location: file:/tmp/spark-warehouse/orders_managed\n"
          ]
        }
      ]
    },
    {
      "cell_type": "markdown",
      "source": [
        "#Unmanaged table"
      ],
      "metadata": {
        "id": "uYJAvwNBO5DD"
      }
    },
    {
      "cell_type": "code",
      "source": [
        "spark.sql(\"DROP TABLE IF EXISTS orders_unmanaged\")\n",
        "spark.sql(\"\"\"\n",
        "  CREATE TABLE orders_unmanaged\n",
        "  USING DELTA\n",
        "  LOCATION '/tmp/orders_delta'\n",
        "\"\"\")\n",
        "print(\"Unmanaged Table Contents:\")\n",
        "spark.sql(\"SELECT * FROM orders_unmanaged\").show()\n",
        "location = spark.sql(\"DESCRIBE DETAIL orders_unmanaged\").collect()[0]['location']\n",
        "print(\"unManaged Table Location:\", location)"
      ],
      "metadata": {
        "colab": {
          "base_uri": "https://localhost:8080/"
        },
        "id": "JnYMo70PO9Ic",
        "outputId": "fa3a2e18-e5f4-40e7-a8c3-d9388da101d4"
      },
      "execution_count": 6,
      "outputs": [
        {
          "output_type": "stream",
          "name": "stdout",
          "text": [
            "Unmanaged Table Contents:\n",
            "+--------+-------------+-----------+--------+------+\n",
            "|order_id|customer_name|   category|quantity|amount|\n",
            "+--------+-------------+-----------+--------+------+\n",
            "|       3|         Mike|Electronics|       4|   600|\n",
            "|       4|         Nina|   Clothing|       3|   150|\n",
            "|       1|         John|Electronics|       2|   300|\n",
            "|       2|         Sara|   Clothing|       1|    50|\n",
            "+--------+-------------+-----------+--------+------+\n",
            "\n",
            "unManaged Table Location: file:/tmp/orders_delta\n"
          ]
        }
      ]
    },
    {
      "cell_type": "markdown",
      "source": [
        "#CRUD operations"
      ],
      "metadata": {
        "id": "b-fkz3evPDPT"
      }
    },
    {
      "cell_type": "code",
      "source": [
        "#Read from the table\n",
        "spark.sql(\"SELECT * FROM orders_managed\").show()\n",
        "spark.sql(\"SELECT * FROM orders_unmanaged\").show()\n",
        "\n"
      ],
      "metadata": {
        "colab": {
          "base_uri": "https://localhost:8080/"
        },
        "id": "HZ12vKapPIeT",
        "outputId": "0b8f566c-1241-45e0-af6c-6dc9b17a92d5"
      },
      "execution_count": 7,
      "outputs": [
        {
          "output_type": "stream",
          "name": "stdout",
          "text": [
            "+--------+-------------+-----------+--------+------+\n",
            "|order_id|customer_name|   category|quantity|amount|\n",
            "+--------+-------------+-----------+--------+------+\n",
            "|       1|         John|Electronics|       2|   300|\n",
            "|       2|         Sara|   Clothing|       1|    50|\n",
            "|       3|         Mike|Electronics|       4|   600|\n",
            "|       4|         Nina|   Clothing|       3|   150|\n",
            "+--------+-------------+-----------+--------+------+\n",
            "\n",
            "+--------+-------------+-----------+--------+------+\n",
            "|order_id|customer_name|   category|quantity|amount|\n",
            "+--------+-------------+-----------+--------+------+\n",
            "|       3|         Mike|Electronics|       4|   600|\n",
            "|       4|         Nina|   Clothing|       3|   150|\n",
            "|       1|         John|Electronics|       2|   300|\n",
            "|       2|         Sara|   Clothing|       1|    50|\n",
            "+--------+-------------+-----------+--------+------+\n",
            "\n"
          ]
        }
      ]
    },
    {
      "cell_type": "code",
      "source": [
        "#Update all \"Clothing\" category orders to have amount = amount + 20\n",
        "spark.sql(\"\"\"\n",
        "  UPDATE orders_unmanaged\n",
        "  SET amount = amount + 20\n",
        "  WHERE category = 'Clothing'\n",
        "\"\"\")\n",
        "spark.sql(\"SELECT * FROM orders_unmanaged ORDER BY order_id\").show()\n",
        "\n"
      ],
      "metadata": {
        "colab": {
          "base_uri": "https://localhost:8080/"
        },
        "id": "mhzEfJzbPNBf",
        "outputId": "4bab18b4-5e71-49f2-ab80-9f1e52eb3e29"
      },
      "execution_count": 8,
      "outputs": [
        {
          "output_type": "stream",
          "name": "stdout",
          "text": [
            "+--------+-------------+-----------+--------+------+\n",
            "|order_id|customer_name|   category|quantity|amount|\n",
            "+--------+-------------+-----------+--------+------+\n",
            "|       1|         John|Electronics|       2|   300|\n",
            "|       2|         Sara|   Clothing|       1|    70|\n",
            "|       3|         Mike|Electronics|       4|   600|\n",
            "|       4|         Nina|   Clothing|       3|   170|\n",
            "+--------+-------------+-----------+--------+------+\n",
            "\n"
          ]
        }
      ]
    },
    {
      "cell_type": "code",
      "source": [
        "#Delete all orders with quantity < 2\n",
        "spark.sql(\"\"\"\n",
        "  DELETE FROM orders_unmanaged\n",
        "  WHERE quantity < 2\n",
        "\"\"\")\n",
        "spark.sql(\"SELECT * FROM orders_unmanaged ORDER BY order_id\").show()\n"
      ],
      "metadata": {
        "id": "7y1K2OOePP8_"
      },
      "execution_count": null,
      "outputs": []
    },
    {
      "cell_type": "code",
      "source": [
        "#Merge in a new dataset (new orders & updated orders)\n",
        "from delta.tables import DeltaTable\n",
        "\n",
        "delta_tbl = DeltaTable.forPath(spark, \"/tmp/orders_delta\")\n",
        "\n",
        "updates = [\n",
        "    (3, \"Mike\", \"Electronics\", 5, 750),\n",
        "    (4, \"Nina\", \"Clothing\",    3, 180),\n",
        "]\n",
        "updates_df = spark.createDataFrame(updates, [\"order_id\",\"customer_name\",\"category\",\"quantity\",\"amount\"])\n",
        "\n",
        "(\n",
        "    delta_tbl.alias(\"t\")\n",
        "    .merge(updates_df.alias(\"s\"), \"t.order_id = s.order_id\")\n",
        "    .whenMatchedUpdateAll()\n",
        "    .whenNotMatchedInsertAll()\n",
        "    .execute()\n",
        ")\n",
        "\n",
        "spark.sql(\"SELECT * FROM orders_unmanaged ORDER BY order_id\").show()\n"
      ],
      "metadata": {
        "colab": {
          "base_uri": "https://localhost:8080/"
        },
        "id": "NPf-638fPSAa",
        "outputId": "c24ea11d-aa9d-404e-cc9e-de7c5d12634b"
      },
      "execution_count": 9,
      "outputs": [
        {
          "output_type": "stream",
          "name": "stdout",
          "text": [
            "+--------+-------------+-----------+--------+------+\n",
            "|order_id|customer_name|   category|quantity|amount|\n",
            "+--------+-------------+-----------+--------+------+\n",
            "|       1|         John|Electronics|       2|   300|\n",
            "|       2|         Sara|   Clothing|       1|    70|\n",
            "|       3|         Mike|Electronics|       5|   750|\n",
            "|       4|         Nina|   Clothing|       3|   180|\n",
            "+--------+-------------+-----------+--------+------+\n",
            "\n"
          ]
        }
      ]
    },
    {
      "cell_type": "markdown",
      "source": [
        "#3. History & Time Travel"
      ],
      "metadata": {
        "id": "9mdNfWR0Pclj"
      }
    },
    {
      "cell_type": "code",
      "source": [
        "#Use DESCRIBE HISTORY to check previous versions\n",
        "spark.sql(\"DESCRIBE HISTORY delta.`/tmp/orders_delta`\").show(truncate=False)\n"
      ],
      "metadata": {
        "colab": {
          "base_uri": "https://localhost:8080/"
        },
        "id": "zo1_7Z27PaF-",
        "outputId": "dad2c22f-965d-4a2d-b7d2-f0fe60799ce2"
      },
      "execution_count": 10,
      "outputs": [
        {
          "output_type": "stream",
          "name": "stdout",
          "text": [
            "+-------+-----------------------+------+--------+---------+-------------------------------------------------------------------------------------------------------------------------------------------------------------------------------------------+----+--------+---------+-----------+--------------+-------------+--------------------------------------------------------------------------------------------------------------------------------------------------------------------------------------------------------------------------------------------------------------------------------------------------------------------------------------------------------------------------------------------------------------------------------------------------------------------------------------------------------------------------------------------------------------------------------------------------------------------------------------------------------+------------+-----------------------------------+\n",
            "|version|timestamp              |userId|userName|operation|operationParameters                                                                                                                                                                        |job |notebook|clusterId|readVersion|isolationLevel|isBlindAppend|operationMetrics                                                                                                                                                                                                                                                                                                                                                                                                                                                                                                                                                                                                                                        |userMetadata|engineInfo                         |\n",
            "+-------+-----------------------+------+--------+---------+-------------------------------------------------------------------------------------------------------------------------------------------------------------------------------------------+----+--------+---------+-----------+--------------+-------------+--------------------------------------------------------------------------------------------------------------------------------------------------------------------------------------------------------------------------------------------------------------------------------------------------------------------------------------------------------------------------------------------------------------------------------------------------------------------------------------------------------------------------------------------------------------------------------------------------------------------------------------------------------+------------+-----------------------------------+\n",
            "|2      |2025-08-14 06:13:49.506|NULL  |NULL    |MERGE    |{predicate -> [\"(order_id#4048L = order_id#4058L)\"], matchedPredicates -> [{\"actionType\":\"update\"}], notMatchedPredicates -> [{\"actionType\":\"insert\"}], notMatchedBySourcePredicates -> []}|NULL|NULL    |NULL     |1          |Serializable  |false        |{numTargetRowsCopied -> 0, numTargetRowsDeleted -> 0, numTargetFilesAdded -> 1, numTargetBytesAdded -> 1566, numTargetBytesRemoved -> 1566, numTargetDeletionVectorsAdded -> 0, numTargetRowsMatchedUpdated -> 2, executionTimeMs -> 7449, numTargetRowsInserted -> 0, numTargetRowsMatchedDeleted -> 0, numTargetDeletionVectorsUpdated -> 0, scanTimeMs -> 4444, numTargetRowsUpdated -> 2, numOutputRows -> 2, numTargetDeletionVectorsRemoved -> 0, numTargetRowsNotMatchedBySourceUpdated -> 0, numTargetChangeFilesAdded -> 0, numSourceRows -> 2, numTargetFilesRemoved -> 1, numTargetRowsNotMatchedBySourceDeleted -> 0, rewriteTimeMs -> 2164}|NULL        |Apache-Spark/3.5.0 Delta-Lake/3.1.0|\n",
            "|1      |2025-08-14 06:13:05.471|NULL  |NULL    |UPDATE   |{predicate -> [\"(category#2796 = Clothing)\"]}                                                                                                                                              |NULL|NULL    |NULL     |0          |Serializable  |false        |{numRemovedFiles -> 2, numRemovedBytes -> 3130, numCopiedRows -> 2, numDeletionVectorsAdded -> 0, numDeletionVectorsRemoved -> 0, numAddedChangeFiles -> 0, executionTimeMs -> 3485, numDeletionVectorsUpdated -> 0, scanTimeMs -> 2995, numAddedFiles -> 2, numUpdatedRows -> 2, numAddedBytes -> 3131, rewriteTimeMs -> 482}                                                                                                                                                                                                                                                                                                                          |NULL        |Apache-Spark/3.5.0 Delta-Lake/3.1.0|\n",
            "|0      |2025-08-14 06:11:45.013|NULL  |NULL    |WRITE    |{mode -> Overwrite, partitionBy -> []}                                                                                                                                                     |NULL|NULL    |NULL     |NULL       |Serializable  |false        |{numFiles -> 2, numOutputRows -> 4, numOutputBytes -> 3130}                                                                                                                                                                                                                                                                                                                                                                                                                                                                                                                                                                                             |NULL        |Apache-Spark/3.5.0 Delta-Lake/3.1.0|\n",
            "+-------+-----------------------+------+--------+---------+-------------------------------------------------------------------------------------------------------------------------------------------------------------------------------------------+----+--------+---------+-----------+--------------+-------------+--------------------------------------------------------------------------------------------------------------------------------------------------------------------------------------------------------------------------------------------------------------------------------------------------------------------------------------------------------------------------------------------------------------------------------------------------------------------------------------------------------------------------------------------------------------------------------------------------------------------------------------------------------+------------+-----------------------------------+\n",
            "\n"
          ]
        }
      ]
    },
    {
      "cell_type": "code",
      "source": [
        "#Read data from version 0 and compare with the latest version\n",
        "old_df = spark.read.format(\"delta\").option(\"versionAsOf\", 0).load(\"/tmp/orders_delta\")\n",
        "old_df.orderBy(\"order_id\").show()\n",
        "latest_df = spark.read.format(\"delta\").load(\"/tmp/orders_delta\")\n",
        "latest_df.orderBy(\"order_id\").show()"
      ],
      "metadata": {
        "colab": {
          "base_uri": "https://localhost:8080/"
        },
        "id": "jU2xIAAWPh6Z",
        "outputId": "fb11d740-126b-4e87-9bc6-6d5bf590d471"
      },
      "execution_count": 11,
      "outputs": [
        {
          "output_type": "stream",
          "name": "stdout",
          "text": [
            "+--------+-------------+-----------+--------+------+\n",
            "|order_id|customer_name|   category|quantity|amount|\n",
            "+--------+-------------+-----------+--------+------+\n",
            "|       1|         John|Electronics|       2|   300|\n",
            "|       2|         Sara|   Clothing|       1|    50|\n",
            "|       3|         Mike|Electronics|       4|   600|\n",
            "|       4|         Nina|   Clothing|       3|   150|\n",
            "+--------+-------------+-----------+--------+------+\n",
            "\n",
            "+--------+-------------+-----------+--------+------+\n",
            "|order_id|customer_name|   category|quantity|amount|\n",
            "+--------+-------------+-----------+--------+------+\n",
            "|       1|         John|Electronics|       2|   300|\n",
            "|       2|         Sara|   Clothing|       1|    70|\n",
            "|       3|         Mike|Electronics|       5|   750|\n",
            "|       4|         Nina|   Clothing|       3|   180|\n",
            "+--------+-------------+-----------+--------+------+\n",
            "\n"
          ]
        }
      ]
    },
    {
      "cell_type": "markdown",
      "source": [
        "#4. Incremental Load Pattern"
      ],
      "metadata": {
        "id": "EkYxdI8QPk_G"
      }
    },
    {
      "cell_type": "code",
      "source": [
        "#Create a new mini-batch with only new orders (IDs 5 & 6)\n",
        "#Append to the Delta table\n",
        "#Show final result\n",
        "new_batch = [\n",
        "    (5, \"Justin\",   \"Electronics\", 1, 700),\n",
        "    (6, \"Lilly\", \"Clothing\",    2, 400),\n",
        "]\n",
        "new_batch_df = spark.createDataFrame(new_batch, [\"order_id\",\"customer_name\",\"category\",\"quantity\",\"amount\"])\n",
        "new_batch_df.write.format(\"delta\").mode(\"append\").save(\"/tmp/orders_delta\")\n",
        "\n",
        "spark.sql(\"SELECT * FROM orders_unmanaged ORDER BY order_id\").show()\n"
      ],
      "metadata": {
        "colab": {
          "base_uri": "https://localhost:8080/"
        },
        "id": "AAr37EMVPowe",
        "outputId": "d366171e-df93-43a1-d01a-73697bc02090"
      },
      "execution_count": 12,
      "outputs": [
        {
          "output_type": "stream",
          "name": "stdout",
          "text": [
            "+--------+-------------+-----------+--------+------+\n",
            "|order_id|customer_name|   category|quantity|amount|\n",
            "+--------+-------------+-----------+--------+------+\n",
            "|       1|         John|Electronics|       2|   300|\n",
            "|       2|         Sara|   Clothing|       1|    70|\n",
            "|       3|         Mike|Electronics|       5|   750|\n",
            "|       4|         Nina|   Clothing|       3|   180|\n",
            "|       5|       Justin|Electronics|       1|   700|\n",
            "|       6|        Lilly|   Clothing|       2|   400|\n",
            "+--------+-------------+-----------+--------+------+\n",
            "\n"
          ]
        }
      ]
    },
    {
      "cell_type": "markdown",
      "source": [
        "#5. Simple Streaming Read"
      ],
      "metadata": {
        "id": "DKNHynzfPva-"
      }
    },
    {
      "cell_type": "code",
      "source": [
        "from pyspark.sql.functions import *\n",
        "stream_df = spark.readStream.format(\"delta\").load(\"/tmp/orders_delta\")\n",
        "query = (\n",
        "    stream_df.writeStream\n",
        "    .format(\"memory\")\n",
        "    .queryName(\"orders_stream\")\n",
        "    .outputMode(\"append\")\n",
        "    .trigger(processingTime=\"5 seconds\")\n",
        "    .option(\"checkpointLocation\", \"/tmp/delta_stream_checkpoint_mem\")\n",
        "    .start()\n",
        ")\n",
        "\n",
        "\n"
      ],
      "metadata": {
        "id": "feDM4mgVPzqs"
      },
      "execution_count": null,
      "outputs": []
    },
    {
      "cell_type": "code",
      "source": [
        "extra = [(10, \"Mia\", \"Electronics\", 2, 500)]\n",
        "spark.createDataFrame(extra, [\"order_id\",\"customer_name\",\"category\",\"quantity\",\"amount\"])\\\n",
        "     .write.format(\"delta\").mode(\"append\").save(\"/tmp/orders_delta\")\n"
      ],
      "metadata": {
        "id": "XnVVZrs-QCUg"
      },
      "execution_count": 15,
      "outputs": []
    },
    {
      "cell_type": "code",
      "source": [
        "spark.sql(\"SELECT * FROM orders_stream ORDER BY order_id\").show()\n"
      ],
      "metadata": {
        "colab": {
          "base_uri": "https://localhost:8080/"
        },
        "id": "L4HYKJUgQOjn",
        "outputId": "6ab5f72b-b996-41c0-a6f7-35a1b67392ba"
      },
      "execution_count": 16,
      "outputs": [
        {
          "output_type": "stream",
          "name": "stdout",
          "text": [
            "+--------+-------------+-----------+--------+------+\n",
            "|order_id|customer_name|   category|quantity|amount|\n",
            "+--------+-------------+-----------+--------+------+\n",
            "|       1|         John|Electronics|       2|   300|\n",
            "|       2|         Sara|   Clothing|       1|    70|\n",
            "|       3|         Mike|Electronics|       5|   750|\n",
            "|       4|         Nina|   Clothing|       3|   180|\n",
            "|       5|       Justin|Electronics|       1|   700|\n",
            "|       6|        Lilly|   Clothing|       2|   400|\n",
            "|      10|          Mia|Electronics|       2|   500|\n",
            "+--------+-------------+-----------+--------+------+\n",
            "\n"
          ]
        }
      ]
    },
    {
      "cell_type": "markdown",
      "source": [
        "#6. Visualization"
      ],
      "metadata": {
        "id": "hCv62nxWQTG_"
      }
    },
    {
      "cell_type": "code",
      "source": [
        "#Read Delta table into Pandas\n",
        "import pandas as pd\n",
        "pdf = spark.read.format(\"delta\").load(\"/tmp/orders_delta\").toPandas()\n",
        "display(pdf)"
      ],
      "metadata": {
        "colab": {
          "base_uri": "https://localhost:8080/",
          "height": 269
        },
        "id": "F8Iu5fXNQWO-",
        "outputId": "53875814-b9b0-45ae-8564-cd697003e489"
      },
      "execution_count": 17,
      "outputs": [
        {
          "output_type": "display_data",
          "data": {
            "text/plain": [
              "   order_id customer_name     category  quantity  amount\n",
              "0         5        Justin  Electronics         1     700\n",
              "1         3          Mike  Electronics         5     750\n",
              "2         4          Nina     Clothing         3     180\n",
              "3         1          John  Electronics         2     300\n",
              "4         2          Sara     Clothing         1      70\n",
              "5        10           Mia  Electronics         2     500\n",
              "6         6         Lilly     Clothing         2     400"
            ],
            "text/html": [
              "\n",
              "  <div id=\"df-b733737f-924b-4c5d-801e-71ca45b97375\" class=\"colab-df-container\">\n",
              "    <div>\n",
              "<style scoped>\n",
              "    .dataframe tbody tr th:only-of-type {\n",
              "        vertical-align: middle;\n",
              "    }\n",
              "\n",
              "    .dataframe tbody tr th {\n",
              "        vertical-align: top;\n",
              "    }\n",
              "\n",
              "    .dataframe thead th {\n",
              "        text-align: right;\n",
              "    }\n",
              "</style>\n",
              "<table border=\"1\" class=\"dataframe\">\n",
              "  <thead>\n",
              "    <tr style=\"text-align: right;\">\n",
              "      <th></th>\n",
              "      <th>order_id</th>\n",
              "      <th>customer_name</th>\n",
              "      <th>category</th>\n",
              "      <th>quantity</th>\n",
              "      <th>amount</th>\n",
              "    </tr>\n",
              "  </thead>\n",
              "  <tbody>\n",
              "    <tr>\n",
              "      <th>0</th>\n",
              "      <td>5</td>\n",
              "      <td>Justin</td>\n",
              "      <td>Electronics</td>\n",
              "      <td>1</td>\n",
              "      <td>700</td>\n",
              "    </tr>\n",
              "    <tr>\n",
              "      <th>1</th>\n",
              "      <td>3</td>\n",
              "      <td>Mike</td>\n",
              "      <td>Electronics</td>\n",
              "      <td>5</td>\n",
              "      <td>750</td>\n",
              "    </tr>\n",
              "    <tr>\n",
              "      <th>2</th>\n",
              "      <td>4</td>\n",
              "      <td>Nina</td>\n",
              "      <td>Clothing</td>\n",
              "      <td>3</td>\n",
              "      <td>180</td>\n",
              "    </tr>\n",
              "    <tr>\n",
              "      <th>3</th>\n",
              "      <td>1</td>\n",
              "      <td>John</td>\n",
              "      <td>Electronics</td>\n",
              "      <td>2</td>\n",
              "      <td>300</td>\n",
              "    </tr>\n",
              "    <tr>\n",
              "      <th>4</th>\n",
              "      <td>2</td>\n",
              "      <td>Sara</td>\n",
              "      <td>Clothing</td>\n",
              "      <td>1</td>\n",
              "      <td>70</td>\n",
              "    </tr>\n",
              "    <tr>\n",
              "      <th>5</th>\n",
              "      <td>10</td>\n",
              "      <td>Mia</td>\n",
              "      <td>Electronics</td>\n",
              "      <td>2</td>\n",
              "      <td>500</td>\n",
              "    </tr>\n",
              "    <tr>\n",
              "      <th>6</th>\n",
              "      <td>6</td>\n",
              "      <td>Lilly</td>\n",
              "      <td>Clothing</td>\n",
              "      <td>2</td>\n",
              "      <td>400</td>\n",
              "    </tr>\n",
              "  </tbody>\n",
              "</table>\n",
              "</div>\n",
              "    <div class=\"colab-df-buttons\">\n",
              "\n",
              "  <div class=\"colab-df-container\">\n",
              "    <button class=\"colab-df-convert\" onclick=\"convertToInteractive('df-b733737f-924b-4c5d-801e-71ca45b97375')\"\n",
              "            title=\"Convert this dataframe to an interactive table.\"\n",
              "            style=\"display:none;\">\n",
              "\n",
              "  <svg xmlns=\"http://www.w3.org/2000/svg\" height=\"24px\" viewBox=\"0 -960 960 960\">\n",
              "    <path d=\"M120-120v-720h720v720H120Zm60-500h600v-160H180v160Zm220 220h160v-160H400v160Zm0 220h160v-160H400v160ZM180-400h160v-160H180v160Zm440 0h160v-160H620v160ZM180-180h160v-160H180v160Zm440 0h160v-160H620v160Z\"/>\n",
              "  </svg>\n",
              "    </button>\n",
              "\n",
              "  <style>\n",
              "    .colab-df-container {\n",
              "      display:flex;\n",
              "      gap: 12px;\n",
              "    }\n",
              "\n",
              "    .colab-df-convert {\n",
              "      background-color: #E8F0FE;\n",
              "      border: none;\n",
              "      border-radius: 50%;\n",
              "      cursor: pointer;\n",
              "      display: none;\n",
              "      fill: #1967D2;\n",
              "      height: 32px;\n",
              "      padding: 0 0 0 0;\n",
              "      width: 32px;\n",
              "    }\n",
              "\n",
              "    .colab-df-convert:hover {\n",
              "      background-color: #E2EBFA;\n",
              "      box-shadow: 0px 1px 2px rgba(60, 64, 67, 0.3), 0px 1px 3px 1px rgba(60, 64, 67, 0.15);\n",
              "      fill: #174EA6;\n",
              "    }\n",
              "\n",
              "    .colab-df-buttons div {\n",
              "      margin-bottom: 4px;\n",
              "    }\n",
              "\n",
              "    [theme=dark] .colab-df-convert {\n",
              "      background-color: #3B4455;\n",
              "      fill: #D2E3FC;\n",
              "    }\n",
              "\n",
              "    [theme=dark] .colab-df-convert:hover {\n",
              "      background-color: #434B5C;\n",
              "      box-shadow: 0px 1px 3px 1px rgba(0, 0, 0, 0.15);\n",
              "      filter: drop-shadow(0px 1px 2px rgba(0, 0, 0, 0.3));\n",
              "      fill: #FFFFFF;\n",
              "    }\n",
              "  </style>\n",
              "\n",
              "    <script>\n",
              "      const buttonEl =\n",
              "        document.querySelector('#df-b733737f-924b-4c5d-801e-71ca45b97375 button.colab-df-convert');\n",
              "      buttonEl.style.display =\n",
              "        google.colab.kernel.accessAllowed ? 'block' : 'none';\n",
              "\n",
              "      async function convertToInteractive(key) {\n",
              "        const element = document.querySelector('#df-b733737f-924b-4c5d-801e-71ca45b97375');\n",
              "        const dataTable =\n",
              "          await google.colab.kernel.invokeFunction('convertToInteractive',\n",
              "                                                    [key], {});\n",
              "        if (!dataTable) return;\n",
              "\n",
              "        const docLinkHtml = 'Like what you see? Visit the ' +\n",
              "          '<a target=\"_blank\" href=https://colab.research.google.com/notebooks/data_table.ipynb>data table notebook</a>'\n",
              "          + ' to learn more about interactive tables.';\n",
              "        element.innerHTML = '';\n",
              "        dataTable['output_type'] = 'display_data';\n",
              "        await google.colab.output.renderOutput(dataTable, element);\n",
              "        const docLink = document.createElement('div');\n",
              "        docLink.innerHTML = docLinkHtml;\n",
              "        element.appendChild(docLink);\n",
              "      }\n",
              "    </script>\n",
              "  </div>\n",
              "\n",
              "\n",
              "    <div id=\"df-de151fda-2ad5-4458-9764-704707fbc20c\">\n",
              "      <button class=\"colab-df-quickchart\" onclick=\"quickchart('df-de151fda-2ad5-4458-9764-704707fbc20c')\"\n",
              "                title=\"Suggest charts\"\n",
              "                style=\"display:none;\">\n",
              "\n",
              "<svg xmlns=\"http://www.w3.org/2000/svg\" height=\"24px\"viewBox=\"0 0 24 24\"\n",
              "     width=\"24px\">\n",
              "    <g>\n",
              "        <path d=\"M19 3H5c-1.1 0-2 .9-2 2v14c0 1.1.9 2 2 2h14c1.1 0 2-.9 2-2V5c0-1.1-.9-2-2-2zM9 17H7v-7h2v7zm4 0h-2V7h2v10zm4 0h-2v-4h2v4z\"/>\n",
              "    </g>\n",
              "</svg>\n",
              "      </button>\n",
              "\n",
              "<style>\n",
              "  .colab-df-quickchart {\n",
              "      --bg-color: #E8F0FE;\n",
              "      --fill-color: #1967D2;\n",
              "      --hover-bg-color: #E2EBFA;\n",
              "      --hover-fill-color: #174EA6;\n",
              "      --disabled-fill-color: #AAA;\n",
              "      --disabled-bg-color: #DDD;\n",
              "  }\n",
              "\n",
              "  [theme=dark] .colab-df-quickchart {\n",
              "      --bg-color: #3B4455;\n",
              "      --fill-color: #D2E3FC;\n",
              "      --hover-bg-color: #434B5C;\n",
              "      --hover-fill-color: #FFFFFF;\n",
              "      --disabled-bg-color: #3B4455;\n",
              "      --disabled-fill-color: #666;\n",
              "  }\n",
              "\n",
              "  .colab-df-quickchart {\n",
              "    background-color: var(--bg-color);\n",
              "    border: none;\n",
              "    border-radius: 50%;\n",
              "    cursor: pointer;\n",
              "    display: none;\n",
              "    fill: var(--fill-color);\n",
              "    height: 32px;\n",
              "    padding: 0;\n",
              "    width: 32px;\n",
              "  }\n",
              "\n",
              "  .colab-df-quickchart:hover {\n",
              "    background-color: var(--hover-bg-color);\n",
              "    box-shadow: 0 1px 2px rgba(60, 64, 67, 0.3), 0 1px 3px 1px rgba(60, 64, 67, 0.15);\n",
              "    fill: var(--button-hover-fill-color);\n",
              "  }\n",
              "\n",
              "  .colab-df-quickchart-complete:disabled,\n",
              "  .colab-df-quickchart-complete:disabled:hover {\n",
              "    background-color: var(--disabled-bg-color);\n",
              "    fill: var(--disabled-fill-color);\n",
              "    box-shadow: none;\n",
              "  }\n",
              "\n",
              "  .colab-df-spinner {\n",
              "    border: 2px solid var(--fill-color);\n",
              "    border-color: transparent;\n",
              "    border-bottom-color: var(--fill-color);\n",
              "    animation:\n",
              "      spin 1s steps(1) infinite;\n",
              "  }\n",
              "\n",
              "  @keyframes spin {\n",
              "    0% {\n",
              "      border-color: transparent;\n",
              "      border-bottom-color: var(--fill-color);\n",
              "      border-left-color: var(--fill-color);\n",
              "    }\n",
              "    20% {\n",
              "      border-color: transparent;\n",
              "      border-left-color: var(--fill-color);\n",
              "      border-top-color: var(--fill-color);\n",
              "    }\n",
              "    30% {\n",
              "      border-color: transparent;\n",
              "      border-left-color: var(--fill-color);\n",
              "      border-top-color: var(--fill-color);\n",
              "      border-right-color: var(--fill-color);\n",
              "    }\n",
              "    40% {\n",
              "      border-color: transparent;\n",
              "      border-right-color: var(--fill-color);\n",
              "      border-top-color: var(--fill-color);\n",
              "    }\n",
              "    60% {\n",
              "      border-color: transparent;\n",
              "      border-right-color: var(--fill-color);\n",
              "    }\n",
              "    80% {\n",
              "      border-color: transparent;\n",
              "      border-right-color: var(--fill-color);\n",
              "      border-bottom-color: var(--fill-color);\n",
              "    }\n",
              "    90% {\n",
              "      border-color: transparent;\n",
              "      border-bottom-color: var(--fill-color);\n",
              "    }\n",
              "  }\n",
              "</style>\n",
              "\n",
              "      <script>\n",
              "        async function quickchart(key) {\n",
              "          const quickchartButtonEl =\n",
              "            document.querySelector('#' + key + ' button');\n",
              "          quickchartButtonEl.disabled = true;  // To prevent multiple clicks.\n",
              "          quickchartButtonEl.classList.add('colab-df-spinner');\n",
              "          try {\n",
              "            const charts = await google.colab.kernel.invokeFunction(\n",
              "                'suggestCharts', [key], {});\n",
              "          } catch (error) {\n",
              "            console.error('Error during call to suggestCharts:', error);\n",
              "          }\n",
              "          quickchartButtonEl.classList.remove('colab-df-spinner');\n",
              "          quickchartButtonEl.classList.add('colab-df-quickchart-complete');\n",
              "        }\n",
              "        (() => {\n",
              "          let quickchartButtonEl =\n",
              "            document.querySelector('#df-de151fda-2ad5-4458-9764-704707fbc20c button');\n",
              "          quickchartButtonEl.style.display =\n",
              "            google.colab.kernel.accessAllowed ? 'block' : 'none';\n",
              "        })();\n",
              "      </script>\n",
              "    </div>\n",
              "\n",
              "  <div id=\"id_fa0fb21e-82fb-4696-9946-b8d43518be18\">\n",
              "    <style>\n",
              "      .colab-df-generate {\n",
              "        background-color: #E8F0FE;\n",
              "        border: none;\n",
              "        border-radius: 50%;\n",
              "        cursor: pointer;\n",
              "        display: none;\n",
              "        fill: #1967D2;\n",
              "        height: 32px;\n",
              "        padding: 0 0 0 0;\n",
              "        width: 32px;\n",
              "      }\n",
              "\n",
              "      .colab-df-generate:hover {\n",
              "        background-color: #E2EBFA;\n",
              "        box-shadow: 0px 1px 2px rgba(60, 64, 67, 0.3), 0px 1px 3px 1px rgba(60, 64, 67, 0.15);\n",
              "        fill: #174EA6;\n",
              "      }\n",
              "\n",
              "      [theme=dark] .colab-df-generate {\n",
              "        background-color: #3B4455;\n",
              "        fill: #D2E3FC;\n",
              "      }\n",
              "\n",
              "      [theme=dark] .colab-df-generate:hover {\n",
              "        background-color: #434B5C;\n",
              "        box-shadow: 0px 1px 3px 1px rgba(0, 0, 0, 0.15);\n",
              "        filter: drop-shadow(0px 1px 2px rgba(0, 0, 0, 0.3));\n",
              "        fill: #FFFFFF;\n",
              "      }\n",
              "    </style>\n",
              "    <button class=\"colab-df-generate\" onclick=\"generateWithVariable('pdf')\"\n",
              "            title=\"Generate code using this dataframe.\"\n",
              "            style=\"display:none;\">\n",
              "\n",
              "  <svg xmlns=\"http://www.w3.org/2000/svg\" height=\"24px\"viewBox=\"0 0 24 24\"\n",
              "       width=\"24px\">\n",
              "    <path d=\"M7,19H8.4L18.45,9,17,7.55,7,17.6ZM5,21V16.75L18.45,3.32a2,2,0,0,1,2.83,0l1.4,1.43a1.91,1.91,0,0,1,.58,1.4,1.91,1.91,0,0,1-.58,1.4L9.25,21ZM18.45,9,17,7.55Zm-12,3A5.31,5.31,0,0,0,4.9,8.1,5.31,5.31,0,0,0,1,6.5,5.31,5.31,0,0,0,4.9,4.9,5.31,5.31,0,0,0,6.5,1,5.31,5.31,0,0,0,8.1,4.9,5.31,5.31,0,0,0,12,6.5,5.46,5.46,0,0,0,6.5,12Z\"/>\n",
              "  </svg>\n",
              "    </button>\n",
              "    <script>\n",
              "      (() => {\n",
              "      const buttonEl =\n",
              "        document.querySelector('#id_fa0fb21e-82fb-4696-9946-b8d43518be18 button.colab-df-generate');\n",
              "      buttonEl.style.display =\n",
              "        google.colab.kernel.accessAllowed ? 'block' : 'none';\n",
              "\n",
              "      buttonEl.onclick = () => {\n",
              "        google.colab.notebook.generateWithVariable('pdf');\n",
              "      }\n",
              "      })();\n",
              "    </script>\n",
              "  </div>\n",
              "\n",
              "    </div>\n",
              "  </div>\n"
            ],
            "application/vnd.google.colaboratory.intrinsic+json": {
              "type": "dataframe",
              "variable_name": "pdf",
              "summary": "{\n  \"name\": \"pdf\",\n  \"rows\": 7,\n  \"fields\": [\n    {\n      \"column\": \"order_id\",\n      \"properties\": {\n        \"dtype\": \"number\",\n        \"std\": 2,\n        \"min\": 1,\n        \"max\": 10,\n        \"num_unique_values\": 7,\n        \"samples\": [\n          5,\n          3,\n          10\n        ],\n        \"semantic_type\": \"\",\n        \"description\": \"\"\n      }\n    },\n    {\n      \"column\": \"customer_name\",\n      \"properties\": {\n        \"dtype\": \"string\",\n        \"num_unique_values\": 7,\n        \"samples\": [\n          \"Justin\",\n          \"Mike\",\n          \"Mia\"\n        ],\n        \"semantic_type\": \"\",\n        \"description\": \"\"\n      }\n    },\n    {\n      \"column\": \"category\",\n      \"properties\": {\n        \"dtype\": \"category\",\n        \"num_unique_values\": 2,\n        \"samples\": [\n          \"Clothing\",\n          \"Electronics\"\n        ],\n        \"semantic_type\": \"\",\n        \"description\": \"\"\n      }\n    },\n    {\n      \"column\": \"quantity\",\n      \"properties\": {\n        \"dtype\": \"number\",\n        \"std\": 1,\n        \"min\": 1,\n        \"max\": 5,\n        \"num_unique_values\": 4,\n        \"samples\": [\n          5,\n          2\n        ],\n        \"semantic_type\": \"\",\n        \"description\": \"\"\n      }\n    },\n    {\n      \"column\": \"amount\",\n      \"properties\": {\n        \"dtype\": \"number\",\n        \"std\": 254,\n        \"min\": 70,\n        \"max\": 750,\n        \"num_unique_values\": 7,\n        \"samples\": [\n          700,\n          750\n        ],\n        \"semantic_type\": \"\",\n        \"description\": \"\"\n      }\n    }\n  ]\n}"
            }
          },
          "metadata": {}
        }
      ]
    },
    {
      "cell_type": "code",
      "source": [
        "#Create a bar chart of category vs total amount\n",
        "import matplotlib.pyplot as plt\n",
        "summary = pdf.groupby(\"category\")[\"amount\"].sum().reset_index()\n",
        "plt.figure(figsize=(5,3))\n",
        "plt.bar(summary[\"category\"], summary[\"amount\"])\n",
        "plt.title(\"Total Amount by Category\")\n",
        "plt.xlabel(\"Category\")\n",
        "plt.ylabel(\"Amount\")\n",
        "plt.show()"
      ],
      "metadata": {
        "colab": {
          "base_uri": "https://localhost:8080/",
          "height": 333
        },
        "id": "_xRUmcR3QaCK",
        "outputId": "720a3c61-fc4e-4d9b-e4af-56996fcef698"
      },
      "execution_count": 19,
      "outputs": [
        {
          "output_type": "display_data",
          "data": {
            "text/plain": [
              "<Figure size 500x300 with 1 Axes>"
            ],
            "image/png": "[encoded data removed]"
          },
          "metadata": {}
        }
      ]
    }
  ]
}