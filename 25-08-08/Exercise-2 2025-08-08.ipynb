{
 "cells": [
  {
   "cell_type": "code",
   "execution_count": 0,
   "metadata": {
    "application/vnd.databricks.v1+cell": {
     "cellMetadata": {
      "byteLimit": 2048000,
      "rowLimit": 10000
     },
     "inputWidgets": {},
     "nuid": "0856c7bf-84a8-4c5b-99a7-0d89d82a29c0",
     "showTitle": false,
     "tableResultSettingsMap": {},
     "title": ""
    }
   },
   "outputs": [
    {
     "output_type": "stream",
     "name": "stdout",
     "output_type": "stream",
     "text": [
      "Wrote 234 bytes.\n"
     ]
    },
    {
     "output_type": "execute_result",
     "data": {
      "text/plain": [
       "True"
      ]
     },
     "execution_count": 1,
     "metadata": {},
     "output_type": "execute_result"
    }
   ],
   "source": [
    "csv_data = \"\"\"student_id,name,subject,score,grade\n",
    "1,Ankit,Math,85,A\n",
    "2,Divya,Science,92,A\n",
    "3,Rahul,English,78,B\n",
    "4,Sneha,Math,65,C\n",
    "5,Aryan,Science,55,D\n",
    "6,Isha,English,88,A\n",
    "7,Tanvi,Math,91,A\n",
    "8,Kunal,Science,72,B\n",
    "9,Megha,English,60,C\n",
    "10,Rohan,Math,40,F\n",
    "\"\"\"\n",
    "\n",
    "dbutils.fs.put(\"dbfs:/tmp/student_scores.csv\", csv_data, overwrite=True)"
   ]
  },
  {
   "cell_type": "markdown",
   "metadata": {
    "application/vnd.databricks.v1+cell": {
     "cellMetadata": {},
     "inputWidgets": {},
     "nuid": "02605f9b-dc17-42a7-80de-5dd36455e0cd",
     "showTitle": false,
     "tableResultSettingsMap": {},
     "title": ""
    }
   },
   "source": [
    "##Step 1: Read into DataFrame"
   ]
  },
  {
   "cell_type": "code",
   "execution_count": 0,
   "metadata": {
    "application/vnd.databricks.v1+cell": {
     "cellMetadata": {
      "byteLimit": 2048000,
      "rowLimit": 10000
     },
     "inputWidgets": {},
     "nuid": "436afc92-f1fe-481b-b3ff-93dde70c4359",
     "showTitle": false,
     "tableResultSettingsMap": {},
     "title": ""
    }
   },
   "outputs": [
    {
     "output_type": "stream",
     "name": "stdout",
     "output_type": "stream",
     "text": [
      "+----------+-----+-------+-----+-----+\n|student_id| name|subject|score|grade|\n+----------+-----+-------+-----+-----+\n|         1|Ankit|   Math|   85|    A|\n|         2|Divya|Science|   92|    A|\n|         3|Rahul|English|   78|    B|\n|         4|Sneha|   Math|   65|    C|\n|         5|Aryan|Science|   55|    D|\n|         6| Isha|English|   88|    A|\n|         7|Tanvi|   Math|   91|    A|\n|         8|Kunal|Science|   72|    B|\n|         9|Megha|English|   60|    C|\n|        10|Rohan|   Math|   40|    F|\n+----------+-----+-------+-----+-----+\n\n"
     ]
    }
   ],
   "source": [
    "df = spark.read.option(\"header\", True).option(\"inferSchema\", True).csv(\"dbfs:/tmp/student_scores.csv\")\n",
    "df.show()\n",
    "     "
   ]
  },
  {
   "cell_type": "markdown",
   "metadata": {
    "application/vnd.databricks.v1+cell": {
     "cellMetadata": {},
     "inputWidgets": {},
     "nuid": "942857ee-6967-41d5-a69e-c73c95bddbc6",
     "showTitle": false,
     "tableResultSettingsMap": {},
     "title": ""
    }
   },
   "source": [
    "##Step 2: Write to Delta"
   ]
  },
  {
   "cell_type": "code",
   "execution_count": 0,
   "metadata": {
    "application/vnd.databricks.v1+cell": {
     "cellMetadata": {
      "byteLimit": 2048000,
      "rowLimit": 10000
     },
     "inputWidgets": {},
     "nuid": "a409346e-f948-45f1-86d3-bac8f86aee09",
     "showTitle": false,
     "tableResultSettingsMap": {},
     "title": ""
    }
   },
   "outputs": [],
   "source": [
    "df.write.mode(\"overwrite\").format(\"delta\").save(\"/tmp/delta/student_scores\")"
   ]
  },
  {
   "cell_type": "markdown",
   "metadata": {
    "application/vnd.databricks.v1+cell": {
     "cellMetadata": {},
     "inputWidgets": {},
     "nuid": "cc2699c5-ef75-4724-8130-328b9936b494",
     "showTitle": false,
     "tableResultSettingsMap": {},
     "title": ""
    }
   },
   "source": [
    "##Step 3: Register Delta Table"
   ]
  },
  {
   "cell_type": "code",
   "execution_count": 0,
   "metadata": {
    "application/vnd.databricks.v1+cell": {
     "cellMetadata": {
      "byteLimit": 2048000,
      "rowLimit": 10000
     },
     "inputWidgets": {},
     "nuid": "e8bf2cbd-e31d-4088-b016-6706557a353d",
     "showTitle": false,
     "tableResultSettingsMap": {},
     "title": ""
    }
   },
   "outputs": [
    {
     "output_type": "execute_result",
     "data": {
      "text/plain": [
       "DataFrame[]"
      ]
     },
     "execution_count": 6,
     "metadata": {},
     "output_type": "execute_result"
    }
   ],
   "source": [
    "spark.sql(\"DROP TABLE IF EXISTS student_scores\")\n"
   ]
  },
  {
   "cell_type": "code",
   "execution_count": 0,
   "metadata": {
    "application/vnd.databricks.v1+cell": {
     "cellMetadata": {
      "byteLimit": 2048000,
      "rowLimit": 10000
     },
     "inputWidgets": {},
     "nuid": "c695128d-1f7d-4d38-a555-4cb06fc0c3ba",
     "showTitle": false,
     "tableResultSettingsMap": {},
     "title": ""
    }
   },
   "outputs": [
    {
     "output_type": "execute_result",
     "data": {
      "text/plain": [
       "DataFrame[]"
      ]
     },
     "execution_count": 8,
     "metadata": {},
     "output_type": "execute_result"
    }
   ],
   "source": [
    "spark.sql(\"CREATE TABLE default.student_scores USING DELTA\")\n"
   ]
  },
  {
   "cell_type": "code",
   "execution_count": 0,
   "metadata": {
    "application/vnd.databricks.v1+cell": {
     "cellMetadata": {
      "byteLimit": 2048000,
      "rowLimit": 10000
     },
     "inputWidgets": {},
     "nuid": "1b2ec2de-a240-4f47-b99a-ed2a014ae65d",
     "showTitle": false,
     "tableResultSettingsMap": {},
     "title": ""
    }
   },
   "outputs": [
    {
     "output_type": "stream",
     "name": "stdout",
     "output_type": "stream",
     "text": [
      "+----------+-----+-------+-----+-----+\n|student_id| name|subject|score|grade|\n+----------+-----+-------+-----+-----+\n|         1|Ankit|   Math|   85|    A|\n|         2|Divya|Science|   92|    A|\n|         3|Rahul|English|   78|    B|\n|         4|Sneha|   Math|   65|    C|\n|         5|Aryan|Science|   55|    D|\n|         6| Isha|English|   88|    A|\n|         7|Tanvi|   Math|   91|    A|\n|         8|Kunal|Science|   72|    B|\n|         9|Megha|English|   60|    C|\n|        10|Rohan|   Math|   40|    F|\n+----------+-----+-------+-----+-----+\n\n"
     ]
    }
   ],
   "source": [
    "from delta.tables import DeltaTable\n",
    "delta_table = DeltaTable.forPath(spark, \"/tmp/delta/student_scores\")\n",
    "df = delta_table.toDF()\n",
    "df.show()"
   ]
  },
  {
   "cell_type": "markdown",
   "metadata": {
    "application/vnd.databricks.v1+cell": {
     "cellMetadata": {},
     "inputWidgets": {},
     "nuid": "02ffc252-70b0-4b79-9b10-d4ff37bddae2",
     "showTitle": false,
     "tableResultSettingsMap": {},
     "title": ""
    }
   },
   "source": [
    "#Basic Tasks"
   ]
  },
  {
   "cell_type": "code",
   "execution_count": 0,
   "metadata": {
    "application/vnd.databricks.v1+cell": {
     "cellMetadata": {
      "byteLimit": 2048000,
      "rowLimit": 10000
     },
     "inputWidgets": {},
     "nuid": "7a2e35ee-cb25-4b41-ac1e-446d67800cc9",
     "showTitle": false,
     "tableResultSettingsMap": {},
     "title": ""
    }
   },
   "outputs": [],
   "source": [
    "df = spark.read.format(\"delta\").load(\"/tmp/delta/student_scores\")\n",
    "df.createOrReplaceTempView(\"student_scores\")"
   ]
  },
  {
   "cell_type": "code",
   "execution_count": 0,
   "metadata": {
    "application/vnd.databricks.v1+cell": {
     "cellMetadata": {
      "byteLimit": 2048000,
      "rowLimit": 10000
     },
     "inputWidgets": {},
     "nuid": "1d72ae0c-218c-4c94-aad1-d61b29bb4e3b",
     "showTitle": false,
     "tableResultSettingsMap": {},
     "title": ""
    }
   },
   "outputs": [
    {
     "output_type": "stream",
     "name": "stdout",
     "output_type": "stream",
     "text": [
      "+-----+-----+\n| name|score|\n+-----+-----+\n|Ankit|   85|\n|Divya|   92|\n|Rahul|   78|\n|Sneha|   65|\n|Aryan|   55|\n| Isha|   88|\n|Tanvi|   91|\n|Kunal|   72|\n|Megha|   60|\n|Rohan|   40|\n+-----+-----+\n\n"
     ]
    }
   ],
   "source": [
    "#1. Show all students and their scores.\n",
    "spark.sql(\"SELECT name, score FROM student_scores\").show()"
   ]
  },
  {
   "cell_type": "code",
   "execution_count": 0,
   "metadata": {
    "application/vnd.databricks.v1+cell": {
     "cellMetadata": {
      "byteLimit": 2048000,
      "rowLimit": 10000
     },
     "inputWidgets": {},
     "nuid": "d69ce7aa-8571-4e35-8a4a-d618914a05df",
     "showTitle": false,
     "tableResultSettingsMap": {},
     "title": ""
    }
   },
   "outputs": [
    {
     "output_type": "stream",
     "name": "stdout",
     "output_type": "stream",
     "text": [
      "+-------+-------------+\n|subject|student_count|\n+-------+-------------+\n|Science|            3|\n|   Math|            4|\n|English|            3|\n+-------+-------------+\n\n"
     ]
    }
   ],
   "source": [
    "#2. Count number of students in each subject.\n",
    "spark.sql(\"\"\"SELECT subject, COUNT(*) AS student_count FROM student_scores GROUP BY subject\"\"\").show()\n",
    "     "
   ]
  },
  {
   "cell_type": "code",
   "execution_count": 0,
   "metadata": {
    "application/vnd.databricks.v1+cell": {
     "cellMetadata": {
      "byteLimit": 2048000,
      "rowLimit": 10000
     },
     "inputWidgets": {},
     "nuid": "1cd2afa1-3f96-4745-a93a-dc68c040748d",
     "showTitle": false,
     "tableResultSettingsMap": {},
     "title": ""
    }
   },
   "outputs": [
    {
     "output_type": "stream",
     "name": "stdout",
     "output_type": "stream",
     "text": [
      "+-------+-----------------+\n|subject|        avg_score|\n+-------+-----------------+\n|Science|             73.0|\n|   Math|            70.25|\n|English|75.33333333333333|\n+-------+-----------------+\n\n+-----+\n| name|\n+-----+\n|Ankit|\n|Divya|\n| Isha|\n|Tanvi|\n+-----+\n\n"
     ]
    }
   ],
   "source": [
    "#3. Find average score per subject.\n",
    "spark.sql(\"\"\"SELECT subject, AVG(score) AS avg_score FROM student_scores GROUP BY subject\"\"\").show()\n",
    "#4. List all students who scored more than 80.\n",
    "spark.sql(\"\"\"SELECT name FROM student_scores WHERE score > 80\"\"\").show()"
   ]
  },
  {
   "cell_type": "markdown",
   "metadata": {
    "application/vnd.databricks.v1+cell": {
     "cellMetadata": {},
     "inputWidgets": {},
     "nuid": "8bf5227b-7ae9-43d7-ac35-4495f6233690",
     "showTitle": false,
     "tableResultSettingsMap": {},
     "title": ""
    }
   },
   "source": [
    "##Advanced Queries"
   ]
  },
  {
   "cell_type": "code",
   "execution_count": 0,
   "metadata": {
    "application/vnd.databricks.v1+cell": {
     "cellMetadata": {
      "byteLimit": 2048000,
      "rowLimit": 10000
     },
     "inputWidgets": {},
     "nuid": "f0d9d16a-ba0e-48d2-ba6b-55074822f525",
     "showTitle": false,
     "tableResultSettingsMap": {},
     "title": ""
    }
   },
   "outputs": [
    {
     "output_type": "stream",
     "name": "stdout",
     "output_type": "stream",
     "text": [
      "+-----+-------+-----+\n| name|subject|score|\n+-----+-------+-----+\n|Divya|Science|   92|\n+-----+-------+-----+\n\n+-----+-------------+\n|grade|student_count|\n+-----+-------------+\n|    F|            1|\n|    B|            2|\n|    D|            1|\n|    C|            2|\n|    A|            4|\n+-----+-------------+\n\n+-----+\n| name|\n+-----+\n|Rohan|\n+-----+\n\n"
     ]
    }
   ],
   "source": [
    "#5. Show student(s) with the highest score in each subject.\n",
    "spark.sql(\"\"\"SELECT name, subject, score FROM student_scores WHERE score = (SELECT MAX(score) FROM student_scores WHERE subject = student_scores.subject)\"\"\").show()\n",
    "#6. Display grades with count of students in each.\n",
    "spark.sql(\"\"\"SELECT grade, COUNT(*) AS student_count FROM student_scores GROUP BY grade\"\"\").show()\n",
    "#7. Show names of students who failed (grade F)\n",
    "spark.sql(\"\"\"SELECT name FROM student_scores WHERE grade = 'F'\"\"\").show()\n"
   ]
  },
  {
   "cell_type": "code",
   "execution_count": 0,
   "metadata": {
    "application/vnd.databricks.v1+cell": {
     "cellMetadata": {
      "byteLimit": 2048000,
      "rowLimit": 10000
     },
     "inputWidgets": {},
     "nuid": "3ebdb1a4-3613-4beb-9ae2-36f945ed17e9",
     "showTitle": false,
     "tableResultSettingsMap": {},
     "title": ""
    }
   },
   "outputs": [
    {
     "output_type": "stream",
     "name": "stdout",
     "output_type": "stream",
     "text": [
      "+-----+-------+-----+----+\n| name|subject|score|rank|\n+-----+-------+-----+----+\n| Isha|English|   88|   1|\n|Rahul|English|   78|   2|\n|Megha|English|   60|   3|\n|Tanvi|   Math|   91|   1|\n|Ankit|   Math|   85|   2|\n|Sneha|   Math|   65|   3|\n|Rohan|   Math|   40|   4|\n|Divya|Science|   92|   1|\n|Kunal|Science|   72|   2|\n|Aryan|Science|   55|   3|\n+-----+-------+-----+----+\n\n+-----+-------+-----+----+\n| name|subject|score|rank|\n+-----+-------+-----+----+\n| Isha|English|   88|   1|\n|Rahul|English|   78|   2|\n|Megha|English|   60|   3|\n|Tanvi|   Math|   91|   1|\n|Ankit|   Math|   85|   2|\n|Sneha|   Math|   65|   3|\n|Rohan|   Math|   40|   4|\n|Divya|Science|   92|   1|\n|Kunal|Science|   72|   2|\n|Aryan|Science|   55|   3|\n+-----+-------+-----+----+\n\n"
     ]
    }
   ],
   "source": [
    "#8. List students with score between 60 and 90.\n",
    "spark.sql(\"\"\"SELECT name, subject, score, RANK() OVER (PARTITION BY subject ORDER BY score DESC) AS rank FROM student_scores\"\"\").show()\n",
    "#9. Rank students within each subject based on scores.\n",
    "spark.sql(\"\"\"SELECT name, subject, score, RANK() OVER (PARTITION BY subject ORDER BY score DESC) AS rank FROM student_scores\"\"\").show()\n"
   ]
  },
  {
   "cell_type": "markdown",
   "metadata": {
    "application/vnd.databricks.v1+cell": {
     "cellMetadata": {},
     "inputWidgets": {},
     "nuid": "e4ad7103-ec01-491f-b264-2e206cc3dda1",
     "showTitle": false,
     "tableResultSettingsMap": {},
     "title": ""
    }
   },
   "source": [
    "##Update & Delete Tasks"
   ]
  },
  {
   "cell_type": "code",
   "execution_count": 0,
   "metadata": {
    "application/vnd.databricks.v1+cell": {
     "cellMetadata": {
      "byteLimit": 2048000,
      "rowLimit": 10000
     },
     "inputWidgets": {},
     "nuid": "2d67041b-48b0-4896-947a-3a99c00ce85a",
     "showTitle": false,
     "tableResultSettingsMap": {},
     "title": ""
    }
   },
   "outputs": [
    {
     "output_type": "stream",
     "name": "stdout",
     "output_type": "stream",
     "text": [
      "+----------+-----+-------+-----+-----+\n|student_id| name|subject|score|grade|\n+----------+-----+-------+-----+-----+\n|         1|Ankit|   Math|   85|    A|\n|         2|Divya|Science|   92|    A|\n|         4|Sneha|   Math|   65|    C|\n|         5|Aryan|Science|   55|    D|\n|         7|Tanvi|   Math|   91|    A|\n|         8|Kunal|Science|   72|    B|\n|         3|Rahul|English|   93|    B|\n|         6| Isha|English|  103|    A|\n|         9|Megha|English|   75|    C|\n+----------+-----+-------+-----+-----+\n\n+----------+-----+-------+-----+-----+\n|student_id| name|subject|score|grade|\n+----------+-----+-------+-----+-----+\n|         3|Rahul|English|   93|    B|\n|         6| Isha|English|  103|    A|\n|         9|Megha|English|   75|    C|\n|         1|Ankit|   Math|   85|    A|\n|         2|Divya|Science|   92|    A|\n|         4|Sneha|   Math|   65|    C|\n|         5|Aryan|Science|   55|    D|\n|         7|Tanvi|   Math|   91|    A|\n|         8|Kunal|Science|   72|    B|\n+----------+-----+-------+-----+-----+\n\n"
     ]
    }
   ],
   "source": [
    "#10.Increase score of all English subject students by 5.\n",
    "spark.sql(\"\"\"UPDATE student_scores SET score = score + 5 WHERE subject = 'English'\"\"\")\n",
    "spark.sql(\"\"\"SELECT * FROM student_scores\"\"\").show()\n",
    "\n",
    "#11.Delete all records where score is less than 50.\n",
    "spark.sql(\"\"\"DELETE FROM student_scores WHERE score < 50\"\"\")\n",
    "spark.sql(\"\"\"SELECT * FROM student_scores\"\"\").show()\n",
    "\n"
   ]
  },
  {
   "cell_type": "code",
   "execution_count": 0,
   "metadata": {
    "application/vnd.databricks.v1+cell": {
     "cellMetadata": {
      "byteLimit": 2048000,
      "rowLimit": 10000
     },
     "inputWidgets": {},
     "nuid": "5f6285d8-b840-4a00-b96f-40b5b82a2dfd",
     "showTitle": false,
     "tableResultSettingsMap": {},
     "title": ""
    }
   },
   "outputs": [
    {
     "output_type": "stream",
     "name": "stdout",
     "output_type": "stream",
     "text": [
      "+----------+-----+-------+-----+-----+-----------+\n|student_id| name|subject|score|grade|pass_status|\n+----------+-----+-------+-----+-----+-----------+\n|         3|Rahul|English|   93|    B|       PASS|\n|         6| Isha|English|  103|    A|       PASS|\n|         9|Megha|English|   75|    C|       PASS|\n|         1|Ankit|   Math|   85|    A|       PASS|\n|         2|Divya|Science|   92|    A|       PASS|\n|         4|Sneha|   Math|   65|    C|       PASS|\n|         5|Aryan|Science|   55|    D|       PASS|\n|         7|Tanvi|   Math|   91|    A|       PASS|\n|         8|Kunal|Science|   72|    B|       PASS|\n+----------+-----+-------+-----+-----+-----------+\n\n"
     ]
    }
   ],
   "source": [
    "#12.Add a new column pass_status (PASS if score >= 50 else FAIL).\n",
    "spark.sql(\"\"\"SELECT *, CASE WHEN score >= 50 THEN 'PASS' ELSE 'FAIL' END AS pass_status FROM student_scores;\"\"\").show()\n",
    "     "
   ]
  },
  {
   "cell_type": "markdown",
   "metadata": {
    "application/vnd.databricks.v1+cell": {
     "cellMetadata": {},
     "inputWidgets": {},
     "nuid": "4ee0e7d3-9620-4934-a0ae-787040132c3c",
     "showTitle": false,
     "tableResultSettingsMap": {},
     "title": ""
    }
   },
   "source": [
    "##Data Transformation & Views"
   ]
  },
  {
   "cell_type": "code",
   "execution_count": 0,
   "metadata": {
    "application/vnd.databricks.v1+cell": {
     "cellMetadata": {
      "byteLimit": 2048000,
      "rowLimit": 10000
     },
     "inputWidgets": {},
     "nuid": "8d2f5691-7b5b-4f39-b1f8-9802c6e3add7",
     "showTitle": false,
     "tableResultSettingsMap": {},
     "title": ""
    }
   },
   "outputs": [
    {
     "output_type": "stream",
     "name": "stdout",
     "output_type": "stream",
     "text": [
      "+-------+---------+\n|subject|avg_score|\n+-------+---------+\n|Science|     73.0|\n|   Math|    80.33|\n|English|    90.33|\n+-------+---------+\n\n"
     ]
    }
   ],
   "source": [
    "#13. Create a temporary view and run SQL to get average scores.\n",
    "spark.sql(\"\"\"SELECT subject, ROUND(AVG(score), 2) AS avg_score FROM student_scores GROUP BY subject\"\"\").show()\n"
   ]
  },
  {
   "cell_type": "code",
   "execution_count": 0,
   "metadata": {
    "application/vnd.databricks.v1+cell": {
     "cellMetadata": {
      "byteLimit": 2048000,
      "rowLimit": 10000
     },
     "inputWidgets": {},
     "nuid": "ae467b65-4a91-42f8-9d50-186ae51383ce",
     "showTitle": false,
     "tableResultSettingsMap": {},
     "title": ""
    }
   },
   "outputs": [
    {
     "output_type": "execute_result",
     "data": {
      "text/plain": [
       "DataFrame[num_affected_rows: bigint, num_inserted_rows: bigint]"
      ]
     },
     "execution_count": 24,
     "metadata": {},
     "output_type": "execute_result"
    }
   ],
   "source": [
    "#14. Convert updated DataFrame into a new Delta table called student_scores_v2 .\n",
    "spark.sql(\"\"\"CREATE OR REPLACE TABLE student_scores_v2 USING DELTA AS SELECT * FROM student_scores\"\"\")\n"
   ]
  },
  {
   "cell_type": "code",
   "execution_count": 0,
   "metadata": {
    "application/vnd.databricks.v1+cell": {
     "cellMetadata": {
      "byteLimit": 2048000,
      "rowLimit": 10000
     },
     "inputWidgets": {},
     "nuid": "68038e90-53f0-4764-98f9-e3a37cd1ae84",
     "showTitle": false,
     "tableResultSettingsMap": {},
     "title": ""
    }
   },
   "outputs": [],
   "source": [
    "#15. Write the final data to Parquet and JSON formats.\n",
    "df_final = spark.table(\"student_scores\")\n",
    "df_final.write.mode(\"overwrite\").parquet(\"/tmp/parquet/student_scores\")\n",
    "df_final.write.mode(\"overwrite\").json(\"/tmp/json/student_scores\")\n",
    "     "
   ]
  }
 ],
 "metadata": {
  "application/vnd.databricks.v1+notebook": {
   "computePreferences": null,
   "dashboards": [],
   "environmentMetadata": {
    "base_environment": "",
    "environment_version": "2"
   },
   "inputWidgetPreferences": null,
   "language": "python",
   "notebookMetadata": {
    "pythonIndentUnit": 4
   },
   "notebookName": "Exercise-2 2025-08-08",
   "widgets": {}
  },
  "language_info": {
   "name": "python"
  }
 },
 "nbformat": 4,
 "nbformat_minor": 0
}