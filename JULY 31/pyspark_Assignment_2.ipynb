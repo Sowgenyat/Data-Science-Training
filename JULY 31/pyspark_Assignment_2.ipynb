{
  "nbformat": 4,
  "nbformat_minor": 0,
  "metadata": {
    "colab": {
      "provenance": []
    },
    "kernelspec": {
      "name": "python3",
      "display_name": "Python 3"
    },
    "language_info": {
      "name": "python"
    }
  },
  "cells": [
    {
      "cell_type": "markdown",
      "source": [
        "##Assignment"
      ],
      "metadata": {
        "id": "_PQ1BNtfSus9"
      }
    },
    {
      "cell_type": "code",
      "source": [
        "csv_data='''MovieID,Title,Genre,ReleaseDate,Rating,Revenue,Budget\n",
        "1,Inception,Sci-Fi,2010-07-16,8.8,825532764,160000000\n",
        "2,The Dark Knight,Action,2008-07-18,9.0,1004558444,185000000\n",
        "3,Titanic,Romance,1997-12-19,7.8,2187463944,200000000\n",
        "4,Interstellar,Sci-Fi,2014-11-07,8.6,677471339,165000000\n",
        "5,Joker,Drama,2019-10-04,8.4,1074251311,55000000\n",
        "6,The Notebook,Romance,2004-06-25,7.9,,29000000\n",
        "7,Avengers: Endgame,Action,2019-04-26,8.4,2797800564,356000000'''\n",
        "with open('movies.csv','w') as file:\n",
        "  file.write(csv_data)"
      ],
      "metadata": {
        "id": "hClIvmCYS5hs"
      },
      "execution_count": 1,
      "outputs": []
    },
    {
      "cell_type": "markdown",
      "source": [
        "#PART 1: Pandas Operations"
      ],
      "metadata": {
        "id": "rdTCJiaZTi7o"
      }
    },
    {
      "cell_type": "code",
      "execution_count": 10,
      "metadata": {
        "colab": {
          "base_uri": "https://localhost:8080/"
        },
        "id": "6pfcK8S8RVwj",
        "outputId": "ea24c452-103a-433f-a343-877e8ddeca93"
      },
      "outputs": [
        {
          "output_type": "stream",
          "name": "stdout",
          "text": [
            "   MovieID              Title    Genre ReleaseDate  Rating       Revenue  \\\n",
            "0        1          Inception   Sci-Fi  2010-07-16     8.8  8.255328e+08   \n",
            "1        2    The Dark Knight   Action  2008-07-18     9.0  1.004558e+09   \n",
            "2        3            Titanic  Romance  1997-12-19     7.8  2.187464e+09   \n",
            "3        4       Interstellar   Sci-Fi  2014-11-07     8.6  6.774713e+08   \n",
            "4        5              Joker    Drama  2019-10-04     8.4  1.074251e+09   \n",
            "5        6       The Notebook  Romance  2004-06-25     7.9           NaN   \n",
            "6        7  Avengers: Endgame   Action  2019-04-26     8.4  2.797801e+09   \n",
            "\n",
            "      Budget  \n",
            "0  160000000  \n",
            "1  185000000  \n",
            "2  200000000  \n",
            "3  165000000  \n",
            "4   55000000  \n",
            "5   29000000  \n",
            "6  356000000  \n",
            "   MovieID              Title    Genre ReleaseDate  Rating       Revenue  \\\n",
            "0        1          Inception   Sci-Fi  2010-07-16     8.8  8.255328e+08   \n",
            "1        2    The Dark Knight   Action  2008-07-18     9.0  1.004558e+09   \n",
            "2        3            Titanic  Romance  1997-12-19     7.8  2.187464e+09   \n",
            "3        4       Interstellar   Sci-Fi  2014-11-07     8.6  6.774713e+08   \n",
            "4        5              Joker    Drama  2019-10-04     8.4  1.074251e+09   \n",
            "5        6       The Notebook  Romance  2004-06-25     7.9           NaN   \n",
            "6        7  Avengers: Endgame   Action  2019-04-26     8.4  2.797801e+09   \n",
            "\n",
            "      Budget  \n",
            "0  160000000  \n",
            "1  185000000  \n",
            "2  200000000  \n",
            "3  165000000  \n",
            "4   55000000  \n",
            "5   29000000  \n",
            "6  356000000  \n"
          ]
        }
      ],
      "source": [
        "#1. Load movies.csv into a Pandas DataFrame.\n",
        "import pandas as pd\n",
        "df=pd.read_csv('movies.csv')\n",
        "print(df)\n",
        "#2. Convert ReleaseDate to datetime.\n",
        "df['ReleaseDate']=pd.to_datetime(df['ReleaseDate'])\n",
        "print(df)\n"
      ]
    },
    {
      "cell_type": "code",
      "source": [
        "#3. Calculate Profit = Revenue - Budget .\n",
        "df['Profit']=df['Revenue']-df['Budget']\n",
        "print(df)\n"
      ],
      "metadata": {
        "colab": {
          "base_uri": "https://localhost:8080/"
        },
        "id": "BF36_TTHVDgJ",
        "outputId": "f9b058a8-ab90-45a9-f88a-708a7af90e79"
      },
      "execution_count": 9,
      "outputs": [
        {
          "output_type": "stream",
          "name": "stdout",
          "text": [
            "   MovieID              Title    Genre ReleaseDate  Rating       Revenue  \\\n",
            "0        1          Inception   Sci-Fi  2010-07-16     8.8  8.255328e+08   \n",
            "1        2    The Dark Knight   Action  2008-07-18     9.0  1.004558e+09   \n",
            "2        3            Titanic  Romance  1997-12-19     7.8  2.187464e+09   \n",
            "3        4       Interstellar   Sci-Fi  2014-11-07     8.6  6.774713e+08   \n",
            "4        5              Joker    Drama  2019-10-04     8.4  1.074251e+09   \n",
            "5        6       The Notebook  Romance  2004-06-25     7.9           NaN   \n",
            "6        7  Avengers: Endgame   Action  2019-04-26     8.4  2.797801e+09   \n",
            "\n",
            "      Budget        Profit  \n",
            "0  160000000  6.655328e+08  \n",
            "1  185000000  8.195584e+08  \n",
            "2  200000000  1.987464e+09  \n",
            "3  165000000  5.124713e+08  \n",
            "4   55000000  1.019251e+09  \n",
            "5   29000000           NaN  \n",
            "6  356000000  2.441801e+09  \n"
          ]
        }
      ]
    },
    {
      "cell_type": "code",
      "source": [
        "#4. Add a column \"Era\" :\n",
        "'''Before 2000 → Classic\n",
        "2000-2010 → Mid\n",
        "After 2010 → Modern'''\n",
        "def era(year):\n",
        "  if year<2000:\n",
        "    return 'Classic'\n",
        "  elif year>=2000 and year<=2010:\n",
        "    return 'Mid'\n",
        "  else:\n",
        "    return 'Modern'\n",
        "df['Era']=df['ReleaseDate'].dt.year.apply(era)\n",
        "print(df)\n"
      ],
      "metadata": {
        "colab": {
          "base_uri": "https://localhost:8080/"
        },
        "id": "BYphz9tEVJal",
        "outputId": "5f686173-969b-499e-9e4f-02f053bd6729"
      },
      "execution_count": 14,
      "outputs": [
        {
          "output_type": "stream",
          "name": "stdout",
          "text": [
            "   MovieID              Title    Genre ReleaseDate  Rating       Revenue  \\\n",
            "0        1          Inception   Sci-Fi  2010-07-16     8.8  8.255328e+08   \n",
            "1        2    The Dark Knight   Action  2008-07-18     9.0  1.004558e+09   \n",
            "2        3            Titanic  Romance  1997-12-19     7.8  2.187464e+09   \n",
            "3        4       Interstellar   Sci-Fi  2014-11-07     8.6  6.774713e+08   \n",
            "4        5              Joker    Drama  2019-10-04     8.4  1.074251e+09   \n",
            "5        6       The Notebook  Romance  2004-06-25     7.9           NaN   \n",
            "6        7  Avengers: Endgame   Action  2019-04-26     8.4  2.797801e+09   \n",
            "\n",
            "      Budget      Era  \n",
            "0  160000000      Mid  \n",
            "1  185000000      Mid  \n",
            "2  200000000  Classic  \n",
            "3  165000000   Modern  \n",
            "4   55000000   Modern  \n",
            "5   29000000      Mid  \n",
            "6  356000000   Modern  \n"
          ]
        }
      ]
    },
    {
      "cell_type": "code",
      "source": [
        "#5. Handle nulls in Revenue by filling with average revenue.\n",
        "df['Revenue']=df['Revenue'].fillna(df['Revenue'].mean())\n",
        "print(df)\n"
      ],
      "metadata": {
        "colab": {
          "base_uri": "https://localhost:8080/"
        },
        "id": "2NfjpKtXWUfU",
        "outputId": "9607a5d8-da04-4ff9-f66f-ea5dc112a3ae"
      },
      "execution_count": 15,
      "outputs": [
        {
          "output_type": "stream",
          "name": "stdout",
          "text": [
            "   MovieID              Title    Genre ReleaseDate  Rating       Revenue  \\\n",
            "0        1          Inception   Sci-Fi  2010-07-16     8.8  8.255328e+08   \n",
            "1        2    The Dark Knight   Action  2008-07-18     9.0  1.004558e+09   \n",
            "2        3            Titanic  Romance  1997-12-19     7.8  2.187464e+09   \n",
            "3        4       Interstellar   Sci-Fi  2014-11-07     8.6  6.774713e+08   \n",
            "4        5              Joker    Drama  2019-10-04     8.4  1.074251e+09   \n",
            "5        6       The Notebook  Romance  2004-06-25     7.9  1.427846e+09   \n",
            "6        7  Avengers: Endgame   Action  2019-04-26     8.4  2.797801e+09   \n",
            "\n",
            "      Budget      Era  \n",
            "0  160000000      Mid  \n",
            "1  185000000      Mid  \n",
            "2  200000000  Classic  \n",
            "3  165000000   Modern  \n",
            "4   55000000   Modern  \n",
            "5   29000000      Mid  \n",
            "6  356000000   Modern  \n"
          ]
        }
      ]
    },
    {
      "cell_type": "code",
      "source": [
        "#6. Sort by Rating descending.\n",
        "df=df.sort_values(by='Rating',ascending=False)\n",
        "print(df)\n"
      ],
      "metadata": {
        "colab": {
          "base_uri": "https://localhost:8080/"
        },
        "id": "T9hpaLSKWnkp",
        "outputId": "3c623f8d-0e7e-4077-cf49-76ee1dd85332"
      },
      "execution_count": 17,
      "outputs": [
        {
          "output_type": "stream",
          "name": "stdout",
          "text": [
            "   MovieID              Title    Genre ReleaseDate  Rating       Revenue  \\\n",
            "1        2    The Dark Knight   Action  2008-07-18     9.0  1.004558e+09   \n",
            "0        1          Inception   Sci-Fi  2010-07-16     8.8  8.255328e+08   \n",
            "3        4       Interstellar   Sci-Fi  2014-11-07     8.6  6.774713e+08   \n",
            "6        7  Avengers: Endgame   Action  2019-04-26     8.4  2.797801e+09   \n",
            "4        5              Joker    Drama  2019-10-04     8.4  1.074251e+09   \n",
            "5        6       The Notebook  Romance  2004-06-25     7.9  1.427846e+09   \n",
            "2        3            Titanic  Romance  1997-12-19     7.8  2.187464e+09   \n",
            "\n",
            "      Budget      Era  \n",
            "1  185000000      Mid  \n",
            "0  160000000      Mid  \n",
            "3  165000000   Modern  \n",
            "6  356000000   Modern  \n",
            "4   55000000   Modern  \n",
            "5   29000000      Mid  \n",
            "2  200000000  Classic  \n"
          ]
        }
      ]
    },
    {
      "cell_type": "code",
      "source": [
        "#7. Group by Genre → average Rating & total Revenue.\n",
        "grouping_genere=df.groupby('Genre').agg({\"Rating\":\"mean\",\"Revenue\":\"sum\"})\n",
        "print(grouping_genere)\n"
      ],
      "metadata": {
        "colab": {
          "base_uri": "https://localhost:8080/"
        },
        "id": "IraIHU-QW4DQ",
        "outputId": "ee4c7b6a-32ad-456c-d192-29f87a3a5299"
      },
      "execution_count": 22,
      "outputs": [
        {
          "output_type": "stream",
          "name": "stdout",
          "text": [
            "         Rating       Revenue\n",
            "Genre                        \n",
            "Action     8.70  3.802359e+09\n",
            "Drama      8.40  1.074251e+09\n",
            "Romance    7.85  3.615310e+09\n",
            "Sci-Fi     8.70  1.503004e+09\n"
          ]
        }
      ]
    },
    {
      "cell_type": "code",
      "source": [
        "#8. Filter movies with Rating ≥ 8.5 and Profit >500M.\n",
        "filtered_df = df[(df['Rating'] >= 8.5) & (df['Profit'] > 500000000)]\n",
        "print(filtered_df)"
      ],
      "metadata": {
        "id": "YNtKaOA0aXbJ"
      },
      "execution_count": null,
      "outputs": []
    },
    {
      "cell_type": "code",
      "source": [
        "#9. Plot bar chart of Movie Title vs Profit.\n",
        "import matplotlib.pyplot as plt\n",
        "plt.figure(figsize=(10,6))\n",
        "plt.bar(filtered_df['Title'],filtered_df['Profit'])\n",
        "plt.xlabel('Movie Title')\n",
        "plt.ylabel('Profit')\n",
        "plt.title('Profit by Movie Title (Rating >= 8.5 and Profit > 500M)')\n",
        "plt.xticks(rotation=45,ha='right')\n",
        "plt.tight_layout()\n",
        "plt.show()"
      ],
      "metadata": {
        "colab": {
          "base_uri": "https://localhost:8080/",
          "height": 597
        },
        "id": "_mjm4M9las8r",
        "outputId": "1b4d9f20-4698-476b-b428-6afeea84a1a5"
      },
      "execution_count": 25,
      "outputs": [
        {
          "output_type": "display_data",
          "data": {
            "text/plain": [
              "<Figure size 640x480 with 1 Axes>"
            ],
            "image/png": "[encoded data removed]"
          },
          "metadata": {}
        }
      ]
    },
    {
      "cell_type": "markdown",
      "source": [
        "#PART 2: PySpark Operations"
      ],
      "metadata": {
        "id": "KNwVLdFUocCm"
      }
    },
    {
      "cell_type": "code",
      "source": [
        "#1. Read the same CSV using PySpark.\n",
        "from pyspark.sql import SparkSession\n",
        "spark=SparkSession.builder.appName(\"Assignment\").getOrCreate()\n",
        "df=spark.read.csv('movies.csv',header=True,inferSchema=True)\n",
        "print(df.show())"
      ],
      "metadata": {
        "colab": {
          "base_uri": "https://localhost:8080/"
        },
        "id": "hSDutwWEoyEx",
        "outputId": "205a6bdc-a506-4aa6-e311-e5452b957a38"
      },
      "execution_count": 26,
      "outputs": [
        {
          "output_type": "stream",
          "name": "stdout",
          "text": [
            "+-------+-----------------+-------+-----------+------+----------+---------+\n",
            "|MovieID|            Title|  Genre|ReleaseDate|Rating|   Revenue|   Budget|\n",
            "+-------+-----------------+-------+-----------+------+----------+---------+\n",
            "|      1|        Inception| Sci-Fi| 2010-07-16|   8.8| 825532764|160000000|\n",
            "|      2|  The Dark Knight| Action| 2008-07-18|   9.0|1004558444|185000000|\n",
            "|      3|          Titanic|Romance| 1997-12-19|   7.8|2187463944|200000000|\n",
            "|      4|     Interstellar| Sci-Fi| 2014-11-07|   8.6| 677471339|165000000|\n",
            "|      5|            Joker|  Drama| 2019-10-04|   8.4|1074251311| 55000000|\n",
            "|      6|     The Notebook|Romance| 2004-06-25|   7.9|      NULL| 29000000|\n",
            "|      7|Avengers: Endgame| Action| 2019-04-26|   8.4|2797800564|356000000|\n",
            "+-------+-----------------+-------+-----------+------+----------+---------+\n",
            "\n",
            "None\n"
          ]
        }
      ]
    },
    {
      "cell_type": "code",
      "source": [
        "\n",
        "#2. Create Profit column ( Revenue - Budget ).\n",
        "from pyspark.sql.functions import col\n",
        "df=df.withColumn('Profit',col(\"Revenue\")-col(\"Budget\"))\n",
        "print(df.show())\n"
      ],
      "metadata": {
        "colab": {
          "base_uri": "https://localhost:8080/",
          "height": 261
        },
        "id": "j0FuRmWLofy0",
        "outputId": "a68d9f29-c2c4-4695-e188-ce9e912c771d"
      },
      "execution_count": 27,
      "outputs": [
        {
          "output_type": "stream",
          "name": "stdout",
          "text": [
            "+-------+-----------------+-------+-----------+------+----------+---------+----------+\n",
            "|MovieID|            Title|  Genre|ReleaseDate|Rating|   Revenue|   Budget|    Profit|\n",
            "+-------+-----------------+-------+-----------+------+----------+---------+----------+\n",
            "|      1|        Inception| Sci-Fi| 2010-07-16|   8.8| 825532764|160000000| 665532764|\n",
            "|      2|  The Dark Knight| Action| 2008-07-18|   9.0|1004558444|185000000| 819558444|\n",
            "|      3|          Titanic|Romance| 1997-12-19|   7.8|2187463944|200000000|1987463944|\n",
            "|      4|     Interstellar| Sci-Fi| 2014-11-07|   8.6| 677471339|165000000| 512471339|\n",
            "|      5|            Joker|  Drama| 2019-10-04|   8.4|1074251311| 55000000|1019251311|\n",
            "|      6|     The Notebook|Romance| 2004-06-25|   7.9|      NULL| 29000000|      NULL|\n",
            "|      7|Avengers: Endgame| Action| 2019-04-26|   8.4|2797800564|356000000|2441800564|\n",
            "+-------+-----------------+-------+-----------+------+----------+---------+----------+\n",
            "\n",
            "None\n"
          ]
        },
        {
          "output_type": "execute_result",
          "data": {
            "text/plain": [
              "'=9 → Blockbuster\\n8–9 → Hit\\nbelow 8 → Average'"
            ],
            "application/vnd.google.colaboratory.intrinsic+json": {
              "type": "string"
            }
          },
          "metadata": {},
          "execution_count": 27
        }
      ]
    },
    {
      "cell_type": "code",
      "source": [
        "#3. Filter where Genre == 'Sci-Fi' and Profit > 50000000\n",
        "df_filteres=df.filter((col('Genre')=='Sci-fi')&(col('Profit')>500000000))\n",
        "print(df_filteres.show())\n"
      ],
      "metadata": {
        "colab": {
          "base_uri": "https://localhost:8080/",
          "height": 140
        },
        "id": "sMMM4kdYqEoF",
        "outputId": "e96b5804-a831-45bd-c677-c089d9f167fb"
      },
      "execution_count": 32,
      "outputs": [
        {
          "output_type": "stream",
          "name": "stdout",
          "text": [
            "+-------+-----+-----+-----------+------+-------+------+------+\n",
            "|MovieID|Title|Genre|ReleaseDate|Rating|Revenue|Budget|Profit|\n",
            "+-------+-----+-----+-----------+------+-------+------+------+\n",
            "+-------+-----+-----+-----------+------+-------+------+------+\n",
            "\n",
            "None\n"
          ]
        },
        {
          "output_type": "execute_result",
          "data": {
            "text/plain": [
              "'=9 → Blockbuster\\n8–9 → Hit\\nbelow 8 → Average'"
            ],
            "application/vnd.google.colaboratory.intrinsic+json": {
              "type": "string"
            }
          },
          "metadata": {},
          "execution_count": 32
        }
      ]
    },
    {
      "cell_type": "code",
      "source": [
        "#4. Group by Genre → avg(Rating) , sum(Profit)\n",
        "df_group=df.groupBy('Genre').agg({'Rating':'avg','Profit':'sum'})\n",
        "print(df_group.show())\n"
      ],
      "metadata": {
        "colab": {
          "base_uri": "https://localhost:8080/",
          "height": 209
        },
        "id": "OfMQdBeHrzRY",
        "outputId": "04122270-b4a9-4e41-c23e-4b55d80a34aa"
      },
      "execution_count": 33,
      "outputs": [
        {
          "output_type": "stream",
          "name": "stdout",
          "text": [
            "+-------+-----------+-----------+\n",
            "|  Genre|avg(Rating)|sum(Profit)|\n",
            "+-------+-----------+-----------+\n",
            "|Romance|       7.85| 1987463944|\n",
            "|  Drama|        8.4| 1019251311|\n",
            "| Action|        8.7| 3261359008|\n",
            "| Sci-Fi|        8.7| 1178004103|\n",
            "+-------+-----------+-----------+\n",
            "\n",
            "None\n"
          ]
        },
        {
          "output_type": "execute_result",
          "data": {
            "text/plain": [
              "'=9 → Blockbuster\\n8–9 → Hit\\nbelow 8 → Average'"
            ],
            "application/vnd.google.colaboratory.intrinsic+json": {
              "type": "string"
            }
          },
          "metadata": {},
          "execution_count": 33
        }
      ]
    },
    {
      "cell_type": "code",
      "source": [
        "#5. Use when().otherwise() to classify Rating as:\n",
        "'''=9 → Blockbuster\n",
        "8–9 → Hit\n",
        "below 8 → Average'''\n",
        "from pyspark.sql.functions import when\n",
        "from pyspark.sql.functions import col\n",
        "df=df.withColumn(\"Rating level\",when(col(\"Rating\")==9,\"BlockBuster\").when((col(\"Rating\")>=8)&(col(\"Rating\")<=9),\"Hit\").otherwise(\"Average\"))\n",
        "print(df.show())\n",
        "\n"
      ],
      "metadata": {
        "colab": {
          "base_uri": "https://localhost:8080/"
        },
        "id": "lEvgKWver8Gs",
        "outputId": "9a8d7a83-7bf0-499c-f4b5-ad2110557611"
      },
      "execution_count": 40,
      "outputs": [
        {
          "output_type": "stream",
          "name": "stdout",
          "text": [
            "+-------+-----------------+-------+-----------+------+----------+---------+----------+------------+\n",
            "|MovieID|            Title|  Genre|ReleaseDate|Rating|   Revenue|   Budget|    Profit|Rating level|\n",
            "+-------+-----------------+-------+-----------+------+----------+---------+----------+------------+\n",
            "|      1|        Inception| Sci-Fi| 2010-07-16|   8.8| 825532764|160000000| 665532764|         Hit|\n",
            "|      2|  The Dark Knight| Action| 2008-07-18|   9.0|1004558444|185000000| 819558444| BlockBuster|\n",
            "|      3|          Titanic|Romance| 1997-12-19|   7.8|2187463944|200000000|1987463944|     Average|\n",
            "|      4|     Interstellar| Sci-Fi| 2014-11-07|   8.6| 677471339|165000000| 512471339|         Hit|\n",
            "|      5|            Joker|  Drama| 2019-10-04|   8.4|1074251311| 55000000|1019251311|         Hit|\n",
            "|      6|     The Notebook|Romance| 2004-06-25|   7.9|      NULL| 29000000|      NULL|     Average|\n",
            "|      7|Avengers: Endgame| Action| 2019-04-26|   8.4|2797800564|356000000|2441800564|         Hit|\n",
            "+-------+-----------------+-------+-----------+------+----------+---------+----------+------------+\n",
            "\n",
            "None\n"
          ]
        }
      ]
    },
    {
      "cell_type": "code",
      "source": [
        "\n",
        "#6. Drop the Budget column.\n",
        "df=df.drop('Budget')\n",
        "print(df.show())\n"
      ],
      "metadata": {
        "id": "1RVOPfyQt4Dd"
      },
      "execution_count": null,
      "outputs": []
    },
    {
      "cell_type": "code",
      "source": [
        "#7. Fill null revenue with average (use na.fill() or na.replace() ).\n",
        "from pyspark.sql.functions import col, avg\n",
        "avg_revenue = df.select(avg(col(\"Revenue\"))).first()[0]\n",
        "df = df.na.fill({\"Revenue\": avg_revenue})\n",
        "df.show()\n",
        "\n"
      ],
      "metadata": {
        "colab": {
          "base_uri": "https://localhost:8080/"
        },
        "id": "2dfi4WGcuDtH",
        "outputId": "9c7544bb-9f73-4e70-e3d1-d79843024892"
      },
      "execution_count": 41,
      "outputs": [
        {
          "output_type": "stream",
          "name": "stdout",
          "text": [
            "+-------+-----------------+-------+-----------+------+----------+---------+----------+------------+\n",
            "|MovieID|            Title|  Genre|ReleaseDate|Rating|   Revenue|   Budget|    Profit|Rating level|\n",
            "+-------+-----------------+-------+-----------+------+----------+---------+----------+------------+\n",
            "|      1|        Inception| Sci-Fi| 2010-07-16|   8.8| 825532764|160000000| 665532764|         Hit|\n",
            "|      2|  The Dark Knight| Action| 2008-07-18|   9.0|1004558444|185000000| 819558444| BlockBuster|\n",
            "|      3|          Titanic|Romance| 1997-12-19|   7.8|2187463944|200000000|1987463944|     Average|\n",
            "|      4|     Interstellar| Sci-Fi| 2014-11-07|   8.6| 677471339|165000000| 512471339|         Hit|\n",
            "|      5|            Joker|  Drama| 2019-10-04|   8.4|1074251311| 55000000|1019251311|         Hit|\n",
            "|      6|     The Notebook|Romance| 2004-06-25|   7.9|1427846394| 29000000|      NULL|     Average|\n",
            "|      7|Avengers: Endgame| Action| 2019-04-26|   8.4|2797800564|356000000|2441800564|         Hit|\n",
            "+-------+-----------------+-------+-----------+------+----------+---------+----------+------------+\n",
            "\n"
          ]
        }
      ]
    },
    {
      "cell_type": "code",
      "source": [
        "#8. Convert ReleaseDate to date type, extract year and month .\n",
        "from pyspark.sql.functions import to_date, year, month\n",
        "df=df.withColumn(\"ReleaseDate\", to_date(col(\"ReleaseDate\")))\n",
        "df =df.withColumn(\"Year\", year(col(\"ReleaseDate\")))\n",
        "df=df.withColumn(\"Month\", month(col(\"ReleaseDate\")))\n",
        "df.show()"
      ],
      "metadata": {
        "colab": {
          "base_uri": "https://localhost:8080/"
        },
        "id": "6E8sUM-Uuisk",
        "outputId": "6dc94b91-6f88-4f01-fabb-514d7e2f0802"
      },
      "execution_count": 44,
      "outputs": [
        {
          "output_type": "stream",
          "name": "stdout",
          "text": [
            "+-------+-----------------+-------+-----------+------+----------+---------+----------+------------+----+-----+\n",
            "|MovieID|            Title|  Genre|ReleaseDate|Rating|   Revenue|   Budget|    Profit|Rating level|Year|Month|\n",
            "+-------+-----------------+-------+-----------+------+----------+---------+----------+------------+----+-----+\n",
            "|      1|        Inception| Sci-Fi| 2010-07-16|   8.8| 825532764|160000000| 665532764|         Hit|2010|    7|\n",
            "|      2|  The Dark Knight| Action| 2008-07-18|   9.0|1004558444|185000000| 819558444| BlockBuster|2008|    7|\n",
            "|      3|          Titanic|Romance| 1997-12-19|   7.8|2187463944|200000000|1987463944|     Average|1997|   12|\n",
            "|      4|     Interstellar| Sci-Fi| 2014-11-07|   8.6| 677471339|165000000| 512471339|         Hit|2014|   11|\n",
            "|      5|            Joker|  Drama| 2019-10-04|   8.4|1074251311| 55000000|1019251311|         Hit|2019|   10|\n",
            "|      6|     The Notebook|Romance| 2004-06-25|   7.9|1427846394| 29000000|      NULL|     Average|2004|    6|\n",
            "|      7|Avengers: Endgame| Action| 2019-04-26|   8.4|2797800564|356000000|2441800564|         Hit|2019|    4|\n",
            "+-------+-----------------+-------+-----------+------+----------+---------+----------+------------+----+-----+\n",
            "\n"
          ]
        }
      ]
    },
    {
      "cell_type": "code",
      "source": [
        "#9. Use a window function to rank movies within each genre by profit.\n",
        "from pyspark.sql.window import Window\n",
        "from pyspark.sql.functions import row_number\n",
        "window_spec=Window.partitionBy(\"Genre\").orderBy(col(\"Profit\").desc())\n",
        "df=df.withColumn(\"Rank\",row_number().over(window_spec))\n",
        "df.show()"
      ],
      "metadata": {
        "colab": {
          "base_uri": "https://localhost:8080/"
        },
        "id": "n036iq3iu9Gh",
        "outputId": "58a2f9a2-00aa-42b1-ae2e-5b4eec406a67"
      },
      "execution_count": 46,
      "outputs": [
        {
          "output_type": "stream",
          "name": "stdout",
          "text": [
            "+-------+-----------------+-------+-----------+------+----------+---------+----------+------------+----+-----+----+\n",
            "|MovieID|            Title|  Genre|ReleaseDate|Rating|   Revenue|   Budget|    Profit|Rating level|Year|Month|Rank|\n",
            "+-------+-----------------+-------+-----------+------+----------+---------+----------+------------+----+-----+----+\n",
            "|      7|Avengers: Endgame| Action| 2019-04-26|   8.4|2797800564|356000000|2441800564|         Hit|2019|    4|   1|\n",
            "|      2|  The Dark Knight| Action| 2008-07-18|   9.0|1004558444|185000000| 819558444| BlockBuster|2008|    7|   2|\n",
            "|      5|            Joker|  Drama| 2019-10-04|   8.4|1074251311| 55000000|1019251311|         Hit|2019|   10|   1|\n",
            "|      3|          Titanic|Romance| 1997-12-19|   7.8|2187463944|200000000|1987463944|     Average|1997|   12|   1|\n",
            "|      6|     The Notebook|Romance| 2004-06-25|   7.9|1427846394| 29000000|      NULL|     Average|2004|    6|   2|\n",
            "|      1|        Inception| Sci-Fi| 2010-07-16|   8.8| 825532764|160000000| 665532764|         Hit|2010|    7|   1|\n",
            "|      4|     Interstellar| Sci-Fi| 2014-11-07|   8.6| 677471339|165000000| 512471339|         Hit|2014|   11|   2|\n",
            "+-------+-----------------+-------+-----------+------+----------+---------+----------+------------+----+-----+----+\n",
            "\n"
          ]
        }
      ]
    },
    {
      "cell_type": "markdown",
      "source": [
        "#PART 3: JSON + Union Example"
      ],
      "metadata": {
        "id": "rxDoJ6SZvV6P"
      }
    },
    {
      "cell_type": "code",
      "source": [
        "import json\n",
        "\n",
        "data = [\n",
        "    {\n",
        "        \"MovieID\": 8,\n",
        "        \"Title\": \"Barbie\",\n",
        "        \"Genre\": \"Drama\",\n",
        "        \"Rating\": 7.5,\n",
        "        \"Revenue\": 1456000000,\n",
        "        \"Budget\": 145000000\n",
        "    },\n",
        "    {\n",
        "        \"MovieID\": 9,\n",
        "        \"Title\": \"Oppenheimer\",\n",
        "        \"Genre\": \"Drama\",\n",
        "        \"Rating\": 8.6,\n",
        "        \"Revenue\": 950000000,\n",
        "        \"Budget\": 100000000\n",
        "    }\n",
        "]\n",
        "\n",
        "with open(\"movies_bonus.json\", \"w\") as f:\n",
        "    json.dump(data, f, indent=4)\n"
      ],
      "metadata": {
        "id": "m9IkBI3MvO0i"
      },
      "execution_count": 58,
      "outputs": []
    },
    {
      "cell_type": "code",
      "source": [
        "#1. Read this JSON using PySpark.\n",
        "from pyspark.sql import SparkSession\n",
        "import json\n",
        "spark = SparkSession.builder.appName(\"jsonOperations\").getOrCreate()\n",
        "with open(\"movies_bonus.json\", \"r\") as f:\n",
        "    data = json.load(f)\n",
        "bonus_df = spark.createDataFrame(data)\n",
        "bonus_df.show()"
      ],
      "metadata": {
        "colab": {
          "base_uri": "https://localhost:8080/"
        },
        "id": "Bl6xlAZlwNjg",
        "outputId": "114bafee-23b5-4341-9e44-e5b59ab9f6af"
      },
      "execution_count": 64,
      "outputs": [
        {
          "output_type": "stream",
          "name": "stdout",
          "text": [
            "+---------+-----+-------+------+----------+-----------+\n",
            "|   Budget|Genre|MovieID|Rating|   Revenue|      Title|\n",
            "+---------+-----+-------+------+----------+-----------+\n",
            "|145000000|Drama|      8|   7.5|1456000000|     Barbie|\n",
            "|100000000|Drama|      9|   8.6| 950000000|Oppenheimer|\n",
            "+---------+-----+-------+------+----------+-----------+\n",
            "\n"
          ]
        }
      ]
    },
    {
      "cell_type": "code",
      "source": [
        "#2. Union it with your original movies DataFrame.\n",
        "from pyspark.sql.functions import col, lit\n",
        "original_columns=df.columns\n",
        "for col_name in original_columns:\n",
        "    if col_name not in bonus_df.columns:\n",
        "        bonus_df = bonus_df.withColumn(col_name, lit(None))\n",
        "bonus_df=bonus_df.select(original_columns)\n",
        "combined_df=df.unionByName(bonus_df)\n",
        "combined_df.show()\n",
        "\n",
        "#3. Show top 5 highest grossing movies.\n",
        "df_sorted=combined_df.orderBy(col(\"Revenue\").desc())\n",
        "df_sorted.show(5)\n",
        "\n",
        "#4. Save final merged DataFrame as CSV.\n",
        "combined_df.write.csv(\"combined_movies.csv\", header=True, mode=\"overwrite\")\n"
      ],
      "metadata": {
        "colab": {
          "base_uri": "https://localhost:8080/"
        },
        "id": "l1uVkp500_tl",
        "outputId": "56d38d71-9a74-4e38-f871-38839804afee"
      },
      "execution_count": 69,
      "outputs": [
        {
          "output_type": "stream",
          "name": "stdout",
          "text": [
            "+-------+-----------------+-------+-----------+------+----------+---------+----------+------------+----+-----+----+\n",
            "|MovieID|            Title|  Genre|ReleaseDate|Rating|   Revenue|   Budget|    Profit|Rating level|Year|Month|Rank|\n",
            "+-------+-----------------+-------+-----------+------+----------+---------+----------+------------+----+-----+----+\n",
            "|      7|Avengers: Endgame| Action| 2019-04-26|   8.4|2797800564|356000000|2441800564|         Hit|2019|    4|   1|\n",
            "|      2|  The Dark Knight| Action| 2008-07-18|   9.0|1004558444|185000000| 819558444| BlockBuster|2008|    7|   2|\n",
            "|      5|            Joker|  Drama| 2019-10-04|   8.4|1074251311| 55000000|1019251311|         Hit|2019|   10|   1|\n",
            "|      3|          Titanic|Romance| 1997-12-19|   7.8|2187463944|200000000|1987463944|     Average|1997|   12|   1|\n",
            "|      6|     The Notebook|Romance| 2004-06-25|   7.9|1427846394| 29000000|      NULL|     Average|2004|    6|   2|\n",
            "|      1|        Inception| Sci-Fi| 2010-07-16|   8.8| 825532764|160000000| 665532764|         Hit|2010|    7|   1|\n",
            "|      4|     Interstellar| Sci-Fi| 2014-11-07|   8.6| 677471339|165000000| 512471339|         Hit|2014|   11|   2|\n",
            "|      8|           Barbie|  Drama|       NULL|   7.5|1456000000|145000000|      NULL|        NULL|NULL| NULL|NULL|\n",
            "|      9|      Oppenheimer|  Drama|       NULL|   8.6| 950000000|100000000|      NULL|        NULL|NULL| NULL|NULL|\n",
            "+-------+-----------------+-------+-----------+------+----------+---------+----------+------------+----+-----+----+\n",
            "\n",
            "+-------+-----------------+-------+-----------+------+----------+---------+----------+------------+----+-----+----+\n",
            "|MovieID|            Title|  Genre|ReleaseDate|Rating|   Revenue|   Budget|    Profit|Rating level|Year|Month|Rank|\n",
            "+-------+-----------------+-------+-----------+------+----------+---------+----------+------------+----+-----+----+\n",
            "|      7|Avengers: Endgame| Action| 2019-04-26|   8.4|2797800564|356000000|2441800564|         Hit|2019|    4|   1|\n",
            "|      3|          Titanic|Romance| 1997-12-19|   7.8|2187463944|200000000|1987463944|     Average|1997|   12|   1|\n",
            "|      8|           Barbie|  Drama|       NULL|   7.5|1456000000|145000000|      NULL|        NULL|NULL| NULL|NULL|\n",
            "|      6|     The Notebook|Romance| 2004-06-25|   7.9|1427846394| 29000000|      NULL|     Average|2004|    6|   2|\n",
            "|      5|            Joker|  Drama| 2019-10-04|   8.4|1074251311| 55000000|1019251311|         Hit|2019|   10|   1|\n",
            "+-------+-----------------+-------+-----------+------+----------+---------+----------+------------+----+-----+----+\n",
            "only showing top 5 rows\n",
            "\n"
          ]
        }
      ]
    },
    {
      "cell_type": "markdown",
      "source": [
        "#Bonus:"
      ],
      "metadata": {
        "id": "Dhj7edGU2DjB"
      }
    },
    {
      "cell_type": "code",
      "source": [
        "#Create a column ReturnOnInvestment = Profit / Budget\n",
        "from pyspark.sql.functions import col\n",
        "combined_df=combined_df.withColumn(\"ReturnOnInvestment\", col(\"Profit\") / col(\"Budget\"))\n",
        "combined_df.show()"
      ],
      "metadata": {
        "colab": {
          "base_uri": "https://localhost:8080/"
        },
        "id": "jgXAxPC123wy",
        "outputId": "f9730f34-28a3-4fc0-c98c-f33db65f5c60"
      },
      "execution_count": 71,
      "outputs": [
        {
          "output_type": "stream",
          "name": "stdout",
          "text": [
            "+-------+-----------------+-------+-----------+------+----------+---------+----------+------------+----+-----+----+------------------+\n",
            "|MovieID|            Title|  Genre|ReleaseDate|Rating|   Revenue|   Budget|    Profit|Rating level|Year|Month|Rank|ReturnOnInvestment|\n",
            "+-------+-----------------+-------+-----------+------+----------+---------+----------+------------+----+-----+----+------------------+\n",
            "|      7|Avengers: Endgame| Action| 2019-04-26|   8.4|2797800564|356000000|2441800564|         Hit|2019|    4|   1| 6.858990348314607|\n",
            "|      2|  The Dark Knight| Action| 2008-07-18|   9.0|1004558444|185000000| 819558444| BlockBuster|2008|    7|   2| 4.430045643243243|\n",
            "|      5|            Joker|  Drama| 2019-10-04|   8.4|1074251311| 55000000|1019251311|         Hit|2019|   10|   1| 18.53184201818182|\n",
            "|      3|          Titanic|Romance| 1997-12-19|   7.8|2187463944|200000000|1987463944|     Average|1997|   12|   1|        9.93731972|\n",
            "|      6|     The Notebook|Romance| 2004-06-25|   7.9|1427846394| 29000000|      NULL|     Average|2004|    6|   2|              NULL|\n",
            "|      1|        Inception| Sci-Fi| 2010-07-16|   8.8| 825532764|160000000| 665532764|         Hit|2010|    7|   1|       4.159579775|\n",
            "|      4|     Interstellar| Sci-Fi| 2014-11-07|   8.6| 677471339|165000000| 512471339|         Hit|2014|   11|   2| 3.105886903030303|\n",
            "|      8|           Barbie|  Drama|       NULL|   7.5|1456000000|145000000|      NULL|        NULL|NULL| NULL|NULL|              NULL|\n",
            "|      9|      Oppenheimer|  Drama|       NULL|   8.6| 950000000|100000000|      NULL|        NULL|NULL| NULL|NULL|              NULL|\n",
            "+-------+-----------------+-------+-----------+------+----------+---------+----------+------------+----+-----+----+------------------+\n",
            "\n"
          ]
        }
      ]
    },
    {
      "cell_type": "code",
      "source": [
        "#Show top ROI movies (minimum budget50M)\n",
        "filtered_df=combined_df.filter(col(\"Budget\")>=50000000)\n",
        "filtered_df.show()\n"
      ],
      "metadata": {
        "colab": {
          "base_uri": "https://localhost:8080/"
        },
        "id": "L7FhdBC62_Hy",
        "outputId": "bde6ee54-8cd3-41e7-b74f-359db4c5a9b5"
      },
      "execution_count": 72,
      "outputs": [
        {
          "output_type": "stream",
          "name": "stdout",
          "text": [
            "+-------+-----------------+-------+-----------+------+----------+---------+----------+------------+----+-----+----+------------------+\n",
            "|MovieID|            Title|  Genre|ReleaseDate|Rating|   Revenue|   Budget|    Profit|Rating level|Year|Month|Rank|ReturnOnInvestment|\n",
            "+-------+-----------------+-------+-----------+------+----------+---------+----------+------------+----+-----+----+------------------+\n",
            "|      7|Avengers: Endgame| Action| 2019-04-26|   8.4|2797800564|356000000|2441800564|         Hit|2019|    4|   1| 6.858990348314607|\n",
            "|      2|  The Dark Knight| Action| 2008-07-18|   9.0|1004558444|185000000| 819558444| BlockBuster|2008|    7|   2| 4.430045643243243|\n",
            "|      5|            Joker|  Drama| 2019-10-04|   8.4|1074251311| 55000000|1019251311|         Hit|2019|   10|   1| 18.53184201818182|\n",
            "|      3|          Titanic|Romance| 1997-12-19|   7.8|2187463944|200000000|1987463944|     Average|1997|   12|   1|        9.93731972|\n",
            "|      1|        Inception| Sci-Fi| 2010-07-16|   8.8| 825532764|160000000| 665532764|         Hit|2010|    7|   1|       4.159579775|\n",
            "|      4|     Interstellar| Sci-Fi| 2014-11-07|   8.6| 677471339|165000000| 512471339|         Hit|2014|   11|   2| 3.105886903030303|\n",
            "|      8|           Barbie|  Drama|       NULL|   7.5|1456000000|145000000|      NULL|        NULL|NULL| NULL|NULL|              NULL|\n",
            "|      9|      Oppenheimer|  Drama|       NULL|   8.6| 950000000|100000000|      NULL|        NULL|NULL| NULL|NULL|              NULL|\n",
            "+-------+-----------------+-------+-----------+------+----------+---------+----------+------------+----+-----+----+------------------+\n",
            "\n"
          ]
        }
      ]
    },
    {
      "cell_type": "code",
      "source": [
        "#Calculate Genre-wise ROI\n",
        "from pyspark.sql.functions import col, avg\n",
        "genre_roi_df=combined_df.groupBy(\"Genre\").agg(avg(\"ReturnOnInvestment\").alias(\"Average\"))\n",
        "genre_roi_df.show()"
      ],
      "metadata": {
        "colab": {
          "base_uri": "https://localhost:8080/"
        },
        "id": "lILQ6fkE3Kv-",
        "outputId": "5aee1e6a-2aa1-474c-9a91-ef701be5d8ac"
      },
      "execution_count": 79,
      "outputs": [
        {
          "output_type": "stream",
          "name": "stdout",
          "text": [
            "+-------+------------------+\n",
            "|  Genre|           Average|\n",
            "+-------+------------------+\n",
            "|Romance|        9.93731972|\n",
            "|  Drama| 18.53184201818182|\n",
            "| Action| 5.644517995778925|\n",
            "| Sci-Fi|3.6327333390151515|\n",
            "+-------+------------------+\n",
            "\n"
          ]
        }
      ]
    },
    {
      "cell_type": "code",
      "source": [
        "# Plot genre-wise ROI as a bar chart using Pandas\n",
        "import matplotlib.pyplot as plt\n",
        "genre_roi_pandas_df=genre_roi_df.toPandas()\n",
        "plt.figure(figsize=(8,5))\n",
        "plt.bar(genre_roi_pandas_df['Genre'], genre_roi_pandas_df['Average'])\n",
        "plt.xlabel('Genre')\n",
        "plt.ylabel('Average')\n",
        "plt.title('genre-wise ROI')\n",
        "plt.xticks(rotation=45, ha='right')\n",
        "plt.tight_layout()\n",
        "plt.show()"
      ],
      "metadata": {
        "colab": {
          "base_uri": "https://localhost:8080/",
          "height": 483
        },
        "id": "-NcPmmel38bS",
        "outputId": "8004e43e-8c0d-467d-ccbe-28bc211e42a2"
      },
      "execution_count": 80,
      "outputs": [
        {
          "output_type": "display_data",
          "data": {
            "text/plain": [
              "<Figure size 800x500 with 1 Axes>"
            ],
            "image/png": "[encoded data removed]"
          },
          "metadata": {}
        }
      ]
    }
  ]
}