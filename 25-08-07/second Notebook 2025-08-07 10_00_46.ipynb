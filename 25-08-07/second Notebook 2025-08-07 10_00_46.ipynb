{
 "cells": [
  {
   "cell_type": "code",
   "execution_count": 0,
   "metadata": {
    "application/vnd.databricks.v1+cell": {
     "cellMetadata": {
      "byteLimit": 2048000,
      "rowLimit": 10000
     },
     "inputWidgets": {},
     "nuid": "abbc8135-c4e8-412e-bbe9-332eb078f491",
     "showTitle": false,
     "tableResultSettingsMap": {},
     "title": ""
    }
   },
   "outputs": [
    {
     "output_type": "stream",
     "name": "stdout",
     "output_type": "stream",
     "text": [
      "+----------+------------+--------+-----+\n|product_id|product_name|quantity|price|\n+----------+------------+--------+-----+\n|      P001|    Notebook|       3|45000|\n|      P002|    Keyboard|       2| 7000|\n|      P003|       Mouse|       5| 4000|\n|      P004|     Monitor|       1|15000|\n|      P005|       Chair|       4| 8000|\n+----------+------------+--------+-----+\n\n"
     ]
    }
   ],
   "source": [
    "data = [\n",
    "    (\"P001\", \"Notebook\", 3, 45000),\n",
    "    (\"P002\", \"Keyboard\", 2, 7000),\n",
    "    (\"P003\", \"Mouse\", 5, 4000),\n",
    "    (\"P004\", \"Monitor\", 1, 15000),\n",
    "    (\"P005\", \"Chair\", 4, 8000)\n",
    "]\n",
    "columns = [\"product_id\", \"product_name\", \"quantity\", \"price\"]\n",
    "df = spark.createDataFrame(data, columns)\n",
    "df.show()"
   ]
  },
  {
   "cell_type": "code",
   "execution_count": 0,
   "metadata": {
    "application/vnd.databricks.v1+cell": {
     "cellMetadata": {
      "byteLimit": 2048000,
      "rowLimit": 10000
     },
     "inputWidgets": {},
     "nuid": "771be720-d103-4318-919d-78d52db205f9",
     "showTitle": false,
     "tableResultSettingsMap": {},
     "title": ""
    }
   },
   "outputs": [],
   "source": [
    "#CSV\n",
    "df.write.mode(\"overwrite\").option(\"header\", \"true\").csv(\"/FileStore/tables/product.csv\")\n",
    "#JSON\n",
    "df.write.mode(\"overwrite\").json(\"/FileStore/tables/product.json\")\n",
    "#Parquet\n",
    "df.write.mode(\"overwrite\").parquet(\"/FileStore/tables/product.parquet\")"
   ]
  },
  {
   "cell_type": "code",
   "execution_count": 0,
   "metadata": {
    "application/vnd.databricks.v1+cell": {
     "cellMetadata": {
      "byteLimit": 2048000,
      "rowLimit": 10000
     },
     "inputWidgets": {},
     "nuid": "84ed6d3a-2777-41b4-8664-5ca1cd77c194",
     "showTitle": false,
     "tableResultSettingsMap": {},
     "title": ""
    }
   },
   "outputs": [
    {
     "output_type": "stream",
     "name": "stdout",
     "output_type": "stream",
     "text": [
      "+----------+------------+--------+-----+\n|product_id|product_name|quantity|price|\n+----------+------------+--------+-----+\n|      P004|     Monitor|       1|15000|\n|      P005|       Chair|       4| 8000|\n|      P001|    Notebook|       3|45000|\n|      P002|    Keyboard|       2| 7000|\n|      P003|       Mouse|       5| 4000|\n+----------+------------+--------+-----+\n\n"
     ]
    }
   ],
   "source": [
    "\n",
    "#read parquet\n",
    "df_parquet = spark.read.parquet(\"/FileStore/tables/product.parquet\")\n",
    "df_parquet.show()"
   ]
  },
  {
   "cell_type": "code",
   "execution_count": 0,
   "metadata": {
    "application/vnd.databricks.v1+cell": {
     "cellMetadata": {
      "byteLimit": 2048000,
      "rowLimit": 10000
     },
     "inputWidgets": {},
     "nuid": "67690f33-1769-44a2-88da-e18165876609",
     "showTitle": false,
     "tableResultSettingsMap": {},
     "title": ""
    }
   },
   "outputs": [
    {
     "output_type": "stream",
     "name": "stdout",
     "output_type": "stream",
     "text": [
      "+----------+------------+--------+-----+\n|product_id|product_name|quantity|price|\n+----------+------------+--------+-----+\n|      P004|     Monitor|       1|15000|\n|      P005|       Chair|       4| 8000|\n|      P001|    Notebook|       3|45000|\n|      P002|    Keyboard|       2| 7000|\n|      P003|       Mouse|       5| 4000|\n+----------+------------+--------+-----+\n\n"
     ]
    }
   ],
   "source": [
    "#read csv\n",
    "df_csv = spark.read.csv(\"/FileStore/tables/product.csv\", header=True)\n",
    "df_csv.show()\n"
   ]
  },
  {
   "cell_type": "code",
   "execution_count": 0,
   "metadata": {
    "application/vnd.databricks.v1+cell": {
     "cellMetadata": {
      "byteLimit": 2048000,
      "rowLimit": 10000
     },
     "inputWidgets": {},
     "nuid": "841112e4-ba4f-41b2-ae35-736490539a09",
     "showTitle": false,
     "tableResultSettingsMap": {},
     "title": ""
    }
   },
   "outputs": [
    {
     "output_type": "stream",
     "name": "stdout",
     "output_type": "stream",
     "text": [
      "+-----+----------+------------+--------+\n|price|product_id|product_name|quantity|\n+-----+----------+------------+--------+\n|15000|      P004|     Monitor|       1|\n| 8000|      P005|       Chair|       4|\n|45000|      P001|    Notebook|       3|\n| 7000|      P002|    Keyboard|       2|\n| 4000|      P003|       Mouse|       5|\n+-----+----------+------------+--------+\n\n"
     ]
    }
   ],
   "source": [
    "#read json\n",
    "df_json = spark.read.json(\"/FileStore/tables/product.json\") \n",
    "df_json.show()"
   ]
  }
 ],
 "metadata": {
  "application/vnd.databricks.v1+notebook": {
   "computePreferences": null,
   "dashboards": [],
   "environmentMetadata": {
    "base_environment": "",
    "environment_version": "2"
   },
   "inputWidgetPreferences": null,
   "language": "python",
   "notebookMetadata": {
    "pythonIndentUnit": 4
   },
   "notebookName": "second Notebook 2025-08-07 10:00:46",
   "widgets": {}
  },
  "language_info": {
   "name": "python"
  }
 },
 "nbformat": 4,
 "nbformat_minor": 0
}