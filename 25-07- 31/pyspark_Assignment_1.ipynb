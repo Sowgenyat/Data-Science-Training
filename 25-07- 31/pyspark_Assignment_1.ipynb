{
  "nbformat": 4,
  "nbformat_minor": 0,
  "metadata": {
    "colab": {
      "provenance": []
    },
    "kernelspec": {
      "name": "python3",
      "display_name": "Python 3"
    },
    "language_info": {
      "name": "python"
    }
  },
  "cells": [
    {
      "cell_type": "markdown",
      "source": [
        "#Master DataFrame Assignment – Retail Sales SuperstoreDataset\n"
      ],
      "metadata": {
        "id": "G1M1ox0RyWHf"
      }
    },
    {
      "cell_type": "markdown",
      "source": [
        "##PART 1: Pandas DataFrame Operations"
      ],
      "metadata": {
        "id": "rfs9x2OJypQQ"
      }
    },
    {
      "cell_type": "code",
      "source": [
        "csv_data = \"\"\"OrderID,OrderDate,Customer,Segment,Region,Product,Category,SubCategory,Quantity,UnitPrice,Discount,Profit\n",
        "CA-1001,2023-01-15,Ravi,Consumer,South,Laptop,Technology,Computers,1,55000,0.10,5000\n",
        "CA-1002,2023-02-20,Priya,Corporate,North,Printer,Technology,Peripherals,2,12000,0.15,1800\n",
        "CA-1003,2023-01-25,Amit,Consumer,East,Notebook,Office Supplies,Paper,3,200,0.05,150\n",
        "CA-1004,2023-03-01,Anita,Home Office,West,Table,Furniture,Tables,1,18000,0.20,-1500\n",
        "CA-1005,2023-02-05,Divya,Consumer,South,Phone,Technology,Phones,2,20000,0.00,3000\n",
        "\"\"\"\n",
        "\n",
        "with open('superstore.csv', 'w') as file:\n",
        "    file.write(csv_data)\n"
      ],
      "metadata": {
        "id": "S2H3lTfQ0aC-"
      },
      "execution_count": 54,
      "outputs": []
    },
    {
      "cell_type": "code",
      "execution_count": 14,
      "metadata": {
        "colab": {
          "base_uri": "https://localhost:8080/"
        },
        "id": "cwY28NW8yN7Z",
        "outputId": "8408d77d-5bb6-4607-9c7c-9ea44423f11c"
      },
      "outputs": [
        {
          "output_type": "stream",
          "name": "stdout",
          "text": [
            "   OrderID   OrderDate Customer      Segment Region   Product  \\\n",
            "0  CA-1001  2023-01-15     Ravi     Consumer  South    Laptop   \n",
            "1  CA-1002  2023-02-20    Priya    Corporate  North   Printer   \n",
            "2  CA-1003  2023-01-25     Amit     Consumer   East  Notebook   \n",
            "3  CA-1004  2023-03-01    Anita  Home Office   West     Table   \n",
            "4  CA-1005  2023-02-05    Divya     Consumer  South     Phone   \n",
            "\n",
            "          Category  SubCategory  Quantity  UnitPrice  Discount  Profit  \n",
            "0       Technology    Computers         1      55000      0.10    5000  \n",
            "1       Technology  Peripherals         2      12000      0.15    1800  \n",
            "2  Office Supplies        Paper         3        200      0.05     150  \n",
            "3        Furniture       Tables         1      18000      0.20   -1500  \n",
            "4       Technology       Phones         2      20000      0.00    3000  \n",
            "\n",
            "Shape\n",
            ": (5, 12)\n",
            "\n",
            "dtypes:\n",
            " OrderID         object\n",
            "OrderDate       object\n",
            "Customer        object\n",
            "Segment         object\n",
            "Region          object\n",
            "Product         object\n",
            "Category        object\n",
            "SubCategory     object\n",
            "Quantity         int64\n",
            "UnitPrice        int64\n",
            "Discount       float64\n",
            "Profit           int64\n",
            "dtype: object\n",
            "  Customer   Product  Profit\n",
            "0     Ravi    Laptop    5000\n",
            "1    Priya   Printer    1800\n",
            "2     Amit  Notebook     150\n",
            "3    Anita     Table   -1500\n",
            "4    Divya     Phone    3000\n"
          ]
        }
      ],
      "source": [
        "#1. Load the CSV using pandas.\n",
        "import pandas as pd\n",
        "df = pd.read_csv('superstore.csv')\n",
        "\n",
        "#2. Print schema, head, shape, dtypes.\n",
        "print(df.head())\n",
        "print(\"\\nShape\\n:\",df.shape)\n",
        "print(\"\\ndtypes:\\n\",df.dtypes)\n",
        "\n",
        "#3. Select Customer , Product , Profit columns.\n",
        "print(df[['Customer','Product','Profit']])\n"
      ]
    },
    {
      "cell_type": "code",
      "source": [
        "#4. Filter orders where Profit > 2000 and Discount = 0 .\n",
        "filtered_df = df[(df['Profit'] > 2000) & (df['Discount'] == 0)]\n",
        "print(filtered_df)\n",
        "\n"
      ],
      "metadata": {
        "colab": {
          "base_uri": "https://localhost:8080/"
        },
        "id": "X-XQmetm1SHt",
        "outputId": "8bfcf55d-8dfb-401f-f081-f55b620b3256"
      },
      "execution_count": 17,
      "outputs": [
        {
          "output_type": "stream",
          "name": "stdout",
          "text": [
            "   OrderID   OrderDate Customer   Segment Region Product    Category  \\\n",
            "4  CA-1005  2023-02-05    Divya  Consumer  South   Phone  Technology   \n",
            "\n",
            "  SubCategory  Quantity  UnitPrice  Discount  Profit  \n",
            "4      Phones         2      20000       0.0    3000  \n"
          ]
        }
      ]
    },
    {
      "cell_type": "code",
      "source": [
        "#5. Sort by Profit descending.\n",
        "sorted_df = df.sort_values(by='Profit', ascending=False)\n",
        "print(sorted_df)\n"
      ],
      "metadata": {
        "colab": {
          "base_uri": "https://localhost:8080/"
        },
        "id": "u9SuQxir1imy",
        "outputId": "80f26f81-c670-44b1-c9c5-b835f2a438a4"
      },
      "execution_count": 18,
      "outputs": [
        {
          "output_type": "stream",
          "name": "stdout",
          "text": [
            "   OrderID   OrderDate Customer      Segment Region   Product  \\\n",
            "0  CA-1001  2023-01-15     Ravi     Consumer  South    Laptop   \n",
            "4  CA-1005  2023-02-05    Divya     Consumer  South     Phone   \n",
            "1  CA-1002  2023-02-20    Priya    Corporate  North   Printer   \n",
            "2  CA-1003  2023-01-25     Amit     Consumer   East  Notebook   \n",
            "3  CA-1004  2023-03-01    Anita  Home Office   West     Table   \n",
            "\n",
            "          Category  SubCategory  Quantity  UnitPrice  Discount  Profit  \n",
            "0       Technology    Computers         1      55000      0.10    5000  \n",
            "4       Technology       Phones         2      20000      0.00    3000  \n",
            "1       Technology  Peripherals         2      12000      0.15    1800  \n",
            "2  Office Supplies        Paper         3        200      0.05     150  \n",
            "3        Furniture       Tables         1      18000      0.20   -1500  \n"
          ]
        }
      ]
    },
    {
      "cell_type": "code",
      "source": [
        "#6. GroupBy Category → Total Profit, Avg Discount.\n",
        "grouped_df = df.groupby('Category').agg({'Profit': 'sum', 'Discount': 'mean'})\n",
        "print(grouped_df)\n"
      ],
      "metadata": {
        "colab": {
          "base_uri": "https://localhost:8080/"
        },
        "id": "Mf4Qy5SU1peV",
        "outputId": "81cd1560-e9ab-496e-f4bc-ef4ad48fed14"
      },
      "execution_count": 19,
      "outputs": [
        {
          "output_type": "stream",
          "name": "stdout",
          "text": [
            "                 Profit  Discount\n",
            "Category                         \n",
            "Furniture         -1500  0.200000\n",
            "Office Supplies     150  0.050000\n",
            "Technology         9800  0.083333\n"
          ]
        }
      ]
    },
    {
      "cell_type": "code",
      "source": [
        "#7. Add a column TotalPrice = Quantity * UnitPrice .\n",
        "df['TotalPrice'] = df['Quantity'] * df['UnitPrice']\n",
        "print(df)\n"
      ],
      "metadata": {
        "colab": {
          "base_uri": "https://localhost:8080/"
        },
        "id": "fnPWTQSu2Awd",
        "outputId": "94f40d29-dedf-4754-c565-677012e53e95"
      },
      "execution_count": 20,
      "outputs": [
        {
          "output_type": "stream",
          "name": "stdout",
          "text": [
            "   OrderID   OrderDate Customer      Segment Region   Product  \\\n",
            "0  CA-1001  2023-01-15     Ravi     Consumer  South    Laptop   \n",
            "1  CA-1002  2023-02-20    Priya    Corporate  North   Printer   \n",
            "2  CA-1003  2023-01-25     Amit     Consumer   East  Notebook   \n",
            "3  CA-1004  2023-03-01    Anita  Home Office   West     Table   \n",
            "4  CA-1005  2023-02-05    Divya     Consumer  South     Phone   \n",
            "\n",
            "          Category  SubCategory  Quantity  UnitPrice  Discount  Profit  \\\n",
            "0       Technology    Computers         1      55000      0.10    5000   \n",
            "1       Technology  Peripherals         2      12000      0.15    1800   \n",
            "2  Office Supplies        Paper         3        200      0.05     150   \n",
            "3        Furniture       Tables         1      18000      0.20   -1500   \n",
            "4       Technology       Phones         2      20000      0.00    3000   \n",
            "\n",
            "   TotalPrice  \n",
            "0       55000  \n",
            "1       24000  \n",
            "2         600  \n",
            "3       18000  \n",
            "4       40000  \n"
          ]
        }
      ]
    },
    {
      "cell_type": "code",
      "source": [
        "#8. Drop the SubCategory column.\n",
        "df = df.drop('SubCategory', axis=1)\n",
        "print(df)\n"
      ],
      "metadata": {
        "colab": {
          "base_uri": "https://localhost:8080/"
        },
        "id": "UE9DPv_72G45",
        "outputId": "bcc928c8-882c-42b7-fc2b-15eea0d924b0"
      },
      "execution_count": 21,
      "outputs": [
        {
          "output_type": "stream",
          "name": "stdout",
          "text": [
            "   OrderID   OrderDate Customer      Segment Region   Product  \\\n",
            "0  CA-1001  2023-01-15     Ravi     Consumer  South    Laptop   \n",
            "1  CA-1002  2023-02-20    Priya    Corporate  North   Printer   \n",
            "2  CA-1003  2023-01-25     Amit     Consumer   East  Notebook   \n",
            "3  CA-1004  2023-03-01    Anita  Home Office   West     Table   \n",
            "4  CA-1005  2023-02-05    Divya     Consumer  South     Phone   \n",
            "\n",
            "          Category  Quantity  UnitPrice  Discount  Profit  TotalPrice  \n",
            "0       Technology         1      55000      0.10    5000       55000  \n",
            "1       Technology         2      12000      0.15    1800       24000  \n",
            "2  Office Supplies         3        200      0.05     150         600  \n",
            "3        Furniture         1      18000      0.20   -1500       18000  \n",
            "4       Technology         2      20000      0.00    3000       40000  \n"
          ]
        }
      ]
    },
    {
      "cell_type": "code",
      "source": [
        "#9. Fill nulls in Discount with 0.10.\n",
        "df['Discount'] = df['Discount'].fillna(0.10)\n",
        "print(df)\n"
      ],
      "metadata": {
        "colab": {
          "base_uri": "https://localhost:8080/"
        },
        "id": "YUYRI4Fc2NLF",
        "outputId": "15c83c48-537f-4587-b78e-2c9e7029da8a"
      },
      "execution_count": 22,
      "outputs": [
        {
          "output_type": "stream",
          "name": "stdout",
          "text": [
            "   OrderID   OrderDate Customer      Segment Region   Product  \\\n",
            "0  CA-1001  2023-01-15     Ravi     Consumer  South    Laptop   \n",
            "1  CA-1002  2023-02-20    Priya    Corporate  North   Printer   \n",
            "2  CA-1003  2023-01-25     Amit     Consumer   East  Notebook   \n",
            "3  CA-1004  2023-03-01    Anita  Home Office   West     Table   \n",
            "4  CA-1005  2023-02-05    Divya     Consumer  South     Phone   \n",
            "\n",
            "          Category  Quantity  UnitPrice  Discount  Profit  TotalPrice  \n",
            "0       Technology         1      55000      0.10    5000       55000  \n",
            "1       Technology         2      12000      0.15    1800       24000  \n",
            "2  Office Supplies         3        200      0.05     150         600  \n",
            "3        Furniture         1      18000      0.20   -1500       18000  \n",
            "4       Technology         2      20000      0.00    3000       40000  \n"
          ]
        }
      ]
    },
    {
      "cell_type": "code",
      "source": [
        "#10. Apply a function to categorize orders:\n",
        "\n",
        "def classify(row):\n",
        "    if row['Profit'] > 4000:\n",
        "        return 'High'\n",
        "    elif row['Profit'] > 0:\n",
        "        return 'Medium'\n",
        "    else:\n",
        "        return 'Low'\n",
        "\n",
        "df[\"Categoryorder\"] = df.apply(classify, axis=1)\n",
        "print(df[[\"OrderID\", \"Profit\", \"Categoryorder\"]])\n"
      ],
      "metadata": {
        "colab": {
          "base_uri": "https://localhost:8080/"
        },
        "id": "AtGAtOhN2WIk",
        "outputId": "402f309d-98a9-44cc-c218-dd4a6bcc4543"
      },
      "execution_count": 26,
      "outputs": [
        {
          "output_type": "stream",
          "name": "stdout",
          "text": [
            "   OrderID  Profit Categoryorder\n",
            "0  CA-1001    5000          High\n",
            "1  CA-1002    1800        Medium\n",
            "2  CA-1003     150        Medium\n",
            "3  CA-1004   -1500           Low\n",
            "4  CA-1005    3000        Medium\n"
          ]
        }
      ]
    },
    {
      "cell_type": "markdown",
      "source": [
        "#PART 2: PySpark DataFrame Operations"
      ],
      "metadata": {
        "id": "UxRm2xKB3ZhP"
      }
    },
    {
      "cell_type": "code",
      "source": [
        "from pyspark.sql import SparkSession\n",
        "spark=SparkSession.builder.appName(\"DataframeOperations\").getOrCreate()"
      ],
      "metadata": {
        "id": "WVQHplkY6d_U"
      },
      "execution_count": 28,
      "outputs": []
    },
    {
      "cell_type": "code",
      "source": [
        "#1. Load the same CSV using PySpark.\n",
        "spark_df=spark.read.csv('superstore.csv',header=True,inferSchema=True)\n",
        "print(spark_df)\n",
        "#2. Show schema and first 5 rows.\n",
        "print(spark_df.printSchema())\n",
        "print(spark_df.show(5))\n",
        "#3. Select columns, Rename Customer → Client .\n",
        "spark_df=spark_df.selectExpr(\"OrderID\",\"OrderDate\",\"Customer as Client\",\"Segment\",\"Region\",\"Product\",\"Category\",\"SubCategory\",\"Quantity\",\"UnitPrice\",\"Discount\",\"Profit\")\n",
        "print(spark_df.show())\n"
      ],
      "metadata": {
        "colab": {
          "base_uri": "https://localhost:8080/"
        },
        "id": "QYci22G23YdG",
        "outputId": "d7ccc7f7-9d8e-4828-9970-d8132ad47c92"
      },
      "execution_count": 33,
      "outputs": [
        {
          "output_type": "stream",
          "name": "stdout",
          "text": [
            "DataFrame[OrderID: string, OrderDate: date, Customer: string, Segment: string, Region: string, Product: string, Category: string, SubCategory: string, Quantity: int, UnitPrice: int, Discount: double, Profit: int]\n",
            "root\n",
            " |-- OrderID: string (nullable = true)\n",
            " |-- OrderDate: date (nullable = true)\n",
            " |-- Customer: string (nullable = true)\n",
            " |-- Segment: string (nullable = true)\n",
            " |-- Region: string (nullable = true)\n",
            " |-- Product: string (nullable = true)\n",
            " |-- Category: string (nullable = true)\n",
            " |-- SubCategory: string (nullable = true)\n",
            " |-- Quantity: integer (nullable = true)\n",
            " |-- UnitPrice: integer (nullable = true)\n",
            " |-- Discount: double (nullable = true)\n",
            " |-- Profit: integer (nullable = true)\n",
            "\n",
            "None\n",
            "+-------+----------+--------+-----------+------+--------+---------------+-----------+--------+---------+--------+------+\n",
            "|OrderID| OrderDate|Customer|    Segment|Region| Product|       Category|SubCategory|Quantity|UnitPrice|Discount|Profit|\n",
            "+-------+----------+--------+-----------+------+--------+---------------+-----------+--------+---------+--------+------+\n",
            "|CA-1001|2023-01-15|    Ravi|   Consumer| South|  Laptop|     Technology|  Computers|       1|    55000|     0.1|  5000|\n",
            "|CA-1002|2023-02-20|   Priya|  Corporate| North| Printer|     Technology|Peripherals|       2|    12000|    0.15|  1800|\n",
            "|CA-1003|2023-01-25|    Amit|   Consumer|  East|Notebook|Office Supplies|      Paper|       3|      200|    0.05|   150|\n",
            "|CA-1004|2023-03-01|   Anita|Home Office|  West|   Table|      Furniture|     Tables|       1|    18000|     0.2| -1500|\n",
            "|CA-1005|2023-02-05|   Divya|   Consumer| South|   Phone|     Technology|     Phones|       2|    20000|     0.0|  3000|\n",
            "+-------+----------+--------+-----------+------+--------+---------------+-----------+--------+---------+--------+------+\n",
            "\n",
            "None\n",
            "+-------+----------+------+-----------+------+--------+---------------+-----------+--------+---------+--------+------+\n",
            "|OrderID| OrderDate|Client|    Segment|Region| Product|       Category|SubCategory|Quantity|UnitPrice|Discount|Profit|\n",
            "+-------+----------+------+-----------+------+--------+---------------+-----------+--------+---------+--------+------+\n",
            "|CA-1001|2023-01-15|  Ravi|   Consumer| South|  Laptop|     Technology|  Computers|       1|    55000|     0.1|  5000|\n",
            "|CA-1002|2023-02-20| Priya|  Corporate| North| Printer|     Technology|Peripherals|       2|    12000|    0.15|  1800|\n",
            "|CA-1003|2023-01-25|  Amit|   Consumer|  East|Notebook|Office Supplies|      Paper|       3|      200|    0.05|   150|\n",
            "|CA-1004|2023-03-01| Anita|Home Office|  West|   Table|      Furniture|     Tables|       1|    18000|     0.2| -1500|\n",
            "|CA-1005|2023-02-05| Divya|   Consumer| South|   Phone|     Technology|     Phones|       2|    20000|     0.0|  3000|\n",
            "+-------+----------+------+-----------+------+--------+---------------+-----------+--------+---------+--------+------+\n",
            "\n",
            "None\n"
          ]
        }
      ]
    },
    {
      "cell_type": "code",
      "source": [
        "\n",
        "#4. Filter Segment = 'Consumer' and Profit < 1000 .\n",
        "filtered_df = spark_df.filter((spark_df['Segment'] == 'Consumer') & (spark_df['Profit'] < 1000))\n",
        "print(filtered_df.show())\n",
        "#5. GroupBy Region and show average profit.\n",
        "grouped_df = spark_df.groupBy('Region').agg({'Profit': 'mean'})\n",
        "print(grouped_df.show())\n"
      ],
      "metadata": {
        "colab": {
          "base_uri": "https://localhost:8080/"
        },
        "id": "bEEdsRNb8CUJ",
        "outputId": "37270618-7c7e-49ae-b658-7ada4c3e43d4"
      },
      "execution_count": 35,
      "outputs": [
        {
          "output_type": "stream",
          "name": "stdout",
          "text": [
            "+-------+----------+------+--------+------+--------+---------------+-----------+--------+---------+--------+------+\n",
            "|OrderID| OrderDate|Client| Segment|Region| Product|       Category|SubCategory|Quantity|UnitPrice|Discount|Profit|\n",
            "+-------+----------+------+--------+------+--------+---------------+-----------+--------+---------+--------+------+\n",
            "|CA-1003|2023-01-25|  Amit|Consumer|  East|Notebook|Office Supplies|      Paper|       3|      200|    0.05|   150|\n",
            "+-------+----------+------+--------+------+--------+---------------+-----------+--------+---------+--------+------+\n",
            "\n",
            "None\n",
            "+------+-----------+\n",
            "|Region|avg(Profit)|\n",
            "+------+-----------+\n",
            "| South|     4000.0|\n",
            "|  East|      150.0|\n",
            "|  West|    -1500.0|\n",
            "| North|     1800.0|\n",
            "+------+-----------+\n",
            "\n",
            "None\n"
          ]
        }
      ]
    },
    {
      "cell_type": "code",
      "source": [
        "#6. Use withColumn to create TotalPrice = Quantity * UnitPrice .\n",
        "spark_df = spark_df.withColumn('TotalPrice', spark_df['Quantity'] * spark_df['UnitPrice'])\n",
        "print(spark_df.show())\n",
        "#7. Use when().otherwise() to classify Profit\n",
        "from pyspark.sql.functions import when\n",
        "from pyspark.sql.functions import col\n",
        "spark_df = spark_df.withColumn(\"ProfitLevel\", when(col(\"Profit\") > 2000, \"High\").when(col(\"Profit\") <= 0, \"Loss\").otherwise(\"Medium\"))\n",
        "spark_df.select(\"OrderID\", \"Profit\", \"ProfitLevel\").show()\n",
        "\n"
      ],
      "metadata": {
        "colab": {
          "base_uri": "https://localhost:8080/"
        },
        "id": "Qj_0qx088S2R",
        "outputId": "084c3eda-30c3-40cb-bba9-0d97a6caa03e"
      },
      "execution_count": 41,
      "outputs": [
        {
          "output_type": "stream",
          "name": "stdout",
          "text": [
            "+-------+----------+------+-----------+------+--------+---------------+-----------+--------+---------+--------+------+----------+\n",
            "|OrderID| OrderDate|Client|    Segment|Region| Product|       Category|SubCategory|Quantity|UnitPrice|Discount|Profit|TotalPrice|\n",
            "+-------+----------+------+-----------+------+--------+---------------+-----------+--------+---------+--------+------+----------+\n",
            "|CA-1001|2023-01-15|  Ravi|   Consumer| South|  Laptop|     Technology|  Computers|       1|    55000|     0.1|  5000|     55000|\n",
            "|CA-1002|2023-02-20| Priya|  Corporate| North| Printer|     Technology|Peripherals|       2|    12000|    0.15|  1800|     24000|\n",
            "|CA-1003|2023-01-25|  Amit|   Consumer|  East|Notebook|Office Supplies|      Paper|       3|      200|    0.05|   150|       600|\n",
            "|CA-1004|2023-03-01| Anita|Home Office|  West|   Table|      Furniture|     Tables|       1|    18000|     0.2| -1500|     18000|\n",
            "|CA-1005|2023-02-05| Divya|   Consumer| South|   Phone|     Technology|     Phones|       2|    20000|     0.0|  3000|     40000|\n",
            "+-------+----------+------+-----------+------+--------+---------------+-----------+--------+---------+--------+------+----------+\n",
            "\n",
            "None\n",
            "+-------+------+-----------+\n",
            "|OrderID|Profit|ProfitLevel|\n",
            "+-------+------+-----------+\n",
            "|CA-1001|  5000|       High|\n",
            "|CA-1002|  1800|     Medium|\n",
            "|CA-1003|   150|     Medium|\n",
            "|CA-1004| -1500|       Loss|\n",
            "|CA-1005|  3000|       High|\n",
            "+-------+------+-----------+\n",
            "\n"
          ]
        }
      ]
    },
    {
      "cell_type": "code",
      "source": [
        "#8. Use drop() to remove SubCategory .\n",
        "spark_df = spark_df.drop('SubCategory')\n",
        "print(spark_df.show())\n",
        "#9. Handle nulls in Discount using fillna(0.10) .\n",
        "spark_df = spark_df.fillna({'Discount': 0.10})\n",
        "print(spark_df.show())\n"
      ],
      "metadata": {
        "colab": {
          "base_uri": "https://localhost:8080/"
        },
        "id": "CGrCGQyl9YsG",
        "outputId": "dc3bb3e4-eadb-4432-d5a5-a37f16198321"
      },
      "execution_count": 42,
      "outputs": [
        {
          "output_type": "stream",
          "name": "stdout",
          "text": [
            "+-------+----------+------+-----------+------+--------+---------------+--------+---------+--------+------+----------+-----------+\n",
            "|OrderID| OrderDate|Client|    Segment|Region| Product|       Category|Quantity|UnitPrice|Discount|Profit|TotalPrice|ProfitLevel|\n",
            "+-------+----------+------+-----------+------+--------+---------------+--------+---------+--------+------+----------+-----------+\n",
            "|CA-1001|2023-01-15|  Ravi|   Consumer| South|  Laptop|     Technology|       1|    55000|     0.1|  5000|     55000|       High|\n",
            "|CA-1002|2023-02-20| Priya|  Corporate| North| Printer|     Technology|       2|    12000|    0.15|  1800|     24000|     Medium|\n",
            "|CA-1003|2023-01-25|  Amit|   Consumer|  East|Notebook|Office Supplies|       3|      200|    0.05|   150|       600|     Medium|\n",
            "|CA-1004|2023-03-01| Anita|Home Office|  West|   Table|      Furniture|       1|    18000|     0.2| -1500|     18000|       Loss|\n",
            "|CA-1005|2023-02-05| Divya|   Consumer| South|   Phone|     Technology|       2|    20000|     0.0|  3000|     40000|       High|\n",
            "+-------+----------+------+-----------+------+--------+---------------+--------+---------+--------+------+----------+-----------+\n",
            "\n",
            "None\n",
            "+-------+----------+------+-----------+------+--------+---------------+--------+---------+--------+------+----------+-----------+\n",
            "|OrderID| OrderDate|Client|    Segment|Region| Product|       Category|Quantity|UnitPrice|Discount|Profit|TotalPrice|ProfitLevel|\n",
            "+-------+----------+------+-----------+------+--------+---------------+--------+---------+--------+------+----------+-----------+\n",
            "|CA-1001|2023-01-15|  Ravi|   Consumer| South|  Laptop|     Technology|       1|    55000|     0.1|  5000|     55000|       High|\n",
            "|CA-1002|2023-02-20| Priya|  Corporate| North| Printer|     Technology|       2|    12000|    0.15|  1800|     24000|     Medium|\n",
            "|CA-1003|2023-01-25|  Amit|   Consumer|  East|Notebook|Office Supplies|       3|      200|    0.05|   150|       600|     Medium|\n",
            "|CA-1004|2023-03-01| Anita|Home Office|  West|   Table|      Furniture|       1|    18000|     0.2| -1500|     18000|       Loss|\n",
            "|CA-1005|2023-02-05| Divya|   Consumer| South|   Phone|     Technology|       2|    20000|     0.0|  3000|     40000|       High|\n",
            "+-------+----------+------+-----------+------+--------+---------------+--------+---------+--------+------+----------+-----------+\n",
            "\n",
            "None\n"
          ]
        }
      ]
    },
    {
      "cell_type": "code",
      "source": [
        "#10. Convert OrderDate to date type and extract year , month .\n",
        "from pyspark.sql.functions import year, month\n",
        "from pyspark.sql.types import DateType\n",
        "spark_df = spark_df.withColumn(\"OrderDate\", col(\"OrderDate\").cast(DateType()))\n",
        "spark_df = spark_df.withColumn(\"OrderYear\", year(\"OrderDate\"))\n",
        "spark_df = spark_df.withColumn(\"OrderMonth\", month(\"OrderDate\"))\n",
        "spark_df.select(\"OrderID\", \"OrderDate\", \"OrderYear\", \"OrderMonth\").show()"
      ],
      "metadata": {
        "colab": {
          "base_uri": "https://localhost:8080/"
        },
        "id": "b6OFwLMM9jIg",
        "outputId": "7f3015b9-47fc-4a0b-f25b-3ee5674e98f3"
      },
      "execution_count": 46,
      "outputs": [
        {
          "output_type": "stream",
          "name": "stdout",
          "text": [
            "+-------+----------+---------+----------+\n",
            "|OrderID| OrderDate|OrderYear|OrderMonth|\n",
            "+-------+----------+---------+----------+\n",
            "|CA-1001|2023-01-15|     2023|         1|\n",
            "|CA-1002|2023-02-20|     2023|         2|\n",
            "|CA-1003|2023-01-25|     2023|         1|\n",
            "|CA-1004|2023-03-01|     2023|         3|\n",
            "|CA-1005|2023-02-05|     2023|         2|\n",
            "+-------+----------+---------+----------+\n",
            "\n"
          ]
        }
      ]
    },
    {
      "cell_type": "markdown",
      "source": [
        "#PART 3: Dask DataFrame Operations (Pandas Alternative)"
      ],
      "metadata": {
        "id": "PDgyDSwy-qgh"
      }
    },
    {
      "cell_type": "code",
      "source": [
        "#1. Install Dask:\n",
        "!pip install dask\n",
        "#2. Load the same superstore.csv :\n",
        "import dask.dataframe as dd\n",
        "df = dd.read_csv('superstore.csv')\n"
      ],
      "metadata": {
        "id": "ZbRG07CZ_BKk"
      },
      "execution_count": null,
      "outputs": []
    },
    {
      "cell_type": "code",
      "source": [
        "#3. Do the following:\n",
        "#Compute average discount by category.\n",
        "average_discount = df.groupby('Category')['Discount'].mean().compute()\n",
        "print(average_discount)\n",
        "#Filter orders with more than 1 quantity and high profit.\n",
        "filtered_df = df[(df['Quantity'] > 1) & (df['Profit'] > 1000)]\n",
        "print(filtered_df.compute())\n",
        "#Save filtered data to new CSV.\n",
        "filtered_df.to_csv('filtered_data.csv', index=False)"
      ],
      "metadata": {
        "colab": {
          "base_uri": "https://localhost:8080/"
        },
        "id": "k7pYof3-BbkF",
        "outputId": "daa3f648-ec64-4b51-d07a-d1f26799f707"
      },
      "execution_count": 52,
      "outputs": [
        {
          "output_type": "stream",
          "name": "stdout",
          "text": [
            "Category\n",
            "Furniture          0.200000\n",
            "Office Supplies    0.050000\n",
            "Technology         0.083333\n",
            "Name: Discount, dtype: float64\n",
            "   OrderID   OrderDate Customer    Segment Region  Product    Category  \\\n",
            "1  CA-1002  2023-02-20    Priya  Corporate  North  Printer  Technology   \n",
            "4  CA-1005  2023-02-05    Divya   Consumer  South    Phone  Technology   \n",
            "\n",
            "   SubCategory  Quantity  UnitPrice  Discount  Profit  \n",
            "1  Peripherals         2      12000      0.15    1800  \n",
            "4       Phones         2      20000      0.00    3000  \n"
          ]
        },
        {
          "output_type": "execute_result",
          "data": {
            "text/plain": [
              "['/content/filtered_data.csv/0.part']"
            ]
          },
          "metadata": {},
          "execution_count": 52
        }
      ]
    },
    {
      "cell_type": "markdown",
      "source": [
        "#PART 4: JSON Handling (Complex Nested)"
      ],
      "metadata": {
        "id": "5oGCIBUNBtpq"
      }
    },
    {
      "cell_type": "code",
      "source": [
        "import json\n",
        "\n",
        "data=[\n",
        "{\n",
        "\"OrderID\": \"CA-1001\",\n",
        "\"Customer\": {\"Name\": \"Ravi\", \"Segment\": \"Consumer\"},\n",
        "\"Details\": {\"Region\": \"South\", \"Profit\": 5000}\n",
        "},\n",
        "{\n",
        "\"OrderID\": \"CA-1002\",\n",
        "\"Customer\": {\"Name\": \"Priya\", \"Segment\": \"Corporate\"},\n",
        "\"Details\": {\"Region\": \"North\", \"Profit\": 1800}\n",
        "}\n",
        "]\n",
        "with open(\"orders.json\", \"w\") as file:\n",
        "    json.dump(data, file, indent=4)\n"
      ],
      "metadata": {
        "id": "JWWTPaVdBxap"
      },
      "execution_count": 55,
      "outputs": []
    },
    {
      "cell_type": "code",
      "source": [
        "from pyspark.sql import SparkSession\n",
        "spark=SparkSession.builder.appName(\"JSONOperations\").getOrCreate()"
      ],
      "metadata": {
        "id": "Luo5yz1_Cp4_"
      },
      "execution_count": 56,
      "outputs": []
    },
    {
      "cell_type": "code",
      "source": [
        "df_json = spark.read.json('orders.json', multiLine=True)\n",
        "df_json.printSchema()\n",
        "df_json.select(\"OrderID\", \"Customer.Name\", \"Details.Profit\").show()"
      ],
      "metadata": {
        "colab": {
          "base_uri": "https://localhost:8080/"
        },
        "id": "M71WTImfC13h",
        "outputId": "d3369089-f8a8-4402-e201-ce287d1321af"
      },
      "execution_count": 57,
      "outputs": [
        {
          "output_type": "stream",
          "name": "stdout",
          "text": [
            "root\n",
            " |-- Customer: struct (nullable = true)\n",
            " |    |-- Name: string (nullable = true)\n",
            " |    |-- Segment: string (nullable = true)\n",
            " |-- Details: struct (nullable = true)\n",
            " |    |-- Profit: long (nullable = true)\n",
            " |    |-- Region: string (nullable = true)\n",
            " |-- OrderID: string (nullable = true)\n",
            "\n",
            "+-------+-----+------+\n",
            "|OrderID| Name|Profit|\n",
            "+-------+-----+------+\n",
            "|CA-1001| Ravi|  5000|\n",
            "|CA-1002|Priya|  1800|\n",
            "+-------+-----+------+\n",
            "\n"
          ]
        }
      ]
    }
  ]
}