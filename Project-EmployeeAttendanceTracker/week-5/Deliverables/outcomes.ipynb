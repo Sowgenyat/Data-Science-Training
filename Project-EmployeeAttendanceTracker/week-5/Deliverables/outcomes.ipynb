{
  "nbformat": 4,
  "nbformat_minor": 0,
  "metadata": {
    "colab": {
      "provenance": []
    },
    "kernelspec": {
      "name": "python3",
      "display_name": "Python 3"
    },
    "language_info": {
      "name": "python"
    }
  },
  "cells": [
    {
      "cell_type": "code",
      "execution_count": 1,
      "metadata": {
        "id": "jeLL0P2btiv6"
      },
      "outputs": [],
      "source": [
        "from pyspark.sql import SparkSession\n",
        "from pyspark.sql import functions"
      ]
    },
    {
      "cell_type": "code",
      "source": [
        "spark = SparkSession.builder.appName(\"DevOps\").getOrCreate()\n",
        "spark"
      ],
      "metadata": {
        "colab": {
          "base_uri": "https://localhost:8080/",
          "height": 219
        },
        "id": "Qp8Uk4kQtr08",
        "outputId": "0271e381-711f-4d91-ee8b-e30b1c948505"
      },
      "execution_count": 2,
      "outputs": [
        {
          "output_type": "execute_result",
          "data": {
            "text/plain": [
              "<pyspark.sql.session.SparkSession at 0x7eafcc44c470>"
            ],
            "text/html": [
              "\n",
              "            <div>\n",
              "                <p><b>SparkSession - in-memory</b></p>\n",
              "                \n",
              "        <div>\n",
              "            <p><b>SparkContext</b></p>\n",
              "\n",
              "            <p><a href=\"http://e94131e22677:4040\">Spark UI</a></p>\n",
              "\n",
              "            <dl>\n",
              "              <dt>Version</dt>\n",
              "                <dd><code>v3.5.1</code></dd>\n",
              "              <dt>Master</dt>\n",
              "                <dd><code>local[*]</code></dd>\n",
              "              <dt>AppName</dt>\n",
              "                <dd><code>DevOps</code></dd>\n",
              "            </dl>\n",
              "        </div>\n",
              "        \n",
              "            </div>\n",
              "        "
            ]
          },
          "metadata": {},
          "execution_count": 2
        }
      ]
    },
    {
      "cell_type": "code",
      "source": [
        "from google.colab import files\n",
        "uploaded = files.upload()"
      ],
      "metadata": {
        "colab": {
          "base_uri": "https://localhost:8080/",
          "height": 73
        },
        "id": "KkI6DkUYttQk",
        "outputId": "68c200e9-c14d-4f3d-e89f-a8c431f983ba"
      },
      "execution_count": 3,
      "outputs": [
        {
          "output_type": "display_data",
          "data": {
            "text/plain": [
              "<IPython.core.display.HTML object>"
            ],
            "text/html": [
              "\n",
              "     <input type=\"file\" id=\"files-6578a561-5460-41df-9927-86c7ba76016a\" name=\"files[]\" multiple disabled\n",
              "        style=\"border:none\" />\n",
              "     <output id=\"result-6578a561-5460-41df-9927-86c7ba76016a\">\n",
              "      Upload widget is only available when the cell has been executed in the\n",
              "      current browser session. Please rerun this cell to enable.\n",
              "      </output>\n",
              "      <script>// Copyright 2017 Google LLC\n",
              "//\n",
              "// Licensed under the Apache License, Version 2.0 (the \"License\");\n",
              "// you may not use this file except in compliance with the License.\n",
              "// You may obtain a copy of the License at\n",
              "//\n",
              "//      http://www.apache.org/licenses/LICENSE-2.0\n",
              "//\n",
              "// Unless required by applicable law or agreed to in writing, software\n",
              "// distributed under the License is distributed on an \"AS IS\" BASIS,\n",
              "// WITHOUT WARRANTIES OR CONDITIONS OF ANY KIND, either express or implied.\n",
              "// See the License for the specific language governing permissions and\n",
              "// limitations under the License.\n",
              "\n",
              "/**\n",
              " * @fileoverview Helpers for google.colab Python module.\n",
              " */\n",
              "(function(scope) {\n",
              "function span(text, styleAttributes = {}) {\n",
              "  const element = document.createElement('span');\n",
              "  element.textContent = text;\n",
              "  for (const key of Object.keys(styleAttributes)) {\n",
              "    element.style[key] = styleAttributes[key];\n",
              "  }\n",
              "  return element;\n",
              "}\n",
              "\n",
              "// Max number of bytes which will be uploaded at a time.\n",
              "const MAX_PAYLOAD_SIZE = 100 * 1024;\n",
              "\n",
              "function _uploadFiles(inputId, outputId) {\n",
              "  const steps = uploadFilesStep(inputId, outputId);\n",
              "  const outputElement = document.getElementById(outputId);\n",
              "  // Cache steps on the outputElement to make it available for the next call\n",
              "  // to uploadFilesContinue from Python.\n",
              "  outputElement.steps = steps;\n",
              "\n",
              "  return _uploadFilesContinue(outputId);\n",
              "}\n",
              "\n",
              "// This is roughly an async generator (not supported in the browser yet),\n",
              "// where there are multiple asynchronous steps and the Python side is going\n",
              "// to poll for completion of each step.\n",
              "// This uses a Promise to block the python side on completion of each step,\n",
              "// then passes the result of the previous step as the input to the next step.\n",
              "function _uploadFilesContinue(outputId) {\n",
              "  const outputElement = document.getElementById(outputId);\n",
              "  const steps = outputElement.steps;\n",
              "\n",
              "  const next = steps.next(outputElement.lastPromiseValue);\n",
              "  return Promise.resolve(next.value.promise).then((value) => {\n",
              "    // Cache the last promise value to make it available to the next\n",
              "    // step of the generator.\n",
              "    outputElement.lastPromiseValue = value;\n",
              "    return next.value.response;\n",
              "  });\n",
              "}\n",
              "\n",
              "/**\n",
              " * Generator function which is called between each async step of the upload\n",
              " * process.\n",
              " * @param {string} inputId Element ID of the input file picker element.\n",
              " * @param {string} outputId Element ID of the output display.\n",
              " * @return {!Iterable<!Object>} Iterable of next steps.\n",
              " */\n",
              "function* uploadFilesStep(inputId, outputId) {\n",
              "  const inputElement = document.getElementById(inputId);\n",
              "  inputElement.disabled = false;\n",
              "\n",
              "  const outputElement = document.getElementById(outputId);\n",
              "  outputElement.innerHTML = '';\n",
              "\n",
              "  const pickedPromise = new Promise((resolve) => {\n",
              "    inputElement.addEventListener('change', (e) => {\n",
              "      resolve(e.target.files);\n",
              "    });\n",
              "  });\n",
              "\n",
              "  const cancel = document.createElement('button');\n",
              "  inputElement.parentElement.appendChild(cancel);\n",
              "  cancel.textContent = 'Cancel upload';\n",
              "  const cancelPromise = new Promise((resolve) => {\n",
              "    cancel.onclick = () => {\n",
              "      resolve(null);\n",
              "    };\n",
              "  });\n",
              "\n",
              "  // Wait for the user to pick the files.\n",
              "  const files = yield {\n",
              "    promise: Promise.race([pickedPromise, cancelPromise]),\n",
              "    response: {\n",
              "      action: 'starting',\n",
              "    }\n",
              "  };\n",
              "\n",
              "  cancel.remove();\n",
              "\n",
              "  // Disable the input element since further picks are not allowed.\n",
              "  inputElement.disabled = true;\n",
              "\n",
              "  if (!files) {\n",
              "    return {\n",
              "      response: {\n",
              "        action: 'complete',\n",
              "      }\n",
              "    };\n",
              "  }\n",
              "\n",
              "  for (const file of files) {\n",
              "    const li = document.createElement('li');\n",
              "    li.append(span(file.name, {fontWeight: 'bold'}));\n",
              "    li.append(span(\n",
              "        `(${file.type || 'n/a'}) - ${file.size} bytes, ` +\n",
              "        `last modified: ${\n",
              "            file.lastModifiedDate ? file.lastModifiedDate.toLocaleDateString() :\n",
              "                                    'n/a'} - `));\n",
              "    const percent = span('0% done');\n",
              "    li.appendChild(percent);\n",
              "\n",
              "    outputElement.appendChild(li);\n",
              "\n",
              "    const fileDataPromise = new Promise((resolve) => {\n",
              "      const reader = new FileReader();\n",
              "      reader.onload = (e) => {\n",
              "        resolve(e.target.result);\n",
              "      };\n",
              "      reader.readAsArrayBuffer(file);\n",
              "    });\n",
              "    // Wait for the data to be ready.\n",
              "    let fileData = yield {\n",
              "      promise: fileDataPromise,\n",
              "      response: {\n",
              "        action: 'continue',\n",
              "      }\n",
              "    };\n",
              "\n",
              "    // Use a chunked sending to avoid message size limits. See b/62115660.\n",
              "    let position = 0;\n",
              "    do {\n",
              "      const length = Math.min(fileData.byteLength - position, MAX_PAYLOAD_SIZE);\n",
              "      const chunk = new Uint8Array(fileData, position, length);\n",
              "      position += length;\n",
              "\n",
              "      const base64 = btoa(String.fromCharCode.apply(null, chunk));\n",
              "      yield {\n",
              "        response: {\n",
              "          action: 'append',\n",
              "          file: file.name,\n",
              "          data: base64,\n",
              "        },\n",
              "      };\n",
              "\n",
              "      let percentDone = fileData.byteLength === 0 ?\n",
              "          100 :\n",
              "          Math.round((position / fileData.byteLength) * 100);\n",
              "      percent.textContent = `${percentDone}% done`;\n",
              "\n",
              "    } while (position < fileData.byteLength);\n",
              "  }\n",
              "\n",
              "  // All done.\n",
              "  yield {\n",
              "    response: {\n",
              "      action: 'complete',\n",
              "    }\n",
              "  };\n",
              "}\n",
              "\n",
              "scope.google = scope.google || {};\n",
              "scope.google.colab = scope.google.colab || {};\n",
              "scope.google.colab._files = {\n",
              "  _uploadFiles,\n",
              "  _uploadFilesContinue,\n",
              "};\n",
              "})(self);\n",
              "</script> "
            ]
          },
          "metadata": {}
        },
        {
          "output_type": "stream",
          "name": "stdout",
          "text": [
            "Saving attendance.csv to attendance.csv\n"
          ]
        }
      ]
    },
    {
      "cell_type": "code",
      "source": [
        "# Load attendance data\n",
        "attendance_df = spark.read.csv(\"attendance.csv\", header=True, inferSchema=True)\n",
        "attendance_df.show()"
      ],
      "metadata": {
        "colab": {
          "base_uri": "https://localhost:8080/"
        },
        "id": "WmhGk6q0tuyR",
        "outputId": "6b744dc4-0d0c-44bb-a1d2-ecbd808d3986"
      },
      "execution_count": 4,
      "outputs": [
        {
          "output_type": "stream",
          "name": "stdout",
          "text": [
            "+-----------+-----+----------+-------------------+-------------------+\n",
            "|employee_id| name|department|           clock_in|          clock_out|\n",
            "+-----------+-----+----------+-------------------+-------------------+\n",
            "|          1| Arun|        HR|2025-07-21 09:00:00|2025-07-21 17:30:00|\n",
            "|          2|Divya|        HR|2025-07-21 10:00:00|2025-07-21 16:30:00|\n",
            "|          3| Ravi|   Finance|2025-07-21 09:15:00|2025-07-21 17:00:00|\n",
            "|          4|Manoj|   Finance|2025-07-21 09:30:00|2025-07-21 17:15:00|\n",
            "|          5|Sneha|   Finance|2025-07-21 09:10:00|2025-07-21 17:00:00|\n",
            "|          6|Kiran|        IT|2025-07-21 09:05:00|2025-07-21 17:20:00|\n",
            "|          7|Priya|        IT|2025-07-21 10:10:00|2025-07-21 16:40:00|\n",
            "|          8| Anil|        IT|2025-07-21 09:20:00|2025-07-21 17:05:00|\n",
            "|          9|Deepa|        IT|2025-07-21 09:40:00|2025-07-21 16:50:00|\n",
            "|         10| Ajay|        HR|2025-07-21 09:00:00|2025-07-21 17:30:00|\n",
            "|          1| Arun|        HR|2025-07-22 09:00:00|2025-07-22 17:30:00|\n",
            "|          2|Divya|        HR|2025-07-22 10:00:00|2025-07-22 16:00:00|\n",
            "|          3| Ravi|   Finance|2025-07-22 09:30:00|2025-07-22 16:30:00|\n",
            "|          4|Manoj|   Finance|2025-07-22 09:25:00|2025-07-22 17:15:00|\n",
            "|          5|Sneha|   Finance|2025-07-22 09:15:00|2025-07-22 16:55:00|\n",
            "|          7|Priya|        IT|2025-07-22 10:00:00|2025-07-22 16:30:00|\n",
            "|          8| Anil|        IT|2025-07-22 09:30:00|2025-07-22 17:00:00|\n",
            "|          9|Deepa|        IT|2025-07-22 09:40:00|2025-07-22 16:40:00|\n",
            "|          1| Arun|        HR|2025-07-23 09:00:00|2025-07-23 17:45:00|\n",
            "|          3| Ravi|   Finance|2025-07-23 09:20:00|2025-07-23 17:00:00|\n",
            "+-----------+-----+----------+-------------------+-------------------+\n",
            "only showing top 20 rows\n",
            "\n"
          ]
        }
      ]
    },
    {
      "cell_type": "code",
      "source": [
        "from pyspark.sql.functions import countDistinct, col, to_date\n",
        "\n",
        "# Extract the date from the clock_in time\n",
        "attendance_df_with_date = attendance_df.withColumn(\"attendance_date\", to_date(\"clock_in\"))\n",
        "\n",
        "# Get all distinct dates\n",
        "all_dates = attendance_df_with_date.select(\"attendance_date\").distinct()\n",
        "\n",
        "# Get all distinct employees\n",
        "all_employees = attendance_df_with_date.select(\"employee_id\", \"name\").distinct()\n",
        "\n",
        "# Cross join employees and dates → all possible employee-date combinations\n",
        "all_combinations = all_employees.crossJoin(all_dates)\n",
        "\n",
        "# Find absent combinations (where employee did NOT attend)\n",
        "absent_combinations = all_combinations.exceptAll(\n",
        "    attendance_df_with_date.select(\"employee_id\", \"name\", \"attendance_date\")\n",
        ")\n",
        "\n",
        "# Count absent days per employee\n",
        "absenteeism_df = absent_combinations.groupBy(\"employee_id\", \"name\") \\\n",
        "                                   .agg(countDistinct(\"attendance_date\").alias(\"absent_days\"))\n",
        "\n",
        "# Get Top 5 Absentees\n",
        "top5_absentees = absenteeism_df.orderBy(col(\"absent_days\").desc()).limit(5)\n",
        "\n",
        "top5_absentees.show()\n"
      ],
      "metadata": {
        "colab": {
          "base_uri": "https://localhost:8080/"
        },
        "id": "mFYLp2Nvtx55",
        "outputId": "91e391a5-b831-47b4-ccc5-0e4042bb39c6"
      },
      "execution_count": 5,
      "outputs": [
        {
          "output_type": "stream",
          "name": "stdout",
          "text": [
            "+-----------+-----+-----------+\n",
            "|employee_id| name|absent_days|\n",
            "+-----------+-----+-----------+\n",
            "|          9|Deepa|          2|\n",
            "|          2|Divya|          2|\n",
            "|          6|Kiran|          2|\n",
            "|         10| Ajay|          2|\n",
            "|          8| Anil|          1|\n",
            "+-----------+-----+-----------+\n",
            "\n"
          ]
        }
      ]
    },
    {
      "cell_type": "code",
      "source": [
        "# Find the top 5 absentees\n",
        "top_absentees_df = absenteeism_df.orderBy(col(\"absent_days\").desc()).limit(5)\n",
        "\n",
        "# Display the top 5 absentees\n",
        "top_absentees_df.show()"
      ],
      "metadata": {
        "colab": {
          "base_uri": "https://localhost:8080/"
        },
        "id": "ZflFTUQlt5zP",
        "outputId": "5aee1131-c47f-44c0-c179-5e89ee8c2166"
      },
      "execution_count": 6,
      "outputs": [
        {
          "output_type": "stream",
          "name": "stdout",
          "text": [
            "+-----------+-----+-----------+\n",
            "|employee_id| name|absent_days|\n",
            "+-----------+-----+-----------+\n",
            "|          9|Deepa|          2|\n",
            "|          2|Divya|          2|\n",
            "|          6|Kiran|          2|\n",
            "|         10| Ajay|          2|\n",
            "|          8| Anil|          1|\n",
            "+-----------+-----+-----------+\n",
            "\n"
          ]
        }
      ]
    },
    {
      "cell_type": "code",
      "source": [
        "from google.colab import files\n",
        "uploaded = files.upload()"
      ],
      "metadata": {
        "colab": {
          "base_uri": "https://localhost:8080/",
          "height": 73
        },
        "id": "bp1hfiu6uHlp",
        "outputId": "d0933e3c-b990-42e5-ee7d-fc9c5a32ec24"
      },
      "execution_count": 8,
      "outputs": [
        {
          "output_type": "display_data",
          "data": {
            "text/plain": [
              "<IPython.core.display.HTML object>"
            ],
            "text/html": [
              "\n",
              "     <input type=\"file\" id=\"files-ac5f19ee-ea50-4d11-9deb-5c07f9a2c74f\" name=\"files[]\" multiple disabled\n",
              "        style=\"border:none\" />\n",
              "     <output id=\"result-ac5f19ee-ea50-4d11-9deb-5c07f9a2c74f\">\n",
              "      Upload widget is only available when the cell has been executed in the\n",
              "      current browser session. Please rerun this cell to enable.\n",
              "      </output>\n",
              "      <script>// Copyright 2017 Google LLC\n",
              "//\n",
              "// Licensed under the Apache License, Version 2.0 (the \"License\");\n",
              "// you may not use this file except in compliance with the License.\n",
              "// You may obtain a copy of the License at\n",
              "//\n",
              "//      http://www.apache.org/licenses/LICENSE-2.0\n",
              "//\n",
              "// Unless required by applicable law or agreed to in writing, software\n",
              "// distributed under the License is distributed on an \"AS IS\" BASIS,\n",
              "// WITHOUT WARRANTIES OR CONDITIONS OF ANY KIND, either express or implied.\n",
              "// See the License for the specific language governing permissions and\n",
              "// limitations under the License.\n",
              "\n",
              "/**\n",
              " * @fileoverview Helpers for google.colab Python module.\n",
              " */\n",
              "(function(scope) {\n",
              "function span(text, styleAttributes = {}) {\n",
              "  const element = document.createElement('span');\n",
              "  element.textContent = text;\n",
              "  for (const key of Object.keys(styleAttributes)) {\n",
              "    element.style[key] = styleAttributes[key];\n",
              "  }\n",
              "  return element;\n",
              "}\n",
              "\n",
              "// Max number of bytes which will be uploaded at a time.\n",
              "const MAX_PAYLOAD_SIZE = 100 * 1024;\n",
              "\n",
              "function _uploadFiles(inputId, outputId) {\n",
              "  const steps = uploadFilesStep(inputId, outputId);\n",
              "  const outputElement = document.getElementById(outputId);\n",
              "  // Cache steps on the outputElement to make it available for the next call\n",
              "  // to uploadFilesContinue from Python.\n",
              "  outputElement.steps = steps;\n",
              "\n",
              "  return _uploadFilesContinue(outputId);\n",
              "}\n",
              "\n",
              "// This is roughly an async generator (not supported in the browser yet),\n",
              "// where there are multiple asynchronous steps and the Python side is going\n",
              "// to poll for completion of each step.\n",
              "// This uses a Promise to block the python side on completion of each step,\n",
              "// then passes the result of the previous step as the input to the next step.\n",
              "function _uploadFilesContinue(outputId) {\n",
              "  const outputElement = document.getElementById(outputId);\n",
              "  const steps = outputElement.steps;\n",
              "\n",
              "  const next = steps.next(outputElement.lastPromiseValue);\n",
              "  return Promise.resolve(next.value.promise).then((value) => {\n",
              "    // Cache the last promise value to make it available to the next\n",
              "    // step of the generator.\n",
              "    outputElement.lastPromiseValue = value;\n",
              "    return next.value.response;\n",
              "  });\n",
              "}\n",
              "\n",
              "/**\n",
              " * Generator function which is called between each async step of the upload\n",
              " * process.\n",
              " * @param {string} inputId Element ID of the input file picker element.\n",
              " * @param {string} outputId Element ID of the output display.\n",
              " * @return {!Iterable<!Object>} Iterable of next steps.\n",
              " */\n",
              "function* uploadFilesStep(inputId, outputId) {\n",
              "  const inputElement = document.getElementById(inputId);\n",
              "  inputElement.disabled = false;\n",
              "\n",
              "  const outputElement = document.getElementById(outputId);\n",
              "  outputElement.innerHTML = '';\n",
              "\n",
              "  const pickedPromise = new Promise((resolve) => {\n",
              "    inputElement.addEventListener('change', (e) => {\n",
              "      resolve(e.target.files);\n",
              "    });\n",
              "  });\n",
              "\n",
              "  const cancel = document.createElement('button');\n",
              "  inputElement.parentElement.appendChild(cancel);\n",
              "  cancel.textContent = 'Cancel upload';\n",
              "  const cancelPromise = new Promise((resolve) => {\n",
              "    cancel.onclick = () => {\n",
              "      resolve(null);\n",
              "    };\n",
              "  });\n",
              "\n",
              "  // Wait for the user to pick the files.\n",
              "  const files = yield {\n",
              "    promise: Promise.race([pickedPromise, cancelPromise]),\n",
              "    response: {\n",
              "      action: 'starting',\n",
              "    }\n",
              "  };\n",
              "\n",
              "  cancel.remove();\n",
              "\n",
              "  // Disable the input element since further picks are not allowed.\n",
              "  inputElement.disabled = true;\n",
              "\n",
              "  if (!files) {\n",
              "    return {\n",
              "      response: {\n",
              "        action: 'complete',\n",
              "      }\n",
              "    };\n",
              "  }\n",
              "\n",
              "  for (const file of files) {\n",
              "    const li = document.createElement('li');\n",
              "    li.append(span(file.name, {fontWeight: 'bold'}));\n",
              "    li.append(span(\n",
              "        `(${file.type || 'n/a'}) - ${file.size} bytes, ` +\n",
              "        `last modified: ${\n",
              "            file.lastModifiedDate ? file.lastModifiedDate.toLocaleDateString() :\n",
              "                                    'n/a'} - `));\n",
              "    const percent = span('0% done');\n",
              "    li.appendChild(percent);\n",
              "\n",
              "    outputElement.appendChild(li);\n",
              "\n",
              "    const fileDataPromise = new Promise((resolve) => {\n",
              "      const reader = new FileReader();\n",
              "      reader.onload = (e) => {\n",
              "        resolve(e.target.result);\n",
              "      };\n",
              "      reader.readAsArrayBuffer(file);\n",
              "    });\n",
              "    // Wait for the data to be ready.\n",
              "    let fileData = yield {\n",
              "      promise: fileDataPromise,\n",
              "      response: {\n",
              "        action: 'continue',\n",
              "      }\n",
              "    };\n",
              "\n",
              "    // Use a chunked sending to avoid message size limits. See b/62115660.\n",
              "    let position = 0;\n",
              "    do {\n",
              "      const length = Math.min(fileData.byteLength - position, MAX_PAYLOAD_SIZE);\n",
              "      const chunk = new Uint8Array(fileData, position, length);\n",
              "      position += length;\n",
              "\n",
              "      const base64 = btoa(String.fromCharCode.apply(null, chunk));\n",
              "      yield {\n",
              "        response: {\n",
              "          action: 'append',\n",
              "          file: file.name,\n",
              "          data: base64,\n",
              "        },\n",
              "      };\n",
              "\n",
              "      let percentDone = fileData.byteLength === 0 ?\n",
              "          100 :\n",
              "          Math.round((position / fileData.byteLength) * 100);\n",
              "      percent.textContent = `${percentDone}% done`;\n",
              "\n",
              "    } while (position < fileData.byteLength);\n",
              "  }\n",
              "\n",
              "  // All done.\n",
              "  yield {\n",
              "    response: {\n",
              "      action: 'complete',\n",
              "    }\n",
              "  };\n",
              "}\n",
              "\n",
              "scope.google = scope.google || {};\n",
              "scope.google.colab = scope.google.colab || {};\n",
              "scope.google.colab._files = {\n",
              "  _uploadFiles,\n",
              "  _uploadFilesContinue,\n",
              "};\n",
              "})(self);\n",
              "</script> "
            ]
          },
          "metadata": {}
        },
        {
          "output_type": "stream",
          "name": "stdout",
          "text": [
            "Saving tasks.csv to tasks.csv\n"
          ]
        }
      ]
    },
    {
      "cell_type": "code",
      "source": [
        "tasks_df = spark.read.csv(\"tasks.csv\", header=True, inferSchema=True)\n",
        "tasks_df.show()"
      ],
      "metadata": {
        "colab": {
          "base_uri": "https://localhost:8080/"
        },
        "id": "163I2wRXuK3O",
        "outputId": "6ef5b865-3574-4609-c596-019bc982af66"
      },
      "execution_count": 10,
      "outputs": [
        {
          "output_type": "stream",
          "name": "stdout",
          "text": [
            "+-----------+-----+----------+--------------------+----------+---------+\n",
            "|employee_id| name|department|    task_description| task_date|   status|\n",
            "+-----------+-----+----------+--------------------+----------+---------+\n",
            "|          1| Arun|        HR|Updated HR documents|2025-07-21|Completed|\n",
            "|          2|Divya|        HR|Handled recruitme...|2025-07-21|Completed|\n",
            "|          3| Ravi|   Finance|Resolved employee...|2025-07-21|Completed|\n",
            "|          4|Manoj|   Finance|Prepared monthly ...|2025-07-21|Completed|\n",
            "|          5|Sneha|   Finance|Finalized salary ...|2025-07-21|  Pending|\n",
            "|          6|Kiran|        IT|Audited leave rec...|2025-07-21|Completed|\n",
            "|          7|Priya|        IT|Conducted onboard...|2025-07-21|Completed|\n",
            "|          8| Anil|        IT|Reviewed payroll ...|2025-07-21|Completed|\n",
            "|          9|Deepa|        IT|Prepared complian...|2025-07-21|  Pending|\n",
            "|         10| Ajay|        HR|Verified expense ...|2025-07-21|Completed|\n",
            "|          1| Arun|        HR|    Updated policies|2025-07-22|Completed|\n",
            "|          2|Divya|        HR| Screened applicants|2025-07-22|Completed|\n",
            "|          3| Ravi|   Finance|   Daily report sent|2025-07-22|Completed|\n",
            "|          4|Manoj|   Finance|Prepared training...|2025-07-22|Completed|\n",
            "|          5|Sneha|   Finance|Followed up with ...|2025-07-22|  Pending|\n",
            "|          6|Kiran|        IT|Audited leave rec...|2025-07-22|Completed|\n",
            "|          7|Priya|        IT|Employee orientation|2025-07-22|Completed|\n",
            "|          8| Anil|        IT|Checked payroll d...|2025-07-22|Completed|\n",
            "|          9|Deepa|        IT|Employee feedback...|2025-07-22|Completed|\n",
            "|         10| Ajay|        HR|Finalized employe...|2025-07-22|Completed|\n",
            "+-----------+-----+----------+--------------------+----------+---------+\n",
            "only showing top 20 rows\n",
            "\n"
          ]
        }
      ]
    },
    {
      "cell_type": "code",
      "source": [
        "from pyspark.sql.functions import col, avg, when, count\n",
        "\n",
        "# Calculate productivity = tasks_completed / work_hours\n",
        "tasks_completed = tasks_df.filter(col(\"status\")==\"Completed\") \\\n",
        "                          .groupBy(\"employee_id\") \\\n",
        "                          .count() \\\n",
        "                          .withColumnRenamed(\"count\", \"tasks_completed\")\n",
        "\n",
        "attendance_df = attendance_df.withColumn(\"work_hours\",\n",
        "    (col(\"clock_out\").cast(\"long\") - col(\"clock_in\").cast(\"long\"))/3600)\n",
        "\n",
        "# Join attendance + tasks + department info\n",
        "final_df = attendance_df.join(tasks_completed, \"employee_id\", \"left\") \\\n",
        "                        .withColumn(\"tasks_completed\", when(col(\"tasks_completed\").isNull(), 0)\n",
        "                        .otherwise(col(\"tasks_completed\")))\n",
        "\n",
        "# Calculate productivity for each employee\n",
        "final_df = final_df.withColumn(\"productivity\",\n",
        "                               when(col(\"work_hours\") > 0, col(\"tasks_completed\")/col(\"work_hours\"))\n",
        "                               .otherwise(0))\n",
        "\n",
        "# Aggregate department-wise\n",
        "dept_summary = final_df.groupBy(\"department\").agg(\n",
        "    avg(\"productivity\").alias(\"avg_productivity\"),\n",
        "    avg(\"work_hours\").alias(\"avg_work_hours\")\n",
        ")\n",
        "\n",
        "# Sort by lowest productivity\n",
        "lowest_departments = dept_summary.orderBy(col(\"avg_productivity\").asc())\n",
        "\n",
        "lowest_departments.show()\n"
      ],
      "metadata": {
        "colab": {
          "base_uri": "https://localhost:8080/"
        },
        "id": "S5Uh2OPBt9jr",
        "outputId": "77e6b0b3-8427-405f-b404-9a4b3689d771"
      },
      "execution_count": 11,
      "outputs": [
        {
          "output_type": "stream",
          "name": "stdout",
          "text": [
            "+----------+------------------+-----------------+\n",
            "|department|  avg_productivity|   avg_work_hours|\n",
            "+----------+------------------+-----------------+\n",
            "|        HR|0.6377135469572445|7.904761904761904|\n",
            "|   Finance|0.6939461533361988|7.656862745098039|\n",
            "|        IT|0.7293856243727982|7.337962962962964|\n",
            "+----------+------------------+-----------------+\n",
            "\n"
          ]
        }
      ]
    },
    {
      "cell_type": "code",
      "source": [
        "top5_absentees.coalesce(1) \\\n",
        "    .write.mode(\"overwrite\").option(\"header\", True) \\\n",
        "    .csv(\"/content/top5_absentees\")\n",
        "lowest_departments.coalesce(1) \\\n",
        "    .write.mode(\"overwrite\").option(\"header\", True) \\\n",
        "    .csv(\"/content/lowest_departments\")\n",
        "\n",
        "# Rename CSV files for easier downloading\n",
        "\n",
        "import shutil, glob\n",
        "abs_file = glob.glob(\"/content/top5_absentees/part-*.csv\")[0]\n",
        "shutil.move(abs_file, \"/content/top5_absentees.csv\")\n",
        "\n",
        "low_file = glob.glob(\"/content/lowest_departments/part-*.csv\")[0]\n",
        "shutil.move(low_file, \"/content/lowest_departments.csv\")\n",
        "\n",
        "# STEP 8: Download Final Reports\n",
        "\n",
        "from google.colab import files\n",
        "files.download(\"/content/top5_absentees.csv\")\n",
        "files.download(\"/content/lowest_departments.csv\")"
      ],
      "metadata": {
        "colab": {
          "base_uri": "https://localhost:8080/",
          "height": 17
        },
        "id": "L5ekVWZqucf5",
        "outputId": "16a95a3f-3d36-482b-bcde-16475652cebb"
      },
      "execution_count": 12,
      "outputs": [
        {
          "output_type": "display_data",
          "data": {
            "text/plain": [
              "<IPython.core.display.Javascript object>"
            ],
            "application/javascript": [
              "\n",
              "    async function download(id, filename, size) {\n",
              "      if (!google.colab.kernel.accessAllowed) {\n",
              "        return;\n",
              "      }\n",
              "      const div = document.createElement('div');\n",
              "      const label = document.createElement('label');\n",
              "      label.textContent = `Downloading \"${filename}\": `;\n",
              "      div.appendChild(label);\n",
              "      const progress = document.createElement('progress');\n",
              "      progress.max = size;\n",
              "      div.appendChild(progress);\n",
              "      document.body.appendChild(div);\n",
              "\n",
              "      const buffers = [];\n",
              "      let downloaded = 0;\n",
              "\n",
              "      const channel = await google.colab.kernel.comms.open(id);\n",
              "      // Send a message to notify the kernel that we're ready.\n",
              "      channel.send({})\n",
              "\n",
              "      for await (const message of channel.messages) {\n",
              "        // Send a message to notify the kernel that we're ready.\n",
              "        channel.send({})\n",
              "        if (message.buffers) {\n",
              "          for (const buffer of message.buffers) {\n",
              "            buffers.push(buffer);\n",
              "            downloaded += buffer.byteLength;\n",
              "            progress.value = downloaded;\n",
              "          }\n",
              "        }\n",
              "      }\n",
              "      const blob = new Blob(buffers, {type: 'application/binary'});\n",
              "      const a = document.createElement('a');\n",
              "      a.href = window.URL.createObjectURL(blob);\n",
              "      a.download = filename;\n",
              "      div.appendChild(a);\n",
              "      a.click();\n",
              "      div.remove();\n",
              "    }\n",
              "  "
            ]
          },
          "metadata": {}
        },
        {
          "output_type": "display_data",
          "data": {
            "text/plain": [
              "<IPython.core.display.Javascript object>"
            ],
            "application/javascript": [
              "download(\"download_77774ea9-c40a-4244-aa39-a7f6d8f5cb7a\", \"top5_absentees.csv\", 78)"
            ]
          },
          "metadata": {}
        },
        {
          "output_type": "display_data",
          "data": {
            "text/plain": [
              "<IPython.core.display.Javascript object>"
            ],
            "application/javascript": [
              "\n",
              "    async function download(id, filename, size) {\n",
              "      if (!google.colab.kernel.accessAllowed) {\n",
              "        return;\n",
              "      }\n",
              "      const div = document.createElement('div');\n",
              "      const label = document.createElement('label');\n",
              "      label.textContent = `Downloading \"${filename}\": `;\n",
              "      div.appendChild(label);\n",
              "      const progress = document.createElement('progress');\n",
              "      progress.max = size;\n",
              "      div.appendChild(progress);\n",
              "      document.body.appendChild(div);\n",
              "\n",
              "      const buffers = [];\n",
              "      let downloaded = 0;\n",
              "\n",
              "      const channel = await google.colab.kernel.comms.open(id);\n",
              "      // Send a message to notify the kernel that we're ready.\n",
              "      channel.send({})\n",
              "\n",
              "      for await (const message of channel.messages) {\n",
              "        // Send a message to notify the kernel that we're ready.\n",
              "        channel.send({})\n",
              "        if (message.buffers) {\n",
              "          for (const buffer of message.buffers) {\n",
              "            buffers.push(buffer);\n",
              "            downloaded += buffer.byteLength;\n",
              "            progress.value = downloaded;\n",
              "          }\n",
              "        }\n",
              "      }\n",
              "      const blob = new Blob(buffers, {type: 'application/binary'});\n",
              "      const a = document.createElement('a');\n",
              "      a.href = window.URL.createObjectURL(blob);\n",
              "      a.download = filename;\n",
              "      div.appendChild(a);\n",
              "      a.click();\n",
              "      div.remove();\n",
              "    }\n",
              "  "
            ]
          },
          "metadata": {}
        },
        {
          "output_type": "display_data",
          "data": {
            "text/plain": [
              "<IPython.core.display.Javascript object>"
            ],
            "application/javascript": [
              "download(\"download_17711414-bd1b-4f3e-80b1-8a4aa4db78cf\", \"lowest_departments.csv\", 168)"
            ]
          },
          "metadata": {}
        }
      ]
    }
  ]
}