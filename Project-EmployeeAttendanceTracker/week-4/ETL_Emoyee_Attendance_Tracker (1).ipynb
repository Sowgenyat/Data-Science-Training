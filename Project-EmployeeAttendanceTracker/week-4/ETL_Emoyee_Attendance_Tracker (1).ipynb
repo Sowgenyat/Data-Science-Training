{
  "nbformat": 4,
  "nbformat_minor": 0,
  "metadata": {
    "colab": {
      "provenance": []
    },
    "kernelspec": {
      "name": "python3",
      "display_name": "Python 3"
    },
    "language_info": {
      "name": "python"
    }
  },
  "cells": [
    {
      "cell_type": "markdown",
      "source": [
        "#Week-4"
      ],
      "metadata": {
        "id": "2v7KlsDV0r5z"
      }
    },
    {
      "cell_type": "code",
      "execution_count": 1,
      "metadata": {
        "colab": {
          "base_uri": "https://localhost:8080/"
        },
        "id": "kM29xXiK0kjI",
        "outputId": "af314f24-2347-4840-9822-3df61ca78fca"
      },
      "outputs": [
        {
          "output_type": "stream",
          "name": "stdout",
          "text": [
            "Requirement already satisfied: pyspark in /usr/local/lib/python3.12/dist-packages (3.5.1)\n",
            "Requirement already satisfied: py4j==0.10.9.7 in /usr/local/lib/python3.12/dist-packages (from pyspark) (0.10.9.7)\n"
          ]
        }
      ],
      "source": [
        "!pip install pyspark\n",
        "from pyspark.sql import SparkSession\n",
        "from pyspark.sql.functions import col, when, avg, count, round, to_timestamp\n",
        "spark = SparkSession.builder.appName(\"Week4_ETL\").getOrCreate()\n"
      ]
    },
    {
      "cell_type": "code",
      "source": [
        "from google.colab import files\n",
        "uploaded = files.upload()\n"
      ],
      "metadata": {
        "colab": {
          "base_uri": "https://localhost:8080/",
          "height": 73
        },
        "id": "gdh0vo601f8X",
        "outputId": "2c853506-bd0c-4e98-80e0-b44ac0ae9449"
      },
      "execution_count": 2,
      "outputs": [
        {
          "output_type": "display_data",
          "data": {
            "text/plain": [
              "<IPython.core.display.HTML object>"
            ],
            "text/html": [
              "\n",
              "     <input type=\"file\" id=\"files-ba21250d-2d80-4337-a77a-a572718d8567\" name=\"files[]\" multiple disabled\n",
              "        style=\"border:none\" />\n",
              "     <output id=\"result-ba21250d-2d80-4337-a77a-a572718d8567\">\n",
              "      Upload widget is only available when the cell has been executed in the\n",
              "      current browser session. Please rerun this cell to enable.\n",
              "      </output>\n",
              "      <script>// Copyright 2017 Google LLC\n",
              "//\n",
              "// Licensed under the Apache License, Version 2.0 (the \"License\");\n",
              "// you may not use this file except in compliance with the License.\n",
              "// You may obtain a copy of the License at\n",
              "//\n",
              "//      http://www.apache.org/licenses/LICENSE-2.0\n",
              "//\n",
              "// Unless required by applicable law or agreed to in writing, software\n",
              "// distributed under the License is distributed on an \"AS IS\" BASIS,\n",
              "// WITHOUT WARRANTIES OR CONDITIONS OF ANY KIND, either express or implied.\n",
              "// See the License for the specific language governing permissions and\n",
              "// limitations under the License.\n",
              "\n",
              "/**\n",
              " * @fileoverview Helpers for google.colab Python module.\n",
              " */\n",
              "(function(scope) {\n",
              "function span(text, styleAttributes = {}) {\n",
              "  const element = document.createElement('span');\n",
              "  element.textContent = text;\n",
              "  for (const key of Object.keys(styleAttributes)) {\n",
              "    element.style[key] = styleAttributes[key];\n",
              "  }\n",
              "  return element;\n",
              "}\n",
              "\n",
              "// Max number of bytes which will be uploaded at a time.\n",
              "const MAX_PAYLOAD_SIZE = 100 * 1024;\n",
              "\n",
              "function _uploadFiles(inputId, outputId) {\n",
              "  const steps = uploadFilesStep(inputId, outputId);\n",
              "  const outputElement = document.getElementById(outputId);\n",
              "  // Cache steps on the outputElement to make it available for the next call\n",
              "  // to uploadFilesContinue from Python.\n",
              "  outputElement.steps = steps;\n",
              "\n",
              "  return _uploadFilesContinue(outputId);\n",
              "}\n",
              "\n",
              "// This is roughly an async generator (not supported in the browser yet),\n",
              "// where there are multiple asynchronous steps and the Python side is going\n",
              "// to poll for completion of each step.\n",
              "// This uses a Promise to block the python side on completion of each step,\n",
              "// then passes the result of the previous step as the input to the next step.\n",
              "function _uploadFilesContinue(outputId) {\n",
              "  const outputElement = document.getElementById(outputId);\n",
              "  const steps = outputElement.steps;\n",
              "\n",
              "  const next = steps.next(outputElement.lastPromiseValue);\n",
              "  return Promise.resolve(next.value.promise).then((value) => {\n",
              "    // Cache the last promise value to make it available to the next\n",
              "    // step of the generator.\n",
              "    outputElement.lastPromiseValue = value;\n",
              "    return next.value.response;\n",
              "  });\n",
              "}\n",
              "\n",
              "/**\n",
              " * Generator function which is called between each async step of the upload\n",
              " * process.\n",
              " * @param {string} inputId Element ID of the input file picker element.\n",
              " * @param {string} outputId Element ID of the output display.\n",
              " * @return {!Iterable<!Object>} Iterable of next steps.\n",
              " */\n",
              "function* uploadFilesStep(inputId, outputId) {\n",
              "  const inputElement = document.getElementById(inputId);\n",
              "  inputElement.disabled = false;\n",
              "\n",
              "  const outputElement = document.getElementById(outputId);\n",
              "  outputElement.innerHTML = '';\n",
              "\n",
              "  const pickedPromise = new Promise((resolve) => {\n",
              "    inputElement.addEventListener('change', (e) => {\n",
              "      resolve(e.target.files);\n",
              "    });\n",
              "  });\n",
              "\n",
              "  const cancel = document.createElement('button');\n",
              "  inputElement.parentElement.appendChild(cancel);\n",
              "  cancel.textContent = 'Cancel upload';\n",
              "  const cancelPromise = new Promise((resolve) => {\n",
              "    cancel.onclick = () => {\n",
              "      resolve(null);\n",
              "    };\n",
              "  });\n",
              "\n",
              "  // Wait for the user to pick the files.\n",
              "  const files = yield {\n",
              "    promise: Promise.race([pickedPromise, cancelPromise]),\n",
              "    response: {\n",
              "      action: 'starting',\n",
              "    }\n",
              "  };\n",
              "\n",
              "  cancel.remove();\n",
              "\n",
              "  // Disable the input element since further picks are not allowed.\n",
              "  inputElement.disabled = true;\n",
              "\n",
              "  if (!files) {\n",
              "    return {\n",
              "      response: {\n",
              "        action: 'complete',\n",
              "      }\n",
              "    };\n",
              "  }\n",
              "\n",
              "  for (const file of files) {\n",
              "    const li = document.createElement('li');\n",
              "    li.append(span(file.name, {fontWeight: 'bold'}));\n",
              "    li.append(span(\n",
              "        `(${file.type || 'n/a'}) - ${file.size} bytes, ` +\n",
              "        `last modified: ${\n",
              "            file.lastModifiedDate ? file.lastModifiedDate.toLocaleDateString() :\n",
              "                                    'n/a'} - `));\n",
              "    const percent = span('0% done');\n",
              "    li.appendChild(percent);\n",
              "\n",
              "    outputElement.appendChild(li);\n",
              "\n",
              "    const fileDataPromise = new Promise((resolve) => {\n",
              "      const reader = new FileReader();\n",
              "      reader.onload = (e) => {\n",
              "        resolve(e.target.result);\n",
              "      };\n",
              "      reader.readAsArrayBuffer(file);\n",
              "    });\n",
              "    // Wait for the data to be ready.\n",
              "    let fileData = yield {\n",
              "      promise: fileDataPromise,\n",
              "      response: {\n",
              "        action: 'continue',\n",
              "      }\n",
              "    };\n",
              "\n",
              "    // Use a chunked sending to avoid message size limits. See b/62115660.\n",
              "    let position = 0;\n",
              "    do {\n",
              "      const length = Math.min(fileData.byteLength - position, MAX_PAYLOAD_SIZE);\n",
              "      const chunk = new Uint8Array(fileData, position, length);\n",
              "      position += length;\n",
              "\n",
              "      const base64 = btoa(String.fromCharCode.apply(null, chunk));\n",
              "      yield {\n",
              "        response: {\n",
              "          action: 'append',\n",
              "          file: file.name,\n",
              "          data: base64,\n",
              "        },\n",
              "      };\n",
              "\n",
              "      let percentDone = fileData.byteLength === 0 ?\n",
              "          100 :\n",
              "          Math.round((position / fileData.byteLength) * 100);\n",
              "      percent.textContent = `${percentDone}% done`;\n",
              "\n",
              "    } while (position < fileData.byteLength);\n",
              "  }\n",
              "\n",
              "  // All done.\n",
              "  yield {\n",
              "    response: {\n",
              "      action: 'complete',\n",
              "    }\n",
              "  };\n",
              "}\n",
              "\n",
              "scope.google = scope.google || {};\n",
              "scope.google.colab = scope.google.colab || {};\n",
              "scope.google.colab._files = {\n",
              "  _uploadFiles,\n",
              "  _uploadFilesContinue,\n",
              "};\n",
              "})(self);\n",
              "</script> "
            ]
          },
          "metadata": {}
        },
        {
          "output_type": "stream",
          "name": "stdout",
          "text": [
            "Saving attendance.csv to attendance.csv\n"
          ]
        }
      ]
    },
    {
      "cell_type": "code",
      "source": [
        "from google.colab import files\n",
        "uploaded = files.upload()\n"
      ],
      "metadata": {
        "colab": {
          "base_uri": "https://localhost:8080/",
          "height": 73
        },
        "id": "Ty45elNJ10hi",
        "outputId": "a52cdfb7-4262-42be-a7a2-a00f85a73feb"
      },
      "execution_count": 3,
      "outputs": [
        {
          "output_type": "display_data",
          "data": {
            "text/plain": [
              "<IPython.core.display.HTML object>"
            ],
            "text/html": [
              "\n",
              "     <input type=\"file\" id=\"files-78351892-0f3b-4397-985e-cb8f11f6f917\" name=\"files[]\" multiple disabled\n",
              "        style=\"border:none\" />\n",
              "     <output id=\"result-78351892-0f3b-4397-985e-cb8f11f6f917\">\n",
              "      Upload widget is only available when the cell has been executed in the\n",
              "      current browser session. Please rerun this cell to enable.\n",
              "      </output>\n",
              "      <script>// Copyright 2017 Google LLC\n",
              "//\n",
              "// Licensed under the Apache License, Version 2.0 (the \"License\");\n",
              "// you may not use this file except in compliance with the License.\n",
              "// You may obtain a copy of the License at\n",
              "//\n",
              "//      http://www.apache.org/licenses/LICENSE-2.0\n",
              "//\n",
              "// Unless required by applicable law or agreed to in writing, software\n",
              "// distributed under the License is distributed on an \"AS IS\" BASIS,\n",
              "// WITHOUT WARRANTIES OR CONDITIONS OF ANY KIND, either express or implied.\n",
              "// See the License for the specific language governing permissions and\n",
              "// limitations under the License.\n",
              "\n",
              "/**\n",
              " * @fileoverview Helpers for google.colab Python module.\n",
              " */\n",
              "(function(scope) {\n",
              "function span(text, styleAttributes = {}) {\n",
              "  const element = document.createElement('span');\n",
              "  element.textContent = text;\n",
              "  for (const key of Object.keys(styleAttributes)) {\n",
              "    element.style[key] = styleAttributes[key];\n",
              "  }\n",
              "  return element;\n",
              "}\n",
              "\n",
              "// Max number of bytes which will be uploaded at a time.\n",
              "const MAX_PAYLOAD_SIZE = 100 * 1024;\n",
              "\n",
              "function _uploadFiles(inputId, outputId) {\n",
              "  const steps = uploadFilesStep(inputId, outputId);\n",
              "  const outputElement = document.getElementById(outputId);\n",
              "  // Cache steps on the outputElement to make it available for the next call\n",
              "  // to uploadFilesContinue from Python.\n",
              "  outputElement.steps = steps;\n",
              "\n",
              "  return _uploadFilesContinue(outputId);\n",
              "}\n",
              "\n",
              "// This is roughly an async generator (not supported in the browser yet),\n",
              "// where there are multiple asynchronous steps and the Python side is going\n",
              "// to poll for completion of each step.\n",
              "// This uses a Promise to block the python side on completion of each step,\n",
              "// then passes the result of the previous step as the input to the next step.\n",
              "function _uploadFilesContinue(outputId) {\n",
              "  const outputElement = document.getElementById(outputId);\n",
              "  const steps = outputElement.steps;\n",
              "\n",
              "  const next = steps.next(outputElement.lastPromiseValue);\n",
              "  return Promise.resolve(next.value.promise).then((value) => {\n",
              "    // Cache the last promise value to make it available to the next\n",
              "    // step of the generator.\n",
              "    outputElement.lastPromiseValue = value;\n",
              "    return next.value.response;\n",
              "  });\n",
              "}\n",
              "\n",
              "/**\n",
              " * Generator function which is called between each async step of the upload\n",
              " * process.\n",
              " * @param {string} inputId Element ID of the input file picker element.\n",
              " * @param {string} outputId Element ID of the output display.\n",
              " * @return {!Iterable<!Object>} Iterable of next steps.\n",
              " */\n",
              "function* uploadFilesStep(inputId, outputId) {\n",
              "  const inputElement = document.getElementById(inputId);\n",
              "  inputElement.disabled = false;\n",
              "\n",
              "  const outputElement = document.getElementById(outputId);\n",
              "  outputElement.innerHTML = '';\n",
              "\n",
              "  const pickedPromise = new Promise((resolve) => {\n",
              "    inputElement.addEventListener('change', (e) => {\n",
              "      resolve(e.target.files);\n",
              "    });\n",
              "  });\n",
              "\n",
              "  const cancel = document.createElement('button');\n",
              "  inputElement.parentElement.appendChild(cancel);\n",
              "  cancel.textContent = 'Cancel upload';\n",
              "  const cancelPromise = new Promise((resolve) => {\n",
              "    cancel.onclick = () => {\n",
              "      resolve(null);\n",
              "    };\n",
              "  });\n",
              "\n",
              "  // Wait for the user to pick the files.\n",
              "  const files = yield {\n",
              "    promise: Promise.race([pickedPromise, cancelPromise]),\n",
              "    response: {\n",
              "      action: 'starting',\n",
              "    }\n",
              "  };\n",
              "\n",
              "  cancel.remove();\n",
              "\n",
              "  // Disable the input element since further picks are not allowed.\n",
              "  inputElement.disabled = true;\n",
              "\n",
              "  if (!files) {\n",
              "    return {\n",
              "      response: {\n",
              "        action: 'complete',\n",
              "      }\n",
              "    };\n",
              "  }\n",
              "\n",
              "  for (const file of files) {\n",
              "    const li = document.createElement('li');\n",
              "    li.append(span(file.name, {fontWeight: 'bold'}));\n",
              "    li.append(span(\n",
              "        `(${file.type || 'n/a'}) - ${file.size} bytes, ` +\n",
              "        `last modified: ${\n",
              "            file.lastModifiedDate ? file.lastModifiedDate.toLocaleDateString() :\n",
              "                                    'n/a'} - `));\n",
              "    const percent = span('0% done');\n",
              "    li.appendChild(percent);\n",
              "\n",
              "    outputElement.appendChild(li);\n",
              "\n",
              "    const fileDataPromise = new Promise((resolve) => {\n",
              "      const reader = new FileReader();\n",
              "      reader.onload = (e) => {\n",
              "        resolve(e.target.result);\n",
              "      };\n",
              "      reader.readAsArrayBuffer(file);\n",
              "    });\n",
              "    // Wait for the data to be ready.\n",
              "    let fileData = yield {\n",
              "      promise: fileDataPromise,\n",
              "      response: {\n",
              "        action: 'continue',\n",
              "      }\n",
              "    };\n",
              "\n",
              "    // Use a chunked sending to avoid message size limits. See b/62115660.\n",
              "    let position = 0;\n",
              "    do {\n",
              "      const length = Math.min(fileData.byteLength - position, MAX_PAYLOAD_SIZE);\n",
              "      const chunk = new Uint8Array(fileData, position, length);\n",
              "      position += length;\n",
              "\n",
              "      const base64 = btoa(String.fromCharCode.apply(null, chunk));\n",
              "      yield {\n",
              "        response: {\n",
              "          action: 'append',\n",
              "          file: file.name,\n",
              "          data: base64,\n",
              "        },\n",
              "      };\n",
              "\n",
              "      let percentDone = fileData.byteLength === 0 ?\n",
              "          100 :\n",
              "          Math.round((position / fileData.byteLength) * 100);\n",
              "      percent.textContent = `${percentDone}% done`;\n",
              "\n",
              "    } while (position < fileData.byteLength);\n",
              "  }\n",
              "\n",
              "  // All done.\n",
              "  yield {\n",
              "    response: {\n",
              "      action: 'complete',\n",
              "    }\n",
              "  };\n",
              "}\n",
              "\n",
              "scope.google = scope.google || {};\n",
              "scope.google.colab = scope.google.colab || {};\n",
              "scope.google.colab._files = {\n",
              "  _uploadFiles,\n",
              "  _uploadFilesContinue,\n",
              "};\n",
              "})(self);\n",
              "</script> "
            ]
          },
          "metadata": {}
        },
        {
          "output_type": "stream",
          "name": "stdout",
          "text": [
            "Saving tasks.csv to tasks.csv\n"
          ]
        }
      ]
    },
    {
      "cell_type": "code",
      "source": [
        "attendance_df = spark.read.csv(\"attendance.csv\", header=True, inferSchema=True)\n",
        "tasks_df = spark.read.csv(\"tasks.csv\", header=True, inferSchema=True)\n",
        "\n",
        "attendance_df.show()\n",
        "tasks_df.show()\n"
      ],
      "metadata": {
        "colab": {
          "base_uri": "https://localhost:8080/"
        },
        "id": "iExAVnhS2qbv",
        "outputId": "e1a0539d-6d29-433f-aeda-675f909da3bc"
      },
      "execution_count": 4,
      "outputs": [
        {
          "output_type": "stream",
          "name": "stdout",
          "text": [
            "+-----------+-----+----------+-------------------+-------------------+\n",
            "|employee_id| name|department|           clock_in|          clock_out|\n",
            "+-----------+-----+----------+-------------------+-------------------+\n",
            "|          1| Arun|        HR|2025-07-21 09:00:00|2025-07-21 17:30:00|\n",
            "|          2|Divya|        HR|2025-07-21 10:00:00|2025-07-21 16:30:00|\n",
            "|          3| Ravi|   Finance|2025-07-21 09:15:00|2025-07-21 17:00:00|\n",
            "|          4|Manoj|   Finance|2025-07-21 09:30:00|2025-07-21 17:15:00|\n",
            "|          5|Sneha|   Finance|2025-07-21 09:10:00|2025-07-21 17:00:00|\n",
            "|          6|Kiran|        IT|2025-07-21 09:05:00|2025-07-21 17:20:00|\n",
            "|          7|Priya|        IT|2025-07-21 10:10:00|2025-07-21 16:40:00|\n",
            "|          8| Anil|        IT|2025-07-21 09:20:00|2025-07-21 17:05:00|\n",
            "|          9|Deepa|        IT|2025-07-21 09:40:00|2025-07-21 16:50:00|\n",
            "|         10| Ajay|        HR|2025-07-21 09:00:00|2025-07-21 17:30:00|\n",
            "|          1| Arun|        HR|2025-07-22 09:00:00|2025-07-22 17:30:00|\n",
            "|          2|Divya|        HR|2025-07-22 10:00:00|2025-07-22 16:00:00|\n",
            "|          3| Ravi|   Finance|2025-07-22 09:30:00|2025-07-22 16:30:00|\n",
            "|          4|Manoj|   Finance|2025-07-22 09:25:00|2025-07-22 17:15:00|\n",
            "|          5|Sneha|   Finance|2025-07-22 09:15:00|2025-07-22 16:55:00|\n",
            "|          7|Priya|        IT|2025-07-22 10:00:00|2025-07-22 16:30:00|\n",
            "|          8| Anil|        IT|2025-07-22 09:30:00|2025-07-22 17:00:00|\n",
            "|          9|Deepa|        IT|2025-07-22 09:40:00|2025-07-22 16:40:00|\n",
            "|          1| Arun|        HR|2025-07-23 09:00:00|2025-07-23 17:45:00|\n",
            "|          3| Ravi|   Finance|2025-07-23 09:20:00|2025-07-23 17:00:00|\n",
            "+-----------+-----+----------+-------------------+-------------------+\n",
            "only showing top 20 rows\n",
            "\n",
            "+-----------+-----+----------+--------------------+----------+---------+\n",
            "|employee_id| name|department|    task_description| task_date|   status|\n",
            "+-----------+-----+----------+--------------------+----------+---------+\n",
            "|          1| Arun|        HR|Updated HR documents|2025-07-21|Completed|\n",
            "|          2|Divya|        HR|Handled recruitme...|2025-07-21|Completed|\n",
            "|          3| Ravi|   Finance|Resolved employee...|2025-07-21|Completed|\n",
            "|          4|Manoj|   Finance|Prepared monthly ...|2025-07-21|Completed|\n",
            "|          5|Sneha|   Finance|Finalized salary ...|2025-07-21|  Pending|\n",
            "|          6|Kiran|        IT|Audited leave rec...|2025-07-21|Completed|\n",
            "|          7|Priya|        IT|Conducted onboard...|2025-07-21|Completed|\n",
            "|          8| Anil|        IT|Reviewed payroll ...|2025-07-21|Completed|\n",
            "|          9|Deepa|        IT|Prepared complian...|2025-07-21|  Pending|\n",
            "|         10| Ajay|        HR|Verified expense ...|2025-07-21|Completed|\n",
            "|          1| Arun|        HR|    Updated policies|2025-07-22|Completed|\n",
            "|          2|Divya|        HR| Screened applicants|2025-07-22|Completed|\n",
            "|          3| Ravi|   Finance|   Daily report sent|2025-07-22|Completed|\n",
            "|          4|Manoj|   Finance|Prepared training...|2025-07-22|Completed|\n",
            "|          5|Sneha|   Finance|Followed up with ...|2025-07-22|  Pending|\n",
            "|          6|Kiran|        IT|Audited leave rec...|2025-07-22|Completed|\n",
            "|          7|Priya|        IT|Employee orientation|2025-07-22|Completed|\n",
            "|          8| Anil|        IT|Checked payroll d...|2025-07-22|Completed|\n",
            "|          9|Deepa|        IT|Employee feedback...|2025-07-22|Completed|\n",
            "|         10| Ajay|        HR|Finalized employe...|2025-07-22|Completed|\n",
            "+-----------+-----+----------+--------------------+----------+---------+\n",
            "only showing top 20 rows\n",
            "\n"
          ]
        }
      ]
    },
    {
      "cell_type": "code",
      "source": [
        "attendance_df = attendance_df.withColumn(\"clock_in\", to_timestamp(\"clock_in\")) \\\n",
        "                             .withColumn(\"clock_out\", to_timestamp(\"clock_out\"))\n",
        "\n",
        "attendance_df = attendance_df.withColumn(\n",
        "    \"work_hours\",\n",
        "    (col(\"clock_out\").cast(\"long\") - col(\"clock_in\").cast(\"long\"))/3600\n",
        ")\n",
        "\n",
        "attendance_df = attendance_df.withColumn(\n",
        "    \"is_late\",\n",
        "    when(col(\"clock_in\").substr(12,5) > \"09:30\", 1).otherwise(0)\n",
        ")\n"
      ],
      "metadata": {
        "id": "iF-on_rJ4ARh"
      },
      "execution_count": 5,
      "outputs": []
    },
    {
      "cell_type": "code",
      "source": [
        "completed_tasks = tasks_df.filter(col(\"status\")==\"Completed\") \\\n",
        "                          .groupBy(\"employee_id\").agg(count(\"task_description\").alias(\"tasks_completed\"))\n"
      ],
      "metadata": {
        "id": "DCnBRvUd4H-W"
      },
      "execution_count": 6,
      "outputs": []
    },
    {
      "cell_type": "code",
      "source": [
        "final_df = attendance_df.join(completed_tasks, \"employee_id\", \"left\") \\\n",
        "                        .withColumn(\"tasks_completed\", when(col(\"tasks_completed\").isNull(), 0).otherwise(col(\"tasks_completed\")))\n",
        "\n",
        "final_df = final_df.withColumn(\"productivity\",\n",
        "                               when(col(\"work_hours\") > 0, col(\"tasks_completed\")/col(\"work_hours\")).otherwise(0))\n",
        "\n",
        "final_df.show()\n"
      ],
      "metadata": {
        "colab": {
          "base_uri": "https://localhost:8080/"
        },
        "id": "yMLoXBr24LCz",
        "outputId": "f26bc343-fffc-499e-acb0-e21f8222faef"
      },
      "execution_count": 7,
      "outputs": [
        {
          "output_type": "stream",
          "name": "stdout",
          "text": [
            "+-----------+-----+----------+-------------------+-------------------+-----------------+-------+---------------+-------------------+\n",
            "|employee_id| name|department|           clock_in|          clock_out|       work_hours|is_late|tasks_completed|       productivity|\n",
            "+-----------+-----+----------+-------------------+-------------------+-----------------+-------+---------------+-------------------+\n",
            "|          1| Arun|        HR|2025-07-21 09:00:00|2025-07-21 17:30:00|              8.5|      0|              6| 0.7058823529411765|\n",
            "|          2|Divya|        HR|2025-07-21 10:00:00|2025-07-21 16:30:00|              6.5|      1|              3|0.46153846153846156|\n",
            "|          3| Ravi|   Finance|2025-07-21 09:15:00|2025-07-21 17:00:00|             7.75|      0|              6| 0.7741935483870968|\n",
            "|          4|Manoj|   Finance|2025-07-21 09:30:00|2025-07-21 17:15:00|             7.75|      0|              6| 0.7741935483870968|\n",
            "|          5|Sneha|   Finance|2025-07-21 09:10:00|2025-07-21 17:00:00|7.833333333333333|      0|              4| 0.5106382978723405|\n",
            "|          6|Kiran|        IT|2025-07-21 09:05:00|2025-07-21 17:20:00|             8.25|      0|              6| 0.7272727272727273|\n",
            "|          7|Priya|        IT|2025-07-21 10:10:00|2025-07-21 16:40:00|              6.5|      1|              6| 0.9230769230769231|\n",
            "|          8| Anil|        IT|2025-07-21 09:20:00|2025-07-21 17:05:00|             7.75|      0|              6| 0.7741935483870968|\n",
            "|          9|Deepa|        IT|2025-07-21 09:40:00|2025-07-21 16:50:00|7.166666666666667|      1|              3|0.41860465116279066|\n",
            "|         10| Ajay|        HR|2025-07-21 09:00:00|2025-07-21 17:30:00|              8.5|      0|              6| 0.7058823529411765|\n",
            "|          1| Arun|        HR|2025-07-22 09:00:00|2025-07-22 17:30:00|              8.5|      0|              6| 0.7058823529411765|\n",
            "|          2|Divya|        HR|2025-07-22 10:00:00|2025-07-22 16:00:00|              6.0|      1|              3|                0.5|\n",
            "|          3| Ravi|   Finance|2025-07-22 09:30:00|2025-07-22 16:30:00|              7.0|      0|              6| 0.8571428571428571|\n",
            "|          4|Manoj|   Finance|2025-07-22 09:25:00|2025-07-22 17:15:00|7.833333333333333|      0|              6| 0.7659574468085106|\n",
            "|          5|Sneha|   Finance|2025-07-22 09:15:00|2025-07-22 16:55:00|7.666666666666667|      0|              4| 0.5217391304347826|\n",
            "|          7|Priya|        IT|2025-07-22 10:00:00|2025-07-22 16:30:00|              6.5|      1|              6| 0.9230769230769231|\n",
            "|          8| Anil|        IT|2025-07-22 09:30:00|2025-07-22 17:00:00|              7.5|      0|              6|                0.8|\n",
            "|          9|Deepa|        IT|2025-07-22 09:40:00|2025-07-22 16:40:00|              7.0|      1|              3|0.42857142857142855|\n",
            "|          1| Arun|        HR|2025-07-23 09:00:00|2025-07-23 17:45:00|             8.75|      0|              6| 0.6857142857142857|\n",
            "|          3| Ravi|   Finance|2025-07-23 09:20:00|2025-07-23 17:00:00|7.666666666666667|      0|              6| 0.7826086956521738|\n",
            "+-----------+-----+----------+-------------------+-------------------+-----------------+-------+---------------+-------------------+\n",
            "only showing top 20 rows\n",
            "\n"
          ]
        }
      ]
    },
    {
      "cell_type": "code",
      "source": [
        "dept_summary = final_df.groupBy(\"department\").agg(\n",
        "    round(avg(\"work_hours\"),2).alias(\"avg_hours\"),\n",
        "    round(avg(\"is_late\"),2).alias(\"late_rate\"),\n",
        "    round(avg(\"tasks_completed\"),2).alias(\"avg_tasks\"),\n",
        "    round(avg(\"productivity\"),2).alias(\"avg_productivity\")\n",
        ")\n",
        "\n",
        "dept_summary.show()\n"
      ],
      "metadata": {
        "colab": {
          "base_uri": "https://localhost:8080/"
        },
        "id": "cnZ2K5-34RXZ",
        "outputId": "82888b3e-a5cc-4b43-dace-7fd35b55d51d"
      },
      "execution_count": 8,
      "outputs": [
        {
          "output_type": "stream",
          "name": "stdout",
          "text": [
            "+----------+---------+---------+---------+----------------+\n",
            "|department|avg_hours|late_rate|avg_tasks|avg_productivity|\n",
            "+----------+---------+---------+---------+----------------+\n",
            "|        HR|      7.9|     0.29|     5.14|            0.64|\n",
            "|   Finance|     7.66|     0.12|     5.29|            0.69|\n",
            "|        IT|     7.34|      0.5|     5.33|            0.73|\n",
            "+----------+---------+---------+---------+----------------+\n",
            "\n"
          ]
        }
      ]
    },
    {
      "cell_type": "code",
      "source": [
        "\n",
        "import shutil\n",
        "shutil.rmtree(\"department_summary.csv\", ignore_errors=True)\n",
        "dept_summary.toPandas().to_csv(\"department_summary.csv\", index=False)\n",
        "\n",
        "from google.colab import files\n",
        "files.download(\"department_summary.csv\")\n"
      ],
      "metadata": {
        "colab": {
          "base_uri": "https://localhost:8080/",
          "height": 17
        },
        "id": "0Pb6eEPZ4aSs",
        "outputId": "25f95876-4dde-4442-8419-fd24fecb2813"
      },
      "execution_count": 9,
      "outputs": [
        {
          "output_type": "display_data",
          "data": {
            "text/plain": [
              "<IPython.core.display.Javascript object>"
            ],
            "application/javascript": [
              "\n",
              "    async function download(id, filename, size) {\n",
              "      if (!google.colab.kernel.accessAllowed) {\n",
              "        return;\n",
              "      }\n",
              "      const div = document.createElement('div');\n",
              "      const label = document.createElement('label');\n",
              "      label.textContent = `Downloading \"${filename}\": `;\n",
              "      div.appendChild(label);\n",
              "      const progress = document.createElement('progress');\n",
              "      progress.max = size;\n",
              "      div.appendChild(progress);\n",
              "      document.body.appendChild(div);\n",
              "\n",
              "      const buffers = [];\n",
              "      let downloaded = 0;\n",
              "\n",
              "      const channel = await google.colab.kernel.comms.open(id);\n",
              "      // Send a message to notify the kernel that we're ready.\n",
              "      channel.send({})\n",
              "\n",
              "      for await (const message of channel.messages) {\n",
              "        // Send a message to notify the kernel that we're ready.\n",
              "        channel.send({})\n",
              "        if (message.buffers) {\n",
              "          for (const buffer of message.buffers) {\n",
              "            buffers.push(buffer);\n",
              "            downloaded += buffer.byteLength;\n",
              "            progress.value = downloaded;\n",
              "          }\n",
              "        }\n",
              "      }\n",
              "      const blob = new Blob(buffers, {type: 'application/binary'});\n",
              "      const a = document.createElement('a');\n",
              "      a.href = window.URL.createObjectURL(blob);\n",
              "      a.download = filename;\n",
              "      div.appendChild(a);\n",
              "      a.click();\n",
              "      div.remove();\n",
              "    }\n",
              "  "
            ]
          },
          "metadata": {}
        },
        {
          "output_type": "display_data",
          "data": {
            "text/plain": [
              "<IPython.core.display.Javascript object>"
            ],
            "application/javascript": [
              "download(\"download_4e6c80f3-2885-4ad8-a129-87dd790a5fc7\", \"department_summary.csv\", 130)"
            ]
          },
          "metadata": {}
        }
      ]
    }
  ]
}