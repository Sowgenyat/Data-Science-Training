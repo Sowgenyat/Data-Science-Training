{
  "nbformat": 4,
  "nbformat_minor": 0,
  "metadata": {
    "colab": {
      "provenance": []
    },
    "kernelspec": {
      "name": "python3",
      "display_name": "Python 3"
    },
    "language_info": {
      "name": "python"
    }
  },
  "cells": [
    {
      "cell_type": "code",
      "execution_count": 1,
      "metadata": {
        "id": "k0C0Q_ztFrR9"
      },
      "outputs": [],
      "source": [
        "from pyspark.sql import SparkSession\n",
        "spark = SparkSession.builder.appName(\"EmployeeAttendanceAnalysis\").getOrCreate()\n",
        "\n"
      ]
    },
    {
      "cell_type": "code",
      "source": [
        "from google.colab import files\n",
        "uploaded = files.upload()"
      ],
      "metadata": {
        "colab": {
          "base_uri": "https://localhost:8080/",
          "height": 73
        },
        "id": "nkphz1biGH5w",
        "outputId": "a1fdf1bb-ecbe-41ff-fea4-118da94f135f"
      },
      "execution_count": 4,
      "outputs": [
        {
          "output_type": "display_data",
          "data": {
            "text/plain": [
              "<IPython.core.display.HTML object>"
            ],
            "text/html": [
              "\n",
              "     <input type=\"file\" id=\"files-ad6aa52c-1a9e-4f16-9dee-5212b1ec95e1\" name=\"files[]\" multiple disabled\n",
              "        style=\"border:none\" />\n",
              "     <output id=\"result-ad6aa52c-1a9e-4f16-9dee-5212b1ec95e1\">\n",
              "      Upload widget is only available when the cell has been executed in the\n",
              "      current browser session. Please rerun this cell to enable.\n",
              "      </output>\n",
              "      <script>// Copyright 2017 Google LLC\n",
              "//\n",
              "// Licensed under the Apache License, Version 2.0 (the \"License\");\n",
              "// you may not use this file except in compliance with the License.\n",
              "// You may obtain a copy of the License at\n",
              "//\n",
              "//      http://www.apache.org/licenses/LICENSE-2.0\n",
              "//\n",
              "// Unless required by applicable law or agreed to in writing, software\n",
              "// distributed under the License is distributed on an \"AS IS\" BASIS,\n",
              "// WITHOUT WARRANTIES OR CONDITIONS OF ANY KIND, either express or implied.\n",
              "// See the License for the specific language governing permissions and\n",
              "// limitations under the License.\n",
              "\n",
              "/**\n",
              " * @fileoverview Helpers for google.colab Python module.\n",
              " */\n",
              "(function(scope) {\n",
              "function span(text, styleAttributes = {}) {\n",
              "  const element = document.createElement('span');\n",
              "  element.textContent = text;\n",
              "  for (const key of Object.keys(styleAttributes)) {\n",
              "    element.style[key] = styleAttributes[key];\n",
              "  }\n",
              "  return element;\n",
              "}\n",
              "\n",
              "// Max number of bytes which will be uploaded at a time.\n",
              "const MAX_PAYLOAD_SIZE = 100 * 1024;\n",
              "\n",
              "function _uploadFiles(inputId, outputId) {\n",
              "  const steps = uploadFilesStep(inputId, outputId);\n",
              "  const outputElement = document.getElementById(outputId);\n",
              "  // Cache steps on the outputElement to make it available for the next call\n",
              "  // to uploadFilesContinue from Python.\n",
              "  outputElement.steps = steps;\n",
              "\n",
              "  return _uploadFilesContinue(outputId);\n",
              "}\n",
              "\n",
              "// This is roughly an async generator (not supported in the browser yet),\n",
              "// where there are multiple asynchronous steps and the Python side is going\n",
              "// to poll for completion of each step.\n",
              "// This uses a Promise to block the python side on completion of each step,\n",
              "// then passes the result of the previous step as the input to the next step.\n",
              "function _uploadFilesContinue(outputId) {\n",
              "  const outputElement = document.getElementById(outputId);\n",
              "  const steps = outputElement.steps;\n",
              "\n",
              "  const next = steps.next(outputElement.lastPromiseValue);\n",
              "  return Promise.resolve(next.value.promise).then((value) => {\n",
              "    // Cache the last promise value to make it available to the next\n",
              "    // step of the generator.\n",
              "    outputElement.lastPromiseValue = value;\n",
              "    return next.value.response;\n",
              "  });\n",
              "}\n",
              "\n",
              "/**\n",
              " * Generator function which is called between each async step of the upload\n",
              " * process.\n",
              " * @param {string} inputId Element ID of the input file picker element.\n",
              " * @param {string} outputId Element ID of the output display.\n",
              " * @return {!Iterable<!Object>} Iterable of next steps.\n",
              " */\n",
              "function* uploadFilesStep(inputId, outputId) {\n",
              "  const inputElement = document.getElementById(inputId);\n",
              "  inputElement.disabled = false;\n",
              "\n",
              "  const outputElement = document.getElementById(outputId);\n",
              "  outputElement.innerHTML = '';\n",
              "\n",
              "  const pickedPromise = new Promise((resolve) => {\n",
              "    inputElement.addEventListener('change', (e) => {\n",
              "      resolve(e.target.files);\n",
              "    });\n",
              "  });\n",
              "\n",
              "  const cancel = document.createElement('button');\n",
              "  inputElement.parentElement.appendChild(cancel);\n",
              "  cancel.textContent = 'Cancel upload';\n",
              "  const cancelPromise = new Promise((resolve) => {\n",
              "    cancel.onclick = () => {\n",
              "      resolve(null);\n",
              "    };\n",
              "  });\n",
              "\n",
              "  // Wait for the user to pick the files.\n",
              "  const files = yield {\n",
              "    promise: Promise.race([pickedPromise, cancelPromise]),\n",
              "    response: {\n",
              "      action: 'starting',\n",
              "    }\n",
              "  };\n",
              "\n",
              "  cancel.remove();\n",
              "\n",
              "  // Disable the input element since further picks are not allowed.\n",
              "  inputElement.disabled = true;\n",
              "\n",
              "  if (!files) {\n",
              "    return {\n",
              "      response: {\n",
              "        action: 'complete',\n",
              "      }\n",
              "    };\n",
              "  }\n",
              "\n",
              "  for (const file of files) {\n",
              "    const li = document.createElement('li');\n",
              "    li.append(span(file.name, {fontWeight: 'bold'}));\n",
              "    li.append(span(\n",
              "        `(${file.type || 'n/a'}) - ${file.size} bytes, ` +\n",
              "        `last modified: ${\n",
              "            file.lastModifiedDate ? file.lastModifiedDate.toLocaleDateString() :\n",
              "                                    'n/a'} - `));\n",
              "    const percent = span('0% done');\n",
              "    li.appendChild(percent);\n",
              "\n",
              "    outputElement.appendChild(li);\n",
              "\n",
              "    const fileDataPromise = new Promise((resolve) => {\n",
              "      const reader = new FileReader();\n",
              "      reader.onload = (e) => {\n",
              "        resolve(e.target.result);\n",
              "      };\n",
              "      reader.readAsArrayBuffer(file);\n",
              "    });\n",
              "    // Wait for the data to be ready.\n",
              "    let fileData = yield {\n",
              "      promise: fileDataPromise,\n",
              "      response: {\n",
              "        action: 'continue',\n",
              "      }\n",
              "    };\n",
              "\n",
              "    // Use a chunked sending to avoid message size limits. See b/62115660.\n",
              "    let position = 0;\n",
              "    do {\n",
              "      const length = Math.min(fileData.byteLength - position, MAX_PAYLOAD_SIZE);\n",
              "      const chunk = new Uint8Array(fileData, position, length);\n",
              "      position += length;\n",
              "\n",
              "      const base64 = btoa(String.fromCharCode.apply(null, chunk));\n",
              "      yield {\n",
              "        response: {\n",
              "          action: 'append',\n",
              "          file: file.name,\n",
              "          data: base64,\n",
              "        },\n",
              "      };\n",
              "\n",
              "      let percentDone = fileData.byteLength === 0 ?\n",
              "          100 :\n",
              "          Math.round((position / fileData.byteLength) * 100);\n",
              "      percent.textContent = `${percentDone}% done`;\n",
              "\n",
              "    } while (position < fileData.byteLength);\n",
              "  }\n",
              "\n",
              "  // All done.\n",
              "  yield {\n",
              "    response: {\n",
              "      action: 'complete',\n",
              "    }\n",
              "  };\n",
              "}\n",
              "\n",
              "scope.google = scope.google || {};\n",
              "scope.google.colab = scope.google.colab || {};\n",
              "scope.google.colab._files = {\n",
              "  _uploadFiles,\n",
              "  _uploadFilesContinue,\n",
              "};\n",
              "})(self);\n",
              "</script> "
            ]
          },
          "metadata": {}
        },
        {
          "output_type": "stream",
          "name": "stdout",
          "text": [
            "Saving attendance.csv to attendance.csv\n"
          ]
        }
      ]
    },
    {
      "cell_type": "code",
      "source": [
        "from pyspark.sql.functions import col, to_timestamp, hour, avg,minute\n",
        "df = spark.read.csv(\"attendance.csv\", header=True, inferSchema=True)\n",
        "df = df.withColumn(\"clock_in\", to_timestamp(\"clock_in\")).withColumn(\"clock_out\", to_timestamp(\"clock_out\"))\n",
        "df = df.withColumn(\"work_hours\", (col(\"clock_out\").cast(\"long\") - col(\"clock_in\").cast(\"long\")) / 3600)\n",
        "df.show()\n"
      ],
      "metadata": {
        "colab": {
          "base_uri": "https://localhost:8080/"
        },
        "id": "iRwth_IxGExN",
        "outputId": "0d5b945e-27a1-44a1-9459-6a0727a8ca82"
      },
      "execution_count": 5,
      "outputs": [
        {
          "output_type": "stream",
          "name": "stdout",
          "text": [
            "+-----------+-----+----------+-------------------+-------------------+-----------------+\n",
            "|employee_id| name|department|           clock_in|          clock_out|       work_hours|\n",
            "+-----------+-----+----------+-------------------+-------------------+-----------------+\n",
            "|          1| Arun|        HR|2025-07-21 09:00:00|2025-07-21 17:30:00|              8.5|\n",
            "|          2|Divya|        HR|2025-07-21 10:00:00|2025-07-21 16:30:00|              6.5|\n",
            "|          3| Ravi|   Finance|2025-07-21 09:15:00|2025-07-21 17:00:00|             7.75|\n",
            "|          4|Manoj|   Finance|2025-07-21 09:30:00|2025-07-21 17:15:00|             7.75|\n",
            "|          5|Sneha|   Finance|2025-07-21 09:10:00|2025-07-21 17:00:00|7.833333333333333|\n",
            "|          6|Kiran|        IT|2025-07-21 09:05:00|2025-07-21 17:20:00|             8.25|\n",
            "|          7|Priya|        IT|2025-07-21 10:10:00|2025-07-21 16:40:00|              6.5|\n",
            "|          8| Anil|        IT|2025-07-21 09:20:00|2025-07-21 17:05:00|             7.75|\n",
            "|          9|Deepa|        IT|2025-07-21 09:40:00|2025-07-21 16:50:00|7.166666666666667|\n",
            "|         10| Ajay|        HR|2025-07-21 09:00:00|2025-07-21 17:30:00|              8.5|\n",
            "|          1| Arun|        HR|2025-07-22 09:00:00|2025-07-22 17:30:00|              8.5|\n",
            "|          2|Divya|        HR|2025-07-22 10:00:00|2025-07-22 16:00:00|              6.0|\n",
            "|          3| Ravi|   Finance|2025-07-22 09:30:00|2025-07-22 16:30:00|              7.0|\n",
            "|          4|Manoj|   Finance|2025-07-22 09:25:00|2025-07-22 17:15:00|7.833333333333333|\n",
            "|          5|Sneha|   Finance|2025-07-22 09:15:00|2025-07-22 16:55:00|7.666666666666667|\n",
            "|          7|Priya|        IT|2025-07-22 10:00:00|2025-07-22 16:30:00|              6.5|\n",
            "|          8| Anil|        IT|2025-07-22 09:30:00|2025-07-22 17:00:00|              7.5|\n",
            "|          9|Deepa|        IT|2025-07-22 09:40:00|2025-07-22 16:40:00|              7.0|\n",
            "|          1| Arun|        HR|2025-07-23 09:00:00|2025-07-23 17:45:00|             8.75|\n",
            "|          3| Ravi|   Finance|2025-07-23 09:20:00|2025-07-23 17:00:00|7.666666666666667|\n",
            "+-----------+-----+----------+-------------------+-------------------+-----------------+\n",
            "only showing top 20 rows\n",
            "\n"
          ]
        }
      ]
    },
    {
      "cell_type": "code",
      "source": [
        "df = df.withColumn(\"login_hour\", hour(\"clock_in\")).withColumn(\"login_minute\", minute(\"clock_in\"))\n",
        "late_logins = df.filter((col(\"login_hour\") > 9) | ((col(\"login_hour\") == 9) & (col(\"login_minute\") > 30)))\n",
        "late_logins.select(\"employee_id\", \"name\", \"clock_in\").show()\n"
      ],
      "metadata": {
        "colab": {
          "base_uri": "https://localhost:8080/"
        },
        "id": "7QoYbjUGGoDc",
        "outputId": "fb91fc9e-abd9-4881-ce48-453505c03c83"
      },
      "execution_count": 6,
      "outputs": [
        {
          "output_type": "stream",
          "name": "stdout",
          "text": [
            "+-----------+-----+-------------------+\n",
            "|employee_id| name|           clock_in|\n",
            "+-----------+-----+-------------------+\n",
            "|          2|Divya|2025-07-21 10:00:00|\n",
            "|          7|Priya|2025-07-21 10:10:00|\n",
            "|          9|Deepa|2025-07-21 09:40:00|\n",
            "|          2|Divya|2025-07-22 10:00:00|\n",
            "|          7|Priya|2025-07-22 10:00:00|\n",
            "|          9|Deepa|2025-07-22 09:40:00|\n",
            "|          4|Manoj|2025-07-23 09:40:00|\n",
            "|          7|Priya|2025-07-23 09:50:00|\n",
            "|          2|Divya|2025-07-24 10:00:00|\n",
            "|          7|Priya|2025-07-24 10:10:00|\n",
            "|          9|Deepa|2025-07-24 09:40:00|\n",
            "|          4|Manoj|2025-07-25 09:40:00|\n",
            "|          7|Priya|2025-07-25 10:10:00|\n",
            "|          2|Divya|2025-07-26 10:00:00|\n",
            "|          9|Deepa|2025-07-26 09:40:00|\n",
            "+-----------+-----+-------------------+\n",
            "\n"
          ]
        }
      ]
    },
    {
      "cell_type": "code",
      "source": [
        "from pyspark.sql.functions import when, count\n",
        "df = df.withColumn(\"is_late\", when((col(\"login_hour\") > 9) | ((col(\"login_hour\") == 9) & (col(\"login_minute\") > 30)), 1).otherwise(0))\n",
        "df = df.withColumn(\"work_hours\", (col(\"clock_out\").cast(\"long\") - col(\"clock_in\").cast(\"long\")) / 3600)\n",
        "dept_summary = df.groupBy(\"department\").agg(\n",
        "    count(\"employee_id\").alias(\"total_logs\"),\n",
        "    avg(\"work_hours\").alias(\"avg_work_hours\"),\n",
        "    avg(\"is_late\").alias(\"late_login_rate\")\n",
        ")\n",
        "print(\"\\nAttendance Issues by Department:\")\n",
        "dept_summary.show(truncate=False)"
      ],
      "metadata": {
        "colab": {
          "base_uri": "https://localhost:8080/"
        },
        "id": "3Vh8edUJIPlv",
        "outputId": "8d3d1801-7109-4c26-b4e4-7e26b6aaf25a"
      },
      "execution_count": 7,
      "outputs": [
        {
          "output_type": "stream",
          "name": "stdout",
          "text": [
            "\n",
            "Attendance Issues by Department:\n",
            "+----------+----------+-----------------+-------------------+\n",
            "|department|total_logs|avg_work_hours   |late_login_rate    |\n",
            "+----------+----------+-----------------+-------------------+\n",
            "|HR        |14        |7.904761904761904|0.2857142857142857 |\n",
            "|Finance   |17        |7.656862745098039|0.11764705882352941|\n",
            "|IT        |18        |7.337962962962964|0.5                |\n",
            "+----------+----------+-----------------+-------------------+\n",
            "\n"
          ]
        }
      ]
    },
    {
      "cell_type": "code",
      "source": [],
      "metadata": {
        "id": "5rQLLY49JBK0"
      },
      "execution_count": 7,
      "outputs": []
    }
  ]
}